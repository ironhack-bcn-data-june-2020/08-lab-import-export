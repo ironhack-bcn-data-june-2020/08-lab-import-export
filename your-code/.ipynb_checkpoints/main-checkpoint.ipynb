{
 "cells": [
  {
   "cell_type": "markdown",
   "metadata": {},
   "source": [
    "# Before your start:\n",
    "- Read the README.md file\n",
    "- Comment as much as you can and use the resources in the README.md file\n",
    "- Happy learning!"
   ]
  },
  {
   "cell_type": "markdown",
   "metadata": {},
   "source": [
    "# Challenge 1 - Working with JSON files\n",
    "\n",
    "Import the pandas library"
   ]
  },
  {
   "cell_type": "code",
   "execution_count": 2,
   "metadata": {},
   "outputs": [],
   "source": [
    "# Your import here:\n",
    "\n",
    "import pandas as pd"
   ]
  },
  {
   "cell_type": "markdown",
   "metadata": {},
   "source": [
    "####  After importing pandas, let's find a dataset. In this lesson we will be working with a NASA dataset.\n",
    "\n",
    "Run the code in the cell below to load the dataset containing information about asteroids that have landed on earth. This piece of code helps us open the URL for the dataset and deocde the data using UTF-8."
   ]
  },
  {
   "cell_type": "code",
   "execution_count": 3,
   "metadata": {},
   "outputs": [],
   "source": [
    "# Run this code\n",
    "\n",
    "from urllib.request import urlopen\n",
    "import json\n",
    "\n",
    "response = urlopen(\"https://data.nasa.gov/resource/y77d-th95.json\")\n",
    "json_data = response.read().decode('utf-8', 'replace')\n",
    "#print(json_data)"
   ]
  },
  {
   "cell_type": "markdown",
   "metadata": {},
   "source": [
    "In the next cell, load the data in `json_data` and load it into a pandas dataframe. Name the dataframe `nasa`."
   ]
  },
  {
   "cell_type": "code",
   "execution_count": 4,
   "metadata": {},
   "outputs": [
    {
     "name": "stdout",
     "output_type": "stream",
     "text": [
      "          name     id nametype               recclass      mass  fall  \\\n",
      "0       Aachen      1    Valid                     L5      21.0  Fell   \n",
      "1       Aarhus      2    Valid                     H6     720.0  Fell   \n",
      "2         Abee      6    Valid                    EH4  107000.0  Fell   \n",
      "3     Acapulco     10    Valid            Acapulcoite    1914.0  Fell   \n",
      "4      Achiras    370    Valid                     L6     780.0  Fell   \n",
      "..         ...    ...      ...                    ...       ...   ...   \n",
      "995   Tirupati  24009    Valid                     H6     230.0  Fell   \n",
      "996    Tissint  54823    Valid  Martian (shergottite)    7000.0  Fell   \n",
      "997      Tjabe  24011    Valid                     H6   20000.0  Fell   \n",
      "998   Tjerebon  24012    Valid                     L5   16500.0  Fell   \n",
      "999  Tomakovka  24019    Valid                    LL6     600.0  Fell   \n",
      "\n",
      "                        year    reclat    reclong  \\\n",
      "0    1880-01-01T00:00:00.000  50.77500    6.08333   \n",
      "1    1951-01-01T00:00:00.000  56.18333   10.23333   \n",
      "2    1952-01-01T00:00:00.000  54.21667 -113.00000   \n",
      "3    1976-01-01T00:00:00.000  16.88333  -99.90000   \n",
      "4    1902-01-01T00:00:00.000 -33.16667  -64.95000   \n",
      "..                       ...       ...        ...   \n",
      "995  1934-01-01T00:00:00.000  13.63333   79.41667   \n",
      "996  2011-01-01T00:00:00.000  29.48195   -7.61123   \n",
      "997  1869-01-01T00:00:00.000  -7.08333  111.53333   \n",
      "998  1922-01-01T00:00:00.000  -6.66667  106.58333   \n",
      "999  1905-01-01T00:00:00.000  47.85000   34.76667   \n",
      "\n",
      "                                           geolocation  \\\n",
      "0    {'type': 'Point', 'coordinates': [6.08333, 50....   \n",
      "1    {'type': 'Point', 'coordinates': [10.23333, 56...   \n",
      "2    {'type': 'Point', 'coordinates': [-113, 54.216...   \n",
      "3    {'type': 'Point', 'coordinates': [-99.9, 16.88...   \n",
      "4    {'type': 'Point', 'coordinates': [-64.95, -33....   \n",
      "..                                                 ...   \n",
      "995  {'type': 'Point', 'coordinates': [79.41667, 13...   \n",
      "996  {'type': 'Point', 'coordinates': [-7.61123, 29...   \n",
      "997  {'type': 'Point', 'coordinates': [111.53333, -...   \n",
      "998  {'type': 'Point', 'coordinates': [106.58333, -...   \n",
      "999  {'type': 'Point', 'coordinates': [34.76667, 47...   \n",
      "\n",
      "     :@computed_region_cbhk_fwbd  :@computed_region_nnqa_25f4  \n",
      "0                            NaN                          NaN  \n",
      "1                            NaN                          NaN  \n",
      "2                            NaN                          NaN  \n",
      "3                            NaN                          NaN  \n",
      "4                            NaN                          NaN  \n",
      "..                           ...                          ...  \n",
      "995                          NaN                          NaN  \n",
      "996                          NaN                          NaN  \n",
      "997                          NaN                          NaN  \n",
      "998                          NaN                          NaN  \n",
      "999                          NaN                          NaN  \n",
      "\n",
      "[1000 rows x 12 columns]\n"
     ]
    }
   ],
   "source": [
    "# Your code here:\n",
    "nasa = pd.read_json(json_data)\n",
    "print(nasa)"
   ]
  },
  {
   "cell_type": "markdown",
   "metadata": {},
   "source": [
    "Now that we have loaded the data, let's examine it using the `head()` function."
   ]
  },
  {
   "cell_type": "code",
   "execution_count": 5,
   "metadata": {},
   "outputs": [
    {
     "name": "stdout",
     "output_type": "stream",
     "text": [
      "       name   id nametype     recclass      mass  fall  \\\n",
      "0    Aachen    1    Valid           L5      21.0  Fell   \n",
      "1    Aarhus    2    Valid           H6     720.0  Fell   \n",
      "2      Abee    6    Valid          EH4  107000.0  Fell   \n",
      "3  Acapulco   10    Valid  Acapulcoite    1914.0  Fell   \n",
      "4   Achiras  370    Valid           L6     780.0  Fell   \n",
      "\n",
      "                      year    reclat    reclong  \\\n",
      "0  1880-01-01T00:00:00.000  50.77500    6.08333   \n",
      "1  1951-01-01T00:00:00.000  56.18333   10.23333   \n",
      "2  1952-01-01T00:00:00.000  54.21667 -113.00000   \n",
      "3  1976-01-01T00:00:00.000  16.88333  -99.90000   \n",
      "4  1902-01-01T00:00:00.000 -33.16667  -64.95000   \n",
      "\n",
      "                                         geolocation  \\\n",
      "0  {'type': 'Point', 'coordinates': [6.08333, 50....   \n",
      "1  {'type': 'Point', 'coordinates': [10.23333, 56...   \n",
      "2  {'type': 'Point', 'coordinates': [-113, 54.216...   \n",
      "3  {'type': 'Point', 'coordinates': [-99.9, 16.88...   \n",
      "4  {'type': 'Point', 'coordinates': [-64.95, -33....   \n",
      "\n",
      "   :@computed_region_cbhk_fwbd  :@computed_region_nnqa_25f4  \n",
      "0                          NaN                          NaN  \n",
      "1                          NaN                          NaN  \n",
      "2                          NaN                          NaN  \n",
      "3                          NaN                          NaN  \n",
      "4                          NaN                          NaN  \n"
     ]
    }
   ],
   "source": [
    "# Your code here:\n",
    "print(nasa.head())"
   ]
  },
  {
   "cell_type": "markdown",
   "metadata": {},
   "source": [
    "#### The `value_counts()` function is commonly used in pandas to find the frequency of every value in a column.\n",
    "\n",
    "In the cell below, use the `value_counts()` function to determine the frequency of all types of asteroid landings by applying the function to the `fall` column."
   ]
  },
  {
   "cell_type": "code",
   "execution_count": 6,
   "metadata": {},
   "outputs": [
    {
     "name": "stdout",
     "output_type": "stream",
     "text": [
      "Fell     996\n",
      "Found      4\n",
      "Name: fall, dtype: int64\n"
     ]
    }
   ],
   "source": [
    "# Your code here:\n",
    "fall_value = nasa['fall'].value_counts()\n",
    "print(fall_value)"
   ]
  },
  {
   "cell_type": "markdown",
   "metadata": {},
   "source": [
    "Finally, let's save the dataframe as a json file again. Since we downloaded the file from an online source, the goal of saving the dataframe is to have a local copy. Save the dataframe using the `orient=records` argument and name the file `nasa.json`."
   ]
  },
  {
   "cell_type": "code",
   "execution_count": 7,
   "metadata": {},
   "outputs": [
    {
     "name": "stdout",
     "output_type": "stream",
     "text": [
      "          name     id nametype               recclass      mass  fall  \\\n",
      "0       Aachen      1    Valid                     L5      21.0  Fell   \n",
      "1       Aarhus      2    Valid                     H6     720.0  Fell   \n",
      "2         Abee      6    Valid                    EH4  107000.0  Fell   \n",
      "3     Acapulco     10    Valid            Acapulcoite    1914.0  Fell   \n",
      "4      Achiras    370    Valid                     L6     780.0  Fell   \n",
      "..         ...    ...      ...                    ...       ...   ...   \n",
      "995   Tirupati  24009    Valid                     H6     230.0  Fell   \n",
      "996    Tissint  54823    Valid  Martian (shergottite)    7000.0  Fell   \n",
      "997      Tjabe  24011    Valid                     H6   20000.0  Fell   \n",
      "998   Tjerebon  24012    Valid                     L5   16500.0  Fell   \n",
      "999  Tomakovka  24019    Valid                    LL6     600.0  Fell   \n",
      "\n",
      "                        year    reclat    reclong  \\\n",
      "0    1880-01-01T00:00:00.000  50.77500    6.08333   \n",
      "1    1951-01-01T00:00:00.000  56.18333   10.23333   \n",
      "2    1952-01-01T00:00:00.000  54.21667 -113.00000   \n",
      "3    1976-01-01T00:00:00.000  16.88333  -99.90000   \n",
      "4    1902-01-01T00:00:00.000 -33.16667  -64.95000   \n",
      "..                       ...       ...        ...   \n",
      "995  1934-01-01T00:00:00.000  13.63333   79.41667   \n",
      "996  2011-01-01T00:00:00.000  29.48195   -7.61123   \n",
      "997  1869-01-01T00:00:00.000  -7.08333  111.53333   \n",
      "998  1922-01-01T00:00:00.000  -6.66667  106.58333   \n",
      "999  1905-01-01T00:00:00.000  47.85000   34.76667   \n",
      "\n",
      "                                           geolocation  \\\n",
      "0    {'type': 'Point', 'coordinates': [6.08333, 50....   \n",
      "1    {'type': 'Point', 'coordinates': [10.23333, 56...   \n",
      "2    {'type': 'Point', 'coordinates': [-113, 54.216...   \n",
      "3    {'type': 'Point', 'coordinates': [-99.9, 16.88...   \n",
      "4    {'type': 'Point', 'coordinates': [-64.95, -33....   \n",
      "..                                                 ...   \n",
      "995  {'type': 'Point', 'coordinates': [79.41667, 13...   \n",
      "996  {'type': 'Point', 'coordinates': [-7.61123, 29...   \n",
      "997  {'type': 'Point', 'coordinates': [111.53333, -...   \n",
      "998  {'type': 'Point', 'coordinates': [106.58333, -...   \n",
      "999  {'type': 'Point', 'coordinates': [34.76667, 47...   \n",
      "\n",
      "     :@computed_region_cbhk_fwbd  :@computed_region_nnqa_25f4  \n",
      "0                            NaN                          NaN  \n",
      "1                            NaN                          NaN  \n",
      "2                            NaN                          NaN  \n",
      "3                            NaN                          NaN  \n",
      "4                            NaN                          NaN  \n",
      "..                           ...                          ...  \n",
      "995                          NaN                          NaN  \n",
      "996                          NaN                          NaN  \n",
      "997                          NaN                          NaN  \n",
      "998                          NaN                          NaN  \n",
      "999                          NaN                          NaN  \n",
      "\n",
      "[1000 rows x 12 columns]\n"
     ]
    }
   ],
   "source": [
    "import pandas as pd\n",
    "# Your code here:\n",
    "#nasa.to_jason('file1.json', orient='records', compression = 'infer')\n",
    "nasa.to_json('file.json', orient = 'split', compression = 'infer', index = 'true') \n",
    "#Para abrir el archivo\n",
    "#df = pd.read_json('file1.json', orient='split', compression = 'infer')\n",
    "df = pd.read_json('file.json', orient ='split', compression = 'infer') \n",
    "\n",
    "print(df)"
   ]
  },
  {
   "cell_type": "markdown",
   "metadata": {},
   "source": [
    "# Challenge 2 - Working with CSV and Other Separated Files\n",
    "\n",
    "csv files are more commonly used as dataframes. In the cell below, load the file from the URL provided using the `read_csv()` function in pandas. Starting version 0.19 of pandas, you can load a csv file into a dataframe directly from a URL without having to load the file first like we did with the JSON URL. The dataset we will be using contains informtaions about NASA shuttles. \n",
    "\n",
    "In the cell below, we define the column names and the URL of the data. Following this cell, read the tst file to a variable called `shuttle`. Since the file does not contain the column names, you must add them yourself using the column names declared in `cols` using the `names` argument. Additionally, a tst file is space separated, make sure you pass ` sep=' '` to the function."
   ]
  },
  {
   "cell_type": "code",
   "execution_count": 8,
   "metadata": {},
   "outputs": [],
   "source": [
    "# Run this code:\n",
    "\n",
    "cols = ['time', 'rad_flow', 'fpv_close', 'fpv_open', 'high', 'bypass', 'bpv_close', 'bpv_open', 'class']\n",
    "tst_url = 'https://archive.ics.uci.edu/ml/machine-learning-databases/statlog/shuttle/shuttle.tst'"
   ]
  },
  {
   "cell_type": "code",
   "execution_count": 9,
   "metadata": {},
   "outputs": [
    {
     "name": "stdout",
     "output_type": "stream",
     "text": [
      "       time  rad_flow  fpv_close  fpv_open  high  bypass  bpv_close  bpv_open  \\\n",
      "0       NaN       NaN        NaN       NaN   NaN     NaN        NaN       NaN   \n",
      "1       NaN       NaN        NaN       NaN   NaN     NaN        NaN       NaN   \n",
      "2       NaN       NaN        NaN       NaN   NaN     NaN        NaN       NaN   \n",
      "3       NaN       NaN        NaN       NaN   NaN     NaN        NaN       NaN   \n",
      "4       NaN       NaN        NaN       NaN   NaN     NaN        NaN       NaN   \n",
      "...     ...       ...        ...       ...   ...     ...        ...       ...   \n",
      "14494   NaN       NaN        NaN       NaN   NaN     NaN        NaN       NaN   \n",
      "14495   NaN       NaN        NaN       NaN   NaN     NaN        NaN       NaN   \n",
      "14496   NaN       NaN        NaN       NaN   NaN     NaN        NaN       NaN   \n",
      "14497   NaN       NaN        NaN       NaN   NaN     NaN        NaN       NaN   \n",
      "14498   NaN       NaN        NaN       NaN   NaN     NaN        NaN       NaN   \n",
      "\n",
      "       class  \n",
      "0        NaN  \n",
      "1        NaN  \n",
      "2        NaN  \n",
      "3        NaN  \n",
      "4        NaN  \n",
      "...      ...  \n",
      "14494    NaN  \n",
      "14495    NaN  \n",
      "14496    NaN  \n",
      "14497    NaN  \n",
      "14498    NaN  \n",
      "\n",
      "[14499 rows x 9 columns]\n"
     ]
    }
   ],
   "source": [
    "# Your code here:\n",
    "#shuttle = pd.read_csv(tst_url, sep=' ')\n",
    "#df = pd.DataFrame(shuttle)\n",
    "#shuttle(columns = cols)\n",
    "shuttle = pd.DataFrame(pd.read_csv(tst_url, sep=' '), columns = cols)\n",
    "print(shuttle)"
   ]
  },
  {
   "cell_type": "markdown",
   "metadata": {},
   "source": [
    "Let's verify that this worked by looking at the `head()` function."
   ]
  },
  {
   "cell_type": "code",
   "execution_count": 10,
   "metadata": {},
   "outputs": [
    {
     "name": "stdout",
     "output_type": "stream",
     "text": [
      "   time  rad_flow  fpv_close  fpv_open  high  bypass  bpv_close  bpv_open  \\\n",
      "0   NaN       NaN        NaN       NaN   NaN     NaN        NaN       NaN   \n",
      "1   NaN       NaN        NaN       NaN   NaN     NaN        NaN       NaN   \n",
      "2   NaN       NaN        NaN       NaN   NaN     NaN        NaN       NaN   \n",
      "3   NaN       NaN        NaN       NaN   NaN     NaN        NaN       NaN   \n",
      "4   NaN       NaN        NaN       NaN   NaN     NaN        NaN       NaN   \n",
      "\n",
      "   class  \n",
      "0    NaN  \n",
      "1    NaN  \n",
      "2    NaN  \n",
      "3    NaN  \n",
      "4    NaN  \n"
     ]
    }
   ],
   "source": [
    "# Your code here:\n",
    "print(shuttle.head())"
   ]
  },
  {
   "cell_type": "markdown",
   "metadata": {},
   "source": [
    "To make life easier for us, let's turn this dataframe into a comma separated file by saving it using the `to_csv()` function. Save `shuttle` into the file `shuttle.csv` and ensure the file is comma separated and that we are not saving the index column."
   ]
  },
  {
   "cell_type": "code",
   "execution_count": 11,
   "metadata": {},
   "outputs": [
    {
     "data": {
      "text/html": [
       "<div>\n",
       "<style scoped>\n",
       "    .dataframe tbody tr th:only-of-type {\n",
       "        vertical-align: middle;\n",
       "    }\n",
       "\n",
       "    .dataframe tbody tr th {\n",
       "        vertical-align: top;\n",
       "    }\n",
       "\n",
       "    .dataframe thead th {\n",
       "        text-align: right;\n",
       "    }\n",
       "</style>\n",
       "<table border=\"1\" class=\"dataframe\">\n",
       "  <thead>\n",
       "    <tr style=\"text-align: right;\">\n",
       "      <th></th>\n",
       "      <th>time</th>\n",
       "      <th>rad_flow</th>\n",
       "      <th>fpv_close</th>\n",
       "      <th>fpv_open</th>\n",
       "      <th>high</th>\n",
       "      <th>bypass</th>\n",
       "      <th>bpv_close</th>\n",
       "      <th>bpv_open</th>\n",
       "      <th>class</th>\n",
       "    </tr>\n",
       "  </thead>\n",
       "  <tbody>\n",
       "    <tr>\n",
       "      <th>0</th>\n",
       "      <td>NaN</td>\n",
       "      <td>NaN</td>\n",
       "      <td>NaN</td>\n",
       "      <td>NaN</td>\n",
       "      <td>NaN</td>\n",
       "      <td>NaN</td>\n",
       "      <td>NaN</td>\n",
       "      <td>NaN</td>\n",
       "      <td>NaN</td>\n",
       "    </tr>\n",
       "    <tr>\n",
       "      <th>1</th>\n",
       "      <td>NaN</td>\n",
       "      <td>NaN</td>\n",
       "      <td>NaN</td>\n",
       "      <td>NaN</td>\n",
       "      <td>NaN</td>\n",
       "      <td>NaN</td>\n",
       "      <td>NaN</td>\n",
       "      <td>NaN</td>\n",
       "      <td>NaN</td>\n",
       "    </tr>\n",
       "    <tr>\n",
       "      <th>2</th>\n",
       "      <td>NaN</td>\n",
       "      <td>NaN</td>\n",
       "      <td>NaN</td>\n",
       "      <td>NaN</td>\n",
       "      <td>NaN</td>\n",
       "      <td>NaN</td>\n",
       "      <td>NaN</td>\n",
       "      <td>NaN</td>\n",
       "      <td>NaN</td>\n",
       "    </tr>\n",
       "    <tr>\n",
       "      <th>3</th>\n",
       "      <td>NaN</td>\n",
       "      <td>NaN</td>\n",
       "      <td>NaN</td>\n",
       "      <td>NaN</td>\n",
       "      <td>NaN</td>\n",
       "      <td>NaN</td>\n",
       "      <td>NaN</td>\n",
       "      <td>NaN</td>\n",
       "      <td>NaN</td>\n",
       "    </tr>\n",
       "    <tr>\n",
       "      <th>4</th>\n",
       "      <td>NaN</td>\n",
       "      <td>NaN</td>\n",
       "      <td>NaN</td>\n",
       "      <td>NaN</td>\n",
       "      <td>NaN</td>\n",
       "      <td>NaN</td>\n",
       "      <td>NaN</td>\n",
       "      <td>NaN</td>\n",
       "      <td>NaN</td>\n",
       "    </tr>\n",
       "    <tr>\n",
       "      <th>...</th>\n",
       "      <td>...</td>\n",
       "      <td>...</td>\n",
       "      <td>...</td>\n",
       "      <td>...</td>\n",
       "      <td>...</td>\n",
       "      <td>...</td>\n",
       "      <td>...</td>\n",
       "      <td>...</td>\n",
       "      <td>...</td>\n",
       "    </tr>\n",
       "    <tr>\n",
       "      <th>14494</th>\n",
       "      <td>NaN</td>\n",
       "      <td>NaN</td>\n",
       "      <td>NaN</td>\n",
       "      <td>NaN</td>\n",
       "      <td>NaN</td>\n",
       "      <td>NaN</td>\n",
       "      <td>NaN</td>\n",
       "      <td>NaN</td>\n",
       "      <td>NaN</td>\n",
       "    </tr>\n",
       "    <tr>\n",
       "      <th>14495</th>\n",
       "      <td>NaN</td>\n",
       "      <td>NaN</td>\n",
       "      <td>NaN</td>\n",
       "      <td>NaN</td>\n",
       "      <td>NaN</td>\n",
       "      <td>NaN</td>\n",
       "      <td>NaN</td>\n",
       "      <td>NaN</td>\n",
       "      <td>NaN</td>\n",
       "    </tr>\n",
       "    <tr>\n",
       "      <th>14496</th>\n",
       "      <td>NaN</td>\n",
       "      <td>NaN</td>\n",
       "      <td>NaN</td>\n",
       "      <td>NaN</td>\n",
       "      <td>NaN</td>\n",
       "      <td>NaN</td>\n",
       "      <td>NaN</td>\n",
       "      <td>NaN</td>\n",
       "      <td>NaN</td>\n",
       "    </tr>\n",
       "    <tr>\n",
       "      <th>14497</th>\n",
       "      <td>NaN</td>\n",
       "      <td>NaN</td>\n",
       "      <td>NaN</td>\n",
       "      <td>NaN</td>\n",
       "      <td>NaN</td>\n",
       "      <td>NaN</td>\n",
       "      <td>NaN</td>\n",
       "      <td>NaN</td>\n",
       "      <td>NaN</td>\n",
       "    </tr>\n",
       "    <tr>\n",
       "      <th>14498</th>\n",
       "      <td>NaN</td>\n",
       "      <td>NaN</td>\n",
       "      <td>NaN</td>\n",
       "      <td>NaN</td>\n",
       "      <td>NaN</td>\n",
       "      <td>NaN</td>\n",
       "      <td>NaN</td>\n",
       "      <td>NaN</td>\n",
       "      <td>NaN</td>\n",
       "    </tr>\n",
       "  </tbody>\n",
       "</table>\n",
       "<p>14499 rows × 9 columns</p>\n",
       "</div>"
      ],
      "text/plain": [
       "       time  rad_flow  fpv_close  fpv_open  high  bypass  bpv_close  bpv_open  \\\n",
       "0       NaN       NaN        NaN       NaN   NaN     NaN        NaN       NaN   \n",
       "1       NaN       NaN        NaN       NaN   NaN     NaN        NaN       NaN   \n",
       "2       NaN       NaN        NaN       NaN   NaN     NaN        NaN       NaN   \n",
       "3       NaN       NaN        NaN       NaN   NaN     NaN        NaN       NaN   \n",
       "4       NaN       NaN        NaN       NaN   NaN     NaN        NaN       NaN   \n",
       "...     ...       ...        ...       ...   ...     ...        ...       ...   \n",
       "14494   NaN       NaN        NaN       NaN   NaN     NaN        NaN       NaN   \n",
       "14495   NaN       NaN        NaN       NaN   NaN     NaN        NaN       NaN   \n",
       "14496   NaN       NaN        NaN       NaN   NaN     NaN        NaN       NaN   \n",
       "14497   NaN       NaN        NaN       NaN   NaN     NaN        NaN       NaN   \n",
       "14498   NaN       NaN        NaN       NaN   NaN     NaN        NaN       NaN   \n",
       "\n",
       "       class  \n",
       "0        NaN  \n",
       "1        NaN  \n",
       "2        NaN  \n",
       "3        NaN  \n",
       "4        NaN  \n",
       "...      ...  \n",
       "14494    NaN  \n",
       "14495    NaN  \n",
       "14496    NaN  \n",
       "14497    NaN  \n",
       "14498    NaN  \n",
       "\n",
       "[14499 rows x 9 columns]"
      ]
     },
     "execution_count": 11,
     "metadata": {},
     "output_type": "execute_result"
    }
   ],
   "source": [
    "# Your code here:\n",
    "shuttle.to_csv('shuttle.csv', index=False, sep=',')\n",
    "pd.read_csv('shuttle.csv')"
   ]
  },
  {
   "cell_type": "markdown",
   "metadata": {},
   "source": [
    "# Challenge 3 - Working with Excel Files\n",
    "\n",
    "We can also use pandas to convert excel spreadsheets to dataframes. Let's use the `read_excel()` function. In this case, `astronauts.xls` is in the same folder that contains this notebook. Read this file into a variable called `astronaut`. \n",
    "\n",
    "Note: Make sure to install the `xlrd` library if it is not yet installed."
   ]
  },
  {
   "cell_type": "code",
   "execution_count": 12,
   "metadata": {},
   "outputs": [
    {
     "name": "stdout",
     "output_type": "stream",
     "text": [
      "                      Name    Year  Group   Status Birth Date  \\\n",
      "0          Joseph M. Acaba  2004.0   19.0   Active 1967-05-17   \n",
      "1           Loren W. Acton     NaN    NaN  Retired 1936-03-07   \n",
      "2         James C. Adamson  1984.0   10.0  Retired 1946-03-03   \n",
      "3          Thomas D. Akers  1987.0   12.0  Retired 1951-05-20   \n",
      "4              Buzz Aldrin  1963.0    3.0  Retired 1930-01-20   \n",
      "..                     ...     ...    ...      ...        ...   \n",
      "352          David A. Wolf  1990.0   13.0  Retired 1956-08-23   \n",
      "353  Neil W. Woodward III   1998.0   17.0  Retired 1962-07-26   \n",
      "354       Alfred M. Worden  1966.0    5.0  Retired 1932-02-07   \n",
      "355          John W. Young  1962.0    2.0  Retired 1930-09-24   \n",
      "356        George D. Zamka  1998.0   17.0  Retired 1962-06-29   \n",
      "\n",
      "           Birth Place Gender  \\\n",
      "0        Inglewood, CA   Male   \n",
      "1         Lewiston, MT   Male   \n",
      "2           Warsaw, NY   Male   \n",
      "3        St. Louis, MO   Male   \n",
      "4        Montclair, NJ   Male   \n",
      "..                 ...    ...   \n",
      "352   Indianapolis, IN   Male   \n",
      "353        Chicago, IL   Male   \n",
      "354        Jackson, MI   Male   \n",
      "355  San Francisco, CA   Male   \n",
      "356    Jersey City, NJ   Male   \n",
      "\n",
      "                                            Alma Mater  \\\n",
      "0    University of California-Santa Barbara; Univer...   \n",
      "1     Montana State University; University of Colorado   \n",
      "2            US Military Academy; Princeton University   \n",
      "3                         University of Missouri-Rolla   \n",
      "4                             US Military Academy; MIT   \n",
      "..                                                 ...   \n",
      "352              Purdue University; Indiana University   \n",
      "353  MIT; University of Texas-Austin; George Washin...   \n",
      "354        US Military Academy; University of Michigan   \n",
      "355                    Georgia Institute of Technology   \n",
      "356  US Naval Academy; Florida Institute of Technology   \n",
      "\n",
      "          Undergraduate Major                            Graduate Major  \\\n",
      "0                     Geology                                   Geology   \n",
      "1         Engineering Physics                             Solar Physics   \n",
      "2                 Engineering                     Aerospace Engineering   \n",
      "3         Applied Mathematics                       Applied Mathematics   \n",
      "4      Mechanical Engineering                              Astronautics   \n",
      "..                        ...                                       ...   \n",
      "352    Electrical Engineering                                  Medicine   \n",
      "353                   Physics              Physics; Business Management   \n",
      "354          Military Science  Aeronautical & Astronautical Engineering   \n",
      "355  Aeronautical Engineering                                       NaN   \n",
      "356               Mathematics                    Engineering Management   \n",
      "\n",
      "    Military Rank            Military Branch  Space Flights  \\\n",
      "0             NaN                        NaN              2   \n",
      "1             NaN                        NaN              1   \n",
      "2         Colonel          US Army (Retired)              2   \n",
      "3         Colonel     US Air Force (Retired)              4   \n",
      "4         Colonel     US Air Force (Retired)              2   \n",
      "..            ...                        ...            ...   \n",
      "352           NaN                        NaN              3   \n",
      "353     Commander                    US Navy              0   \n",
      "354       Colonel     US Air Force (Retired)              1   \n",
      "355       Captain          US Navy (Retired)              6   \n",
      "356       Colonel  US Marine Corps (Retired)              2   \n",
      "\n",
      "     Space Flight (hr)  Space Walks  Space Walks (hr)  \\\n",
      "0                 3307            2              13.0   \n",
      "1                  190            0               0.0   \n",
      "2                  334            0               0.0   \n",
      "3                  814            4              29.0   \n",
      "4                  289            2               8.0   \n",
      "..                 ...          ...               ...   \n",
      "352               4044            7              41.0   \n",
      "353                  0            0               0.0   \n",
      "354                295            1               0.5   \n",
      "355                835            3              20.0   \n",
      "356                692            0               0.0   \n",
      "\n",
      "                                              Missions Death Date  \\\n",
      "0               STS-119 (Discovery), ISS-31/32 (Soyuz)        NaT   \n",
      "1                                STS 51-F (Challenger)        NaT   \n",
      "2                 STS-28 (Columbia), STS-43 (Atlantis)        NaT   \n",
      "3    STS-41 (Discovery), STS-49 (Endeavor), STS-61 ...        NaT   \n",
      "4                                 Gemini 12, Apollo 11        NaT   \n",
      "..                                                 ...        ...   \n",
      "352  STS-58 (Columbia). STS-86/89 (Atlantis/Endeavo...        NaT   \n",
      "353                                                NaN        NaT   \n",
      "354                                          Apollo 15        NaT   \n",
      "355  Gemini 3, Gemini 10, Apollo 10, Apollo 16, STS...        NaT   \n",
      "356            STS-120 (Discovery), STS-130 (Endeavor)        NaT   \n",
      "\n",
      "    Death Mission  \n",
      "0             NaN  \n",
      "1             NaN  \n",
      "2             NaN  \n",
      "3             NaN  \n",
      "4             NaN  \n",
      "..            ...  \n",
      "352           NaN  \n",
      "353           NaN  \n",
      "354           NaN  \n",
      "355           NaN  \n",
      "356           NaN  \n",
      "\n",
      "[357 rows x 19 columns]\n"
     ]
    }
   ],
   "source": [
    "# Your code here:\n",
    "astronaut = pd.read_excel(\"astronauts.xls\")\n",
    "print(astronaut)"
   ]
  },
  {
   "cell_type": "markdown",
   "metadata": {},
   "source": [
    "Use the `head()` function to inspect the dataframe."
   ]
  },
  {
   "cell_type": "code",
   "execution_count": 13,
   "metadata": {},
   "outputs": [
    {
     "name": "stdout",
     "output_type": "stream",
     "text": [
      "               Name    Year  Group   Status Birth Date    Birth Place Gender  \\\n",
      "0   Joseph M. Acaba  2004.0   19.0   Active 1967-05-17  Inglewood, CA   Male   \n",
      "1    Loren W. Acton     NaN    NaN  Retired 1936-03-07   Lewiston, MT   Male   \n",
      "2  James C. Adamson  1984.0   10.0  Retired 1946-03-03     Warsaw, NY   Male   \n",
      "3   Thomas D. Akers  1987.0   12.0  Retired 1951-05-20  St. Louis, MO   Male   \n",
      "4       Buzz Aldrin  1963.0    3.0  Retired 1930-01-20  Montclair, NJ   Male   \n",
      "\n",
      "                                          Alma Mater     Undergraduate Major  \\\n",
      "0  University of California-Santa Barbara; Univer...                 Geology   \n",
      "1   Montana State University; University of Colorado     Engineering Physics   \n",
      "2          US Military Academy; Princeton University             Engineering   \n",
      "3                       University of Missouri-Rolla     Applied Mathematics   \n",
      "4                           US Military Academy; MIT  Mechanical Engineering   \n",
      "\n",
      "          Graduate Major Military Rank         Military Branch  Space Flights  \\\n",
      "0                Geology           NaN                     NaN              2   \n",
      "1          Solar Physics           NaN                     NaN              1   \n",
      "2  Aerospace Engineering       Colonel       US Army (Retired)              2   \n",
      "3    Applied Mathematics       Colonel  US Air Force (Retired)              4   \n",
      "4           Astronautics       Colonel  US Air Force (Retired)              2   \n",
      "\n",
      "   Space Flight (hr)  Space Walks  Space Walks (hr)  \\\n",
      "0               3307            2              13.0   \n",
      "1                190            0               0.0   \n",
      "2                334            0               0.0   \n",
      "3                814            4              29.0   \n",
      "4                289            2               8.0   \n",
      "\n",
      "                                            Missions Death Date Death Mission  \n",
      "0             STS-119 (Discovery), ISS-31/32 (Soyuz)        NaT           NaN  \n",
      "1                              STS 51-F (Challenger)        NaT           NaN  \n",
      "2               STS-28 (Columbia), STS-43 (Atlantis)        NaT           NaN  \n",
      "3  STS-41 (Discovery), STS-49 (Endeavor), STS-61 ...        NaT           NaN  \n",
      "4                               Gemini 12, Apollo 11        NaT           NaN  \n"
     ]
    }
   ],
   "source": [
    "# Your code here:\n",
    "print(astronaut.head())"
   ]
  },
  {
   "cell_type": "markdown",
   "metadata": {},
   "source": [
    "Use the `value_counts()` function to find the most popular undergraduate major among all astronauts."
   ]
  },
  {
   "cell_type": "code",
   "execution_count": 14,
   "metadata": {},
   "outputs": [
    {
     "data": {
      "text/plain": [
       "Name                 Year    Group  Status    Birth Date  Birth Place      Gender  Alma Mater                                                              Undergraduate Major     Graduate Major                              Military Rank       Military Branch  Space Flights  Space Flight (hr)  Space Walks  Space Walks (hr)  Missions                                     Death Date  Death Mission        \n",
       "William C. McCool    1996.0  16.0   Deceased  1961-09-23  San Diego, CA    Male    US Naval Academy; University of Maryland; US Naval Postgraduate School  Naval Sciences          Computer Science; Aeronautical Engineering  Commander           US Navy          1              382                0            0.0               STS-107 (Columbia)                           2003-02-01  STS-107 (Columbia)       1\n",
       "Rick D. Husband      1995.0  15.0   Deceased  1957-07-12  Amarillo, TX     Male    Texas Tech University; California State University                      Mechanical Engineering  Mechanical Engineering                      Colonel             US Air Force     2              617                0            0.0               STS-96 (Discovery), STS-107 (Columbia)       2003-02-01  STS-107 (Columbia)       1\n",
       "Michael P. Anderson  1995.0  15.0   Deceased  1959-12-25  Plattsburgh, NY  Male    University of Washington; Creighton University                          Physics & Astronomy     Physics                                     Lieutenant Colonel  US Air Force     2              594                0            0.0               STS-89 (Endeavor), STS-107 (Columbia)        2003-02-01  STS-107 (Columbia)       1\n",
       "Michael J. Smith     1980.0  9.0    Deceased  1945-04-30  Beaufort, NC     Male    US Naval Academy; US Naval Postgraduate School                          Naval Sciences          Aeronautical Engineering                    Captain             US Navy          1              0                  0            0.0               STS 51-L (Challenger)                        1986-01-28  STS 51-L (Challenger)    1\n",
       "Laurel B. Clark      1996.0  16.0   Deceased  1961-03-10  Ames, IA         Female  University of Wisconsin-Madison                                         Zoology                 Medicine                                    Captain             US Navy          1              382                0            0.0               STS-107 (Columbia)                           2003-02-01  STS-107 (Columbia)       1\n",
       "Ellison S. Onizuka   1978.0  8.0    Deceased  1946-06-24  Kealakekua, HI   Male    University of Colorado                                                  Aerospace Engineering   Aerospace Engineering                       Lieutenant Colonel  US Air Force     2              73                 0            0.0               STS 51-C (Discovery), STS 51-L (Challenger)  1986-01-28  STS 51-L (Challenger)    1\n",
       "David M. Brown       1996.0  16.0   Deceased  1956-04-16  Arlington, VA    Male    College of William & Mary; Eastern Virginia Medical School              Biology                 Medicine                                    Captain             US Navy          1              382                0            0.0               STS-107 (Columbia)                           2003-02-01  STS-107 (Columbia)       1\n",
       "dtype: int64"
      ]
     },
     "execution_count": 14,
     "metadata": {},
     "output_type": "execute_result"
    }
   ],
   "source": [
    "# Your code here:\n",
    "astronaut.value_counts()"
   ]
  },
  {
   "cell_type": "markdown",
   "metadata": {},
   "source": [
    "Due to all the commas present in the cells of this file, let's save it as a tab separated csv file. In the cell below, save `astronaut` as a tab separated file using the `to_csv` function. Call the file `astronaut.csv` and remember to remove the index column."
   ]
  },
  {
   "cell_type": "code",
   "execution_count": 19,
   "metadata": {},
   "outputs": [
    {
     "name": "stdout",
     "output_type": "stream",
     "text": [
      "None\n"
     ]
    }
   ],
   "source": [
    "# Your code here:\n",
    "astronaut.to_csv('astronaut.csv', sep='\\t', index=False)"
   ]
  },
  {
   "cell_type": "markdown",
   "metadata": {},
   "source": [
    "# Bonus Challenge - Fertility Dataset\n",
    "\n",
    "Visit the following [URL](https://archive.ics.uci.edu/ml/datasets/Fertility) and retrieve the dataset as well as the column headers. Determine the correct separator and read the file into a variable called `fertility`. Examine the dataframe using the `head()` function."
   ]
  },
  {
   "cell_type": "code",
   "execution_count": 16,
   "metadata": {},
   "outputs": [],
   "source": [
    "# Your code here:\n",
    "\n"
   ]
  },
  {
   "cell_type": "code",
   "execution_count": null,
   "metadata": {},
   "outputs": [],
   "source": []
  }
 ],
 "metadata": {
  "kernelspec": {
   "display_name": "Python 3",
   "language": "python",
   "name": "python3"
  },
  "language_info": {
   "codemirror_mode": {
    "name": "ipython",
    "version": 3
   },
   "file_extension": ".py",
   "mimetype": "text/x-python",
   "name": "python",
   "nbconvert_exporter": "python",
   "pygments_lexer": "ipython3",
   "version": "3.8.5"
  },
  "toc": {
   "base_numbering": 1,
   "nav_menu": {},
   "number_sections": true,
   "sideBar": true,
   "skip_h1_title": false,
   "title_cell": "Table of Contents",
   "title_sidebar": "Contents",
   "toc_cell": false,
   "toc_position": {},
   "toc_section_display": true,
   "toc_window_display": false
  },
  "varInspector": {
   "cols": {
    "lenName": 16,
    "lenType": 16,
    "lenVar": 40
   },
   "kernels_config": {
    "python": {
     "delete_cmd_postfix": "",
     "delete_cmd_prefix": "del ",
     "library": "var_list.py",
     "varRefreshCmd": "print(var_dic_list())"
    },
    "r": {
     "delete_cmd_postfix": ") ",
     "delete_cmd_prefix": "rm(",
     "library": "var_list.r",
     "varRefreshCmd": "cat(var_dic_list()) "
    }
   },
   "types_to_exclude": [
    "module",
    "function",
    "builtin_function_or_method",
    "instance",
    "_Feature"
   ],
   "window_display": false
  }
 },
 "nbformat": 4,
 "nbformat_minor": 2
}
