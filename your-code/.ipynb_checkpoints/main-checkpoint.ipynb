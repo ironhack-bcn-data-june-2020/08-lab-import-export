{
 "cells": [
  {
   "cell_type": "markdown",
   "metadata": {},
   "source": [
    "# Before your start:\n",
    "- Read the README.md file\n",
    "- Comment as much as you can and use the resources in the README.md file\n",
    "- Happy learning!"
   ]
  },
  {
   "cell_type": "markdown",
   "metadata": {},
   "source": [
    "# Challenge 1 - Working with JSON files\n",
    "\n",
    "Import the pandas library"
   ]
  },
  {
   "cell_type": "code",
   "execution_count": 1,
   "metadata": {},
   "outputs": [],
   "source": [
    "import pandas as pd\n"
   ]
  },
  {
   "cell_type": "markdown",
   "metadata": {},
   "source": [
    "####  After importing pandas, let's find a dataset. In this lesson we will be working with a NASA dataset.\n",
    "\n",
    "Run the code in the cell below to load the dataset containing information about asteroids that have landed on earth. This piece of code helps us open the URL for the dataset and deocde the data using UTF-8."
   ]
  },
  {
   "cell_type": "code",
   "execution_count": 8,
   "metadata": {},
   "outputs": [],
   "source": [
    "from urllib.request import urlopen\n",
    "import json\n",
    "\n",
    "response = urlopen(\"https://data.nasa.gov/resource/y77d-th95.json\")\n",
    "json_data = response.read().decode('utf-8', 'replace')"
   ]
  },
  {
   "cell_type": "markdown",
   "metadata": {},
   "source": [
    "In the next cell, load the data in `json_data` and load it into a pandas dataframe. Name the dataframe `nasa`."
   ]
  },
  {
   "cell_type": "code",
   "execution_count": 9,
   "metadata": {},
   "outputs": [],
   "source": [
    "nasa = pd.read_json(json_data)\n",
    "\n"
   ]
  },
  {
   "cell_type": "markdown",
   "metadata": {},
   "source": [
    "Now that we have loaded the data, let's examine it using the `head()` function."
   ]
  },
  {
   "cell_type": "code",
   "execution_count": 13,
   "metadata": {},
   "outputs": [
    {
     "data": {
      "text/html": [
       "<div>\n",
       "<style scoped>\n",
       "    .dataframe tbody tr th:only-of-type {\n",
       "        vertical-align: middle;\n",
       "    }\n",
       "\n",
       "    .dataframe tbody tr th {\n",
       "        vertical-align: top;\n",
       "    }\n",
       "\n",
       "    .dataframe thead th {\n",
       "        text-align: right;\n",
       "    }\n",
       "</style>\n",
       "<table border=\"1\" class=\"dataframe\">\n",
       "  <thead>\n",
       "    <tr style=\"text-align: right;\">\n",
       "      <th></th>\n",
       "      <th>name</th>\n",
       "      <th>id</th>\n",
       "      <th>nametype</th>\n",
       "      <th>recclass</th>\n",
       "      <th>mass</th>\n",
       "      <th>fall</th>\n",
       "      <th>year</th>\n",
       "      <th>reclat</th>\n",
       "      <th>reclong</th>\n",
       "      <th>geolocation</th>\n",
       "      <th>:@computed_region_cbhk_fwbd</th>\n",
       "      <th>:@computed_region_nnqa_25f4</th>\n",
       "    </tr>\n",
       "  </thead>\n",
       "  <tbody>\n",
       "    <tr>\n",
       "      <th>0</th>\n",
       "      <td>Aachen</td>\n",
       "      <td>1</td>\n",
       "      <td>Valid</td>\n",
       "      <td>L5</td>\n",
       "      <td>21.0</td>\n",
       "      <td>Fell</td>\n",
       "      <td>1880-01-01T00:00:00.000</td>\n",
       "      <td>50.77500</td>\n",
       "      <td>6.08333</td>\n",
       "      <td>{'type': 'Point', 'coordinates': [6.08333, 50....</td>\n",
       "      <td>NaN</td>\n",
       "      <td>NaN</td>\n",
       "    </tr>\n",
       "    <tr>\n",
       "      <th>1</th>\n",
       "      <td>Aarhus</td>\n",
       "      <td>2</td>\n",
       "      <td>Valid</td>\n",
       "      <td>H6</td>\n",
       "      <td>720.0</td>\n",
       "      <td>Fell</td>\n",
       "      <td>1951-01-01T00:00:00.000</td>\n",
       "      <td>56.18333</td>\n",
       "      <td>10.23333</td>\n",
       "      <td>{'type': 'Point', 'coordinates': [10.23333, 56...</td>\n",
       "      <td>NaN</td>\n",
       "      <td>NaN</td>\n",
       "    </tr>\n",
       "    <tr>\n",
       "      <th>2</th>\n",
       "      <td>Abee</td>\n",
       "      <td>6</td>\n",
       "      <td>Valid</td>\n",
       "      <td>EH4</td>\n",
       "      <td>107000.0</td>\n",
       "      <td>Fell</td>\n",
       "      <td>1952-01-01T00:00:00.000</td>\n",
       "      <td>54.21667</td>\n",
       "      <td>-113.00000</td>\n",
       "      <td>{'type': 'Point', 'coordinates': [-113, 54.216...</td>\n",
       "      <td>NaN</td>\n",
       "      <td>NaN</td>\n",
       "    </tr>\n",
       "    <tr>\n",
       "      <th>3</th>\n",
       "      <td>Acapulco</td>\n",
       "      <td>10</td>\n",
       "      <td>Valid</td>\n",
       "      <td>Acapulcoite</td>\n",
       "      <td>1914.0</td>\n",
       "      <td>Fell</td>\n",
       "      <td>1976-01-01T00:00:00.000</td>\n",
       "      <td>16.88333</td>\n",
       "      <td>-99.90000</td>\n",
       "      <td>{'type': 'Point', 'coordinates': [-99.9, 16.88...</td>\n",
       "      <td>NaN</td>\n",
       "      <td>NaN</td>\n",
       "    </tr>\n",
       "    <tr>\n",
       "      <th>4</th>\n",
       "      <td>Achiras</td>\n",
       "      <td>370</td>\n",
       "      <td>Valid</td>\n",
       "      <td>L6</td>\n",
       "      <td>780.0</td>\n",
       "      <td>Fell</td>\n",
       "      <td>1902-01-01T00:00:00.000</td>\n",
       "      <td>-33.16667</td>\n",
       "      <td>-64.95000</td>\n",
       "      <td>{'type': 'Point', 'coordinates': [-64.95, -33....</td>\n",
       "      <td>NaN</td>\n",
       "      <td>NaN</td>\n",
       "    </tr>\n",
       "  </tbody>\n",
       "</table>\n",
       "</div>"
      ],
      "text/plain": [
       "       name   id nametype     recclass      mass  fall  \\\n",
       "0    Aachen    1    Valid           L5      21.0  Fell   \n",
       "1    Aarhus    2    Valid           H6     720.0  Fell   \n",
       "2      Abee    6    Valid          EH4  107000.0  Fell   \n",
       "3  Acapulco   10    Valid  Acapulcoite    1914.0  Fell   \n",
       "4   Achiras  370    Valid           L6     780.0  Fell   \n",
       "\n",
       "                      year    reclat    reclong  \\\n",
       "0  1880-01-01T00:00:00.000  50.77500    6.08333   \n",
       "1  1951-01-01T00:00:00.000  56.18333   10.23333   \n",
       "2  1952-01-01T00:00:00.000  54.21667 -113.00000   \n",
       "3  1976-01-01T00:00:00.000  16.88333  -99.90000   \n",
       "4  1902-01-01T00:00:00.000 -33.16667  -64.95000   \n",
       "\n",
       "                                         geolocation  \\\n",
       "0  {'type': 'Point', 'coordinates': [6.08333, 50....   \n",
       "1  {'type': 'Point', 'coordinates': [10.23333, 56...   \n",
       "2  {'type': 'Point', 'coordinates': [-113, 54.216...   \n",
       "3  {'type': 'Point', 'coordinates': [-99.9, 16.88...   \n",
       "4  {'type': 'Point', 'coordinates': [-64.95, -33....   \n",
       "\n",
       "   :@computed_region_cbhk_fwbd  :@computed_region_nnqa_25f4  \n",
       "0                          NaN                          NaN  \n",
       "1                          NaN                          NaN  \n",
       "2                          NaN                          NaN  \n",
       "3                          NaN                          NaN  \n",
       "4                          NaN                          NaN  "
      ]
     },
     "execution_count": 13,
     "metadata": {},
     "output_type": "execute_result"
    }
   ],
   "source": [
    "nasa.head(n=5)\n",
    "\n",
    "#I only loaded 5 index, to make it shorter but to check that it's working\n"
   ]
  },
  {
   "cell_type": "markdown",
   "metadata": {},
   "source": [
    "#### The `value_counts()` function is commonly used in pandas to find the frequency of every value in a column.\n",
    "\n",
    "In the cell below, use the `value_counts()` function to determine the frequency of all types of asteroid landings by applying the function to the `fall` column."
   ]
  },
  {
   "cell_type": "code",
   "execution_count": 15,
   "metadata": {},
   "outputs": [
    {
     "data": {
      "text/plain": [
       "Fell     996\n",
       "Found      4\n",
       "Name: fall, dtype: int64"
      ]
     },
     "execution_count": 15,
     "metadata": {},
     "output_type": "execute_result"
    }
   ],
   "source": [
    "nasa['fall'].value_counts()\n",
    "\n"
   ]
  },
  {
   "cell_type": "markdown",
   "metadata": {},
   "source": [
    "Finally, let's save the dataframe as a json file again. Since we downloaded the file from an online source, the goal of saving the dataframe is to have a local copy. Save the dataframe using the `orient=records` argument and name the file `nasa.json`."
   ]
  },
  {
   "cell_type": "code",
   "execution_count": 21,
   "metadata": {},
   "outputs": [],
   "source": [
    "nasa.json = nasa.to_json(orient='records')\n",
    "\n",
    "# I don't know if this is right. There was already a nasa.json file in the repo, so I don't see another one created by me."
   ]
  },
  {
   "cell_type": "markdown",
   "metadata": {},
   "source": [
    "# Challenge 2 - Working with CSV and Other Separated Files\n",
    "\n",
    "csv files are more commonly used as dataframes. In the cell below, load the file from the URL provided using the `read_csv()` function in pandas. Starting version 0.19 of pandas, you can load a csv file into a dataframe directly from a URL without having to load the file first like we did with the JSON URL. The dataset we will be using contains informtaions about NASA shuttles. \n",
    "\n",
    "In the cell below, we define the column names and the URL of the data. Following this cell, read the tst file to a variable called `shuttle`. Since the file does not contain the column names, you must add them yourself using the column names declared in `cols` using the `names` argument. Additionally, a tst file is space separated, make sure you pass ` sep=' '` to the function."
   ]
  },
  {
   "cell_type": "code",
   "execution_count": 2,
   "metadata": {},
   "outputs": [],
   "source": [
    "# Run this code:\n",
    "\n",
    "cols = ['time', 'rad_flow', 'fpv_close', 'fpv_open', 'high', 'bypass', 'bpv_close', 'bpv_open', 'class']\n",
    "tst_url = 'https://archive.ics.uci.edu/ml/machine-learning-databases/statlog/shuttle/shuttle.tst'"
   ]
  },
  {
   "cell_type": "code",
   "execution_count": 12,
   "metadata": {},
   "outputs": [],
   "source": [
    "shuttle = pd.read_csv('https://archive.ics.uci.edu/ml/machine-learning-databases/statlog/shuttle/shuttle.tst', names=cols, sep=' ')"
   ]
  },
  {
   "cell_type": "markdown",
   "metadata": {},
   "source": [
    "Let's verify that this worked by looking at the `head()` function."
   ]
  },
  {
   "cell_type": "code",
   "execution_count": 13,
   "metadata": {},
   "outputs": [
    {
     "data": {
      "text/html": [
       "<div>\n",
       "<style scoped>\n",
       "    .dataframe tbody tr th:only-of-type {\n",
       "        vertical-align: middle;\n",
       "    }\n",
       "\n",
       "    .dataframe tbody tr th {\n",
       "        vertical-align: top;\n",
       "    }\n",
       "\n",
       "    .dataframe thead th {\n",
       "        text-align: right;\n",
       "    }\n",
       "</style>\n",
       "<table border=\"1\" class=\"dataframe\">\n",
       "  <thead>\n",
       "    <tr style=\"text-align: right;\">\n",
       "      <th></th>\n",
       "      <th>time</th>\n",
       "      <th>rad_flow</th>\n",
       "      <th>fpv_close</th>\n",
       "      <th>fpv_open</th>\n",
       "      <th>high</th>\n",
       "      <th>bypass</th>\n",
       "      <th>bpv_close</th>\n",
       "      <th>bpv_open</th>\n",
       "      <th>class</th>\n",
       "    </tr>\n",
       "  </thead>\n",
       "  <tbody>\n",
       "    <tr>\n",
       "      <th>55</th>\n",
       "      <td>0</td>\n",
       "      <td>81</td>\n",
       "      <td>0</td>\n",
       "      <td>-6</td>\n",
       "      <td>11</td>\n",
       "      <td>25</td>\n",
       "      <td>88</td>\n",
       "      <td>64</td>\n",
       "      <td>4</td>\n",
       "    </tr>\n",
       "    <tr>\n",
       "      <th>56</th>\n",
       "      <td>0</td>\n",
       "      <td>96</td>\n",
       "      <td>0</td>\n",
       "      <td>52</td>\n",
       "      <td>-4</td>\n",
       "      <td>40</td>\n",
       "      <td>44</td>\n",
       "      <td>4</td>\n",
       "      <td>4</td>\n",
       "    </tr>\n",
       "    <tr>\n",
       "      <th>50</th>\n",
       "      <td>-1</td>\n",
       "      <td>89</td>\n",
       "      <td>-7</td>\n",
       "      <td>50</td>\n",
       "      <td>0</td>\n",
       "      <td>39</td>\n",
       "      <td>40</td>\n",
       "      <td>2</td>\n",
       "      <td>1</td>\n",
       "    </tr>\n",
       "    <tr>\n",
       "      <th>53</th>\n",
       "      <td>9</td>\n",
       "      <td>79</td>\n",
       "      <td>0</td>\n",
       "      <td>42</td>\n",
       "      <td>-2</td>\n",
       "      <td>25</td>\n",
       "      <td>37</td>\n",
       "      <td>12</td>\n",
       "      <td>4</td>\n",
       "    </tr>\n",
       "    <tr>\n",
       "      <th>55</th>\n",
       "      <td>2</td>\n",
       "      <td>82</td>\n",
       "      <td>0</td>\n",
       "      <td>54</td>\n",
       "      <td>-6</td>\n",
       "      <td>26</td>\n",
       "      <td>28</td>\n",
       "      <td>2</td>\n",
       "      <td>1</td>\n",
       "    </tr>\n",
       "  </tbody>\n",
       "</table>\n",
       "</div>"
      ],
      "text/plain": [
       "    time  rad_flow  fpv_close  fpv_open  high  bypass  bpv_close  bpv_open  \\\n",
       "55     0        81          0        -6    11      25         88        64   \n",
       "56     0        96          0        52    -4      40         44         4   \n",
       "50    -1        89         -7        50     0      39         40         2   \n",
       "53     9        79          0        42    -2      25         37        12   \n",
       "55     2        82          0        54    -6      26         28         2   \n",
       "\n",
       "    class  \n",
       "55      4  \n",
       "56      4  \n",
       "50      1  \n",
       "53      4  \n",
       "55      1  "
      ]
     },
     "execution_count": 13,
     "metadata": {},
     "output_type": "execute_result"
    }
   ],
   "source": [
    "shuttle.head(n=5)\n"
   ]
  },
  {
   "cell_type": "markdown",
   "metadata": {},
   "source": [
    "To make life easier for us, let's turn this dataframe into a comma separated file by saving it using the `to_csv()` function. Save `shuttle` into the file `shuttle.csv` and ensure the file is comma separated and that we are not saving the index column."
   ]
  },
  {
   "cell_type": "code",
   "execution_count": 14,
   "metadata": {},
   "outputs": [],
   "source": [
    "shuttle.to_csv('shuttle.csv', index=False)\n",
    "\n",
    "# I checked it out in my computer. Shuttle.csv i saved."
   ]
  },
  {
   "cell_type": "markdown",
   "metadata": {},
   "source": [
    "# Challenge 3 - Working with Excel Files\n",
    "\n",
    "We can also use pandas to convert excel spreadsheets to dataframes. Let's use the `read_excel()` function. In this case, `astronauts.xls` is in the same folder that contains this notebook. Read this file into a variable called `astronaut`. \n",
    "\n",
    "Note: Make sure to install the `xlrd` library if it is not yet installed."
   ]
  },
  {
   "cell_type": "code",
   "execution_count": 37,
   "metadata": {},
   "outputs": [],
   "source": [
    "import xlrd"
   ]
  },
  {
   "cell_type": "code",
   "execution_count": 38,
   "metadata": {},
   "outputs": [],
   "source": [
    "astronaut = pd.read_excel('astronauts.xls')"
   ]
  },
  {
   "cell_type": "markdown",
   "metadata": {},
   "source": [
    "Use the `head()` function to inspect the dataframe."
   ]
  },
  {
   "cell_type": "code",
   "execution_count": 39,
   "metadata": {},
   "outputs": [
    {
     "data": {
      "text/html": [
       "<div>\n",
       "<style scoped>\n",
       "    .dataframe tbody tr th:only-of-type {\n",
       "        vertical-align: middle;\n",
       "    }\n",
       "\n",
       "    .dataframe tbody tr th {\n",
       "        vertical-align: top;\n",
       "    }\n",
       "\n",
       "    .dataframe thead th {\n",
       "        text-align: right;\n",
       "    }\n",
       "</style>\n",
       "<table border=\"1\" class=\"dataframe\">\n",
       "  <thead>\n",
       "    <tr style=\"text-align: right;\">\n",
       "      <th></th>\n",
       "      <th>Name</th>\n",
       "      <th>Year</th>\n",
       "      <th>Group</th>\n",
       "      <th>Status</th>\n",
       "      <th>Birth Date</th>\n",
       "      <th>Birth Place</th>\n",
       "      <th>Gender</th>\n",
       "      <th>Alma Mater</th>\n",
       "      <th>Undergraduate Major</th>\n",
       "      <th>Graduate Major</th>\n",
       "      <th>Military Rank</th>\n",
       "      <th>Military Branch</th>\n",
       "      <th>Space Flights</th>\n",
       "      <th>Space Flight (hr)</th>\n",
       "      <th>Space Walks</th>\n",
       "      <th>Space Walks (hr)</th>\n",
       "      <th>Missions</th>\n",
       "      <th>Death Date</th>\n",
       "      <th>Death Mission</th>\n",
       "    </tr>\n",
       "  </thead>\n",
       "  <tbody>\n",
       "    <tr>\n",
       "      <th>0</th>\n",
       "      <td>Joseph M. Acaba</td>\n",
       "      <td>2004.0</td>\n",
       "      <td>19.0</td>\n",
       "      <td>Active</td>\n",
       "      <td>1967-05-17</td>\n",
       "      <td>Inglewood, CA</td>\n",
       "      <td>Male</td>\n",
       "      <td>University of California-Santa Barbara; Univer...</td>\n",
       "      <td>Geology</td>\n",
       "      <td>Geology</td>\n",
       "      <td>NaN</td>\n",
       "      <td>NaN</td>\n",
       "      <td>2</td>\n",
       "      <td>3307</td>\n",
       "      <td>2</td>\n",
       "      <td>13.0</td>\n",
       "      <td>STS-119 (Discovery), ISS-31/32 (Soyuz)</td>\n",
       "      <td>NaT</td>\n",
       "      <td>NaN</td>\n",
       "    </tr>\n",
       "    <tr>\n",
       "      <th>1</th>\n",
       "      <td>Loren W. Acton</td>\n",
       "      <td>NaN</td>\n",
       "      <td>NaN</td>\n",
       "      <td>Retired</td>\n",
       "      <td>1936-03-07</td>\n",
       "      <td>Lewiston, MT</td>\n",
       "      <td>Male</td>\n",
       "      <td>Montana State University; University of Colorado</td>\n",
       "      <td>Engineering Physics</td>\n",
       "      <td>Solar Physics</td>\n",
       "      <td>NaN</td>\n",
       "      <td>NaN</td>\n",
       "      <td>1</td>\n",
       "      <td>190</td>\n",
       "      <td>0</td>\n",
       "      <td>0.0</td>\n",
       "      <td>STS 51-F (Challenger)</td>\n",
       "      <td>NaT</td>\n",
       "      <td>NaN</td>\n",
       "    </tr>\n",
       "    <tr>\n",
       "      <th>2</th>\n",
       "      <td>James C. Adamson</td>\n",
       "      <td>1984.0</td>\n",
       "      <td>10.0</td>\n",
       "      <td>Retired</td>\n",
       "      <td>1946-03-03</td>\n",
       "      <td>Warsaw, NY</td>\n",
       "      <td>Male</td>\n",
       "      <td>US Military Academy; Princeton University</td>\n",
       "      <td>Engineering</td>\n",
       "      <td>Aerospace Engineering</td>\n",
       "      <td>Colonel</td>\n",
       "      <td>US Army (Retired)</td>\n",
       "      <td>2</td>\n",
       "      <td>334</td>\n",
       "      <td>0</td>\n",
       "      <td>0.0</td>\n",
       "      <td>STS-28 (Columbia), STS-43 (Atlantis)</td>\n",
       "      <td>NaT</td>\n",
       "      <td>NaN</td>\n",
       "    </tr>\n",
       "    <tr>\n",
       "      <th>3</th>\n",
       "      <td>Thomas D. Akers</td>\n",
       "      <td>1987.0</td>\n",
       "      <td>12.0</td>\n",
       "      <td>Retired</td>\n",
       "      <td>1951-05-20</td>\n",
       "      <td>St. Louis, MO</td>\n",
       "      <td>Male</td>\n",
       "      <td>University of Missouri-Rolla</td>\n",
       "      <td>Applied Mathematics</td>\n",
       "      <td>Applied Mathematics</td>\n",
       "      <td>Colonel</td>\n",
       "      <td>US Air Force (Retired)</td>\n",
       "      <td>4</td>\n",
       "      <td>814</td>\n",
       "      <td>4</td>\n",
       "      <td>29.0</td>\n",
       "      <td>STS-41 (Discovery), STS-49 (Endeavor), STS-61 ...</td>\n",
       "      <td>NaT</td>\n",
       "      <td>NaN</td>\n",
       "    </tr>\n",
       "    <tr>\n",
       "      <th>4</th>\n",
       "      <td>Buzz Aldrin</td>\n",
       "      <td>1963.0</td>\n",
       "      <td>3.0</td>\n",
       "      <td>Retired</td>\n",
       "      <td>1930-01-20</td>\n",
       "      <td>Montclair, NJ</td>\n",
       "      <td>Male</td>\n",
       "      <td>US Military Academy; MIT</td>\n",
       "      <td>Mechanical Engineering</td>\n",
       "      <td>Astronautics</td>\n",
       "      <td>Colonel</td>\n",
       "      <td>US Air Force (Retired)</td>\n",
       "      <td>2</td>\n",
       "      <td>289</td>\n",
       "      <td>2</td>\n",
       "      <td>8.0</td>\n",
       "      <td>Gemini 12, Apollo 11</td>\n",
       "      <td>NaT</td>\n",
       "      <td>NaN</td>\n",
       "    </tr>\n",
       "  </tbody>\n",
       "</table>\n",
       "</div>"
      ],
      "text/plain": [
       "               Name    Year  Group   Status Birth Date    Birth Place Gender  \\\n",
       "0   Joseph M. Acaba  2004.0   19.0   Active 1967-05-17  Inglewood, CA   Male   \n",
       "1    Loren W. Acton     NaN    NaN  Retired 1936-03-07   Lewiston, MT   Male   \n",
       "2  James C. Adamson  1984.0   10.0  Retired 1946-03-03     Warsaw, NY   Male   \n",
       "3   Thomas D. Akers  1987.0   12.0  Retired 1951-05-20  St. Louis, MO   Male   \n",
       "4       Buzz Aldrin  1963.0    3.0  Retired 1930-01-20  Montclair, NJ   Male   \n",
       "\n",
       "                                          Alma Mater     Undergraduate Major  \\\n",
       "0  University of California-Santa Barbara; Univer...                 Geology   \n",
       "1   Montana State University; University of Colorado     Engineering Physics   \n",
       "2          US Military Academy; Princeton University             Engineering   \n",
       "3                       University of Missouri-Rolla     Applied Mathematics   \n",
       "4                           US Military Academy; MIT  Mechanical Engineering   \n",
       "\n",
       "          Graduate Major Military Rank         Military Branch  Space Flights  \\\n",
       "0                Geology           NaN                     NaN              2   \n",
       "1          Solar Physics           NaN                     NaN              1   \n",
       "2  Aerospace Engineering       Colonel       US Army (Retired)              2   \n",
       "3    Applied Mathematics       Colonel  US Air Force (Retired)              4   \n",
       "4           Astronautics       Colonel  US Air Force (Retired)              2   \n",
       "\n",
       "   Space Flight (hr)  Space Walks  Space Walks (hr)  \\\n",
       "0               3307            2              13.0   \n",
       "1                190            0               0.0   \n",
       "2                334            0               0.0   \n",
       "3                814            4              29.0   \n",
       "4                289            2               8.0   \n",
       "\n",
       "                                            Missions Death Date Death Mission  \n",
       "0             STS-119 (Discovery), ISS-31/32 (Soyuz)        NaT           NaN  \n",
       "1                              STS 51-F (Challenger)        NaT           NaN  \n",
       "2               STS-28 (Columbia), STS-43 (Atlantis)        NaT           NaN  \n",
       "3  STS-41 (Discovery), STS-49 (Endeavor), STS-61 ...        NaT           NaN  \n",
       "4                               Gemini 12, Apollo 11        NaT           NaN  "
      ]
     },
     "execution_count": 39,
     "metadata": {},
     "output_type": "execute_result"
    }
   ],
   "source": [
    "astronaut.head()\n",
    "\n"
   ]
  },
  {
   "cell_type": "markdown",
   "metadata": {},
   "source": [
    "Use the `value_counts()` function to find the most popular undergraduate major among all astronauts."
   ]
  },
  {
   "cell_type": "code",
   "execution_count": 51,
   "metadata": {},
   "outputs": [
    {
     "data": {
      "text/plain": [
       "Physics                                    35\n",
       "Aerospace Engineering                      33\n",
       "Mechanical Engineering                     30\n",
       "Aeronautical Engineering                   28\n",
       "Electrical Engineering                     23\n",
       "                                           ..\n",
       "Chemistry; Physiological Optics             1\n",
       "Applied Biology; Mechanical Engineering     1\n",
       "Space Physics                               1\n",
       "Earth & Planetary Science                   1\n",
       "Physics & Mechanical Engineering            1\n",
       "Name: Undergraduate Major, Length: 83, dtype: int64"
      ]
     },
     "execution_count": 51,
     "metadata": {},
     "output_type": "execute_result"
    }
   ],
   "source": [
    "astronaut['Undergraduate Major'].value_counts()"
   ]
  },
  {
   "cell_type": "markdown",
   "metadata": {},
   "source": [
    "Due to all the commas present in the cells of this file, let's save it as a tab separated csv file. In the cell below, save `astronaut` as a tab separated file using the `to_csv` function. Call the file `astronaut.csv` and remember to remove the index column."
   ]
  },
  {
   "cell_type": "code",
   "execution_count": 53,
   "metadata": {},
   "outputs": [
    {
     "data": {
      "text/plain": [
       "\"\\tName\\tYear\\tGroup\\tStatus\\tBirth Date\\tBirth Place\\tGender\\tAlma Mater\\tUndergraduate Major\\tGraduate Major\\tMilitary Rank\\tMilitary Branch\\tSpace Flights\\tSpace Flight (hr)\\tSpace Walks\\tSpace Walks (hr)\\tMissions\\tDeath Date\\tDeath Mission\\n0\\tJoseph M. Acaba\\t2004.0\\t19.0\\tActive\\t1967-05-17\\tInglewood, CA\\tMale\\tUniversity of California-Santa Barbara; University of Arizona\\tGeology\\tGeology\\t\\t\\t2\\t3307\\t2\\t13.0\\tSTS-119 (Discovery), ISS-31/32 (Soyuz)\\t\\t\\n1\\tLoren W. Acton\\t\\t\\tRetired\\t1936-03-07\\tLewiston, MT\\tMale\\tMontana State University; University of Colorado\\tEngineering Physics\\tSolar Physics\\t\\t\\t1\\t190\\t0\\t0.0\\tSTS 51-F (Challenger)\\t\\t\\n2\\tJames C. Adamson\\t1984.0\\t10.0\\tRetired\\t1946-03-03\\tWarsaw, NY\\tMale\\tUS Military Academy; Princeton University\\tEngineering\\tAerospace Engineering\\tColonel\\tUS Army (Retired)\\t2\\t334\\t0\\t0.0\\tSTS-28 (Columbia), STS-43 (Atlantis)\\t\\t\\n3\\tThomas D. Akers\\t1987.0\\t12.0\\tRetired\\t1951-05-20\\tSt. Louis, MO\\tMale\\tUniversity of Missouri-Rolla\\tApplied Mathematics\\tApplied Mathematics\\tColonel\\tUS Air Force (Retired)\\t4\\t814\\t4\\t29.0\\tSTS-41 (Discovery), STS-49 (Endeavor), STS-61 (Endeavor), STS-79 (Atlantis)\\t\\t\\n4\\tBuzz Aldrin\\t1963.0\\t3.0\\tRetired\\t1930-01-20\\tMontclair, NJ\\tMale\\tUS Military Academy; MIT\\tMechanical Engineering\\tAstronautics\\tColonel\\tUS Air Force (Retired)\\t2\\t289\\t2\\t8.0\\tGemini 12, Apollo 11\\t\\t\\n5\\tAndrew M. Allen\\t1987.0\\t12.0\\tRetired\\t1955-08-04\\tPhiladelphia, PA\\tMale\\tVillanova University; University of Florida\\tMechanical Engineering\\tBusiness Administration\\tLieutenant Colonel\\tUS Marine Corps (Retired)\\t3\\t906\\t0\\t0.0\\tSTS-46 (Atlantis), STS-62 (Columbia), STS-75 (Columbia)\\t\\t\\n6\\tJoseph P. Allen\\t1967.0\\t6.0\\tRetired\\t1937-06-27\\tCrawsfordsville, IN\\tMale\\tDePauw University; Yale University\\tMathematics & Physics\\tPhysics\\t\\t\\t2\\t313\\t2\\t12.0\\tST-5 (Columbia), STS 51-A (Discovery)\\t\\t\\n7\\tScott D. Altman\\t1995.0\\t15.0\\tRetired\\t1959-08-15\\tLincoln, IL\\tMale\\tUniversity of Illinois; US Naval Postgraduate School\\tAeronautical & Astronautical Engineering\\tAeronautical Engineering\\tCaptain\\tUS Navy (Retired)\\t4\\t1236\\t0\\t0.0\\tSTS-90 (Columbia), STS-106 (Atlantis), STS-109 (Columbia), STS-125 (Atlantis)\\t\\t\\n8\\tWilliam A. Anders\\t1963.0\\t3.0\\tRetired\\t1933-10-17\\tHong Kong\\tMale\\tUS Naval Academy; Air Force Institute of Technology\\tNuclear Engineering\\tNuclear Engineering\\tMajor General\\tUS Air Force Reserves (Retired)\\t1\\t147\\t0\\t0.0\\tApollo 8\\t\\t\\n9\\tClayton C. Anderson\\t1998.0\\t17.0\\tRetired\\t1959-02-23\\tOmaha, NE\\tMale\\tHastings College; Iowa State University\\tPhysics\\tAerospace Engineering\\t\\t\\t2\\t4005\\t6\\t38.0\\tSTS-117/120 (Atlantis/Discovery), STS-131 (Discovery)\\t\\t\\n10\\tMichael P. Anderson\\t1995.0\\t15.0\\tDeceased\\t1959-12-25\\tPlattsburgh, NY\\tMale\\tUniversity of Washington; Creighton University\\tPhysics & Astronomy\\tPhysics\\tLieutenant Colonel\\tUS Air Force\\t2\\t594\\t0\\t0.0\\tSTS-89 (Endeavor), STS-107 (Columbia)\\t2003-02-01\\tSTS-107 (Columbia)\\n11\\tDominic A. Antonelli\\t2000.0\\t18.0\\tActive\\t1967-08-23\\tDetroit, MI\\tMale\\tMIT; University of Washington\\tAeronautics & Astronautics\\tAeronautics & Astronautics\\tCommander\\tUS Navy\\t2\\t579\\t0\\t0.0\\tSTS-119 (Discovery), STS-132 (Atlantis)\\t\\t\\n12\\tJerome Apt III \\t1985.0\\t11.0\\tRetired\\t1949-04-18\\tSpringfield, MA\\tMale\\tHarvard University; MIT\\tPhysics\\tPhysics\\t\\t\\t4\\t847\\t2\\t11.0\\tSTS-37 (Atlantis), STS-47 (Endeavor), STS-59 (Endeavor), STS-79 (Atlantis)\\t\\t\\n13\\tLee J. Archambault\\t1998.0\\t17.0\\tRetired\\t1960-08-25\\tOak Park, IL\\tMale\\tUniversity of Illinois-Urbana\\tAeronautical & Astronautical Engineering\\tAeronautical & Astronautical Engineering\\tColonel\\tUS Air Force\\t2\\t639\\t0\\t0.0\\tSTS-117 (Atlantis), STS-119 (Discovery)\\t\\t\\n14\\tNeil A. Armstrong\\t1962.0\\t2.0\\tDeceased\\t1930-08-05\\tWapakoneta, OH\\tMale\\tPurdue University; University of Southern California\\tAeronautical Engineering\\tAerospace Engineering\\t\\t\\t2\\t205\\t1\\t2.0\\tGemini 8, Apollo 11\\t2012-08-25\\t\\n15\\tRichard R. Arnold II \\t2004.0\\t19.0\\tActive\\t1963-11-26\\tCheverly, MD\\tMale\\tFrostburg State University; University of Maryland\\tAccounting\\tEnvironmental Science\\t\\t\\t1\\t307\\t2\\t12.0\\tSTS-119 (Discovery)\\t\\t\\n16\\tJeffrey S. Ashby\\t1995.0\\t15.0\\tRetired\\t1954-06-01\\tDallas, TX\\tMale\\tUniversity of Idaho; University of Tennessee\\tMechanical Engineering\\tAviation Systems\\tCaptain\\tUS Navy (Retired)\\t3\\t655\\t0\\t0.0\\tSTS-93 (Columbia), STS-100 (Endeavor), STS-112 (Atlantis)\\t\\t\\n17\\tSerena M. Aunon\\t2009.0\\t20.0\\tActive\\t1976-04-09\\tIndianapolis, IN\\tFemale\\tGeorge Washington University; University of Texas\\tElectrical Engineering\\tMedicine\\t\\t\\t0\\t0\\t0\\t0.0\\t\\t\\t\\n18\\tJames P. Bagian\\t1980.0\\t9.0\\tRetired\\t1952-02-22\\tPhiladelphia, PA\\tMale\\tDrexel University; Thomas Jefferson University\\tMechanical Engineering\\tMedicine\\t\\t\\t2\\t337\\t0\\t0.0\\tSTS-29 (Discovery), STS-40 (Columbia)\\t\\t\\n19\\tEllen S. Baker\\t1984.0\\t10.0\\tRetired\\t1953-04-27\\tFayettesville, NC\\tFemale\\tState University of New York-Buffalo; Cornell University; University of Texas\\tGeology\\tMedicine; Public Health\\t\\t\\t3\\t686\\t0\\t0.0\\tSTS-34 (Atlantis), STS-50 (Columbia), STS-71 (Atlantis)\\t\\t\\n20\\tMichael A. Baker\\t1985.0\\t11.0\\tManagement\\t1953-10-27\\tMemphis, TN\\tMale\\tUniversity of Texas\\tAerospace Engineering\\t\\tCaptain\\tUS Navy (Retired)\\t4\\t965\\t0\\t0.0\\tSTS-43 (Atlantis), STS-52 (Columbia), STS-68 (Endeavor), STS-81 (Atlantis)\\t\\t\\n21\\tMichael R. Barratt\\t2000.0\\t18.0\\tActive\\t1959-04-16\\tVancouver, WA\\tMale\\tUniversity of Washington; Northwestern University; Wright State University\\tZoology\\tMedicine; Aerospace Medicine\\t\\t\\t2\\t5075\\t1\\t5.0\\tISS-19/20 (Soyuz), STS-133 (Discovery)\\t\\t\\n22\\tDaniel T. Barry\\t1992.0\\t14.0\\tRetired\\t1953-12-30\\tNorwalk, CT\\tMale\\tCornell University; Princeton University; University of Miami\\tElectrical Engineering\\tElectrical Engineering; Computer Science; Medicine\\t\\t\\t3\\t733\\t4\\t26.0\\tSTS-72 (Endeavor), STS-96 (Discovery), STS-105 (Discovery)\\t\\t\\n23\\tJohn-David F. Bartoe\\t\\t\\tRetired\\t1944-11-17\\tAbington, PA\\tMale\\tLehigh University; Georgetown University\\tPhysics\\tPhysics\\t\\t\\t1\\t190\\t0\\t0.0\\tSTS 51-F (Challenger)\\t\\t\\n24\\tCharles A. Bassett II \\t1963.0\\t3.0\\tDeceased\\t1931-12-30\\tDayton, OH\\tMale\\tTexas Technological College\\tElectrical Engineering\\t\\tCaptain\\tUS Air Force\\t0\\t0\\t0\\t0.0\\t\\t1966-02-28\\t\\n25\\tAlan L. Bean\\t1963.0\\t3.0\\tRetired\\t1932-03-15\\tWheeler, TX\\tMale\\tUniversity of Texas\\tAeronautical Engineering\\t\\tCaptain\\tUS Navy (Retired)\\t2\\t1671\\t3\\t10.0\\tApollo 12, Skylab 3\\t\\t\\n26\\tRobert L. Behnken\\t2000.0\\t18.0\\tActive\\t1970-07-28\\tCreve Couer, MO\\tMale\\tWashington University; California Institute of Technology\\tPhysics & Mechanical Engineering\\tMechanical Engineering\\tColonel\\tUS Air Force\\t2\\t708\\t6\\t37.0\\tSTS-123 (Endeavor), STS-130 (Endeavor)\\t\\t\\n27\\tJohn E. Blaha\\t1980.0\\t9.0\\tRetired\\t1942-08-26\\tSan Antonio, TX\\tMale\\tUS Air Force Academy; Purdue University\\tEngineering Science\\tAstronautical Engineering\\tColonel\\tUS Air Force (Retired)\\t5\\t3861\\t0\\t0.0\\tSTS-29 (Discovery), STS-33 (Discovery), STS-43 (Atlantis), STS-58 (Columbia), STS-79/81 (Atlantis/Atlantis)\\t\\t\\n28\\tMichael J. Bloomfield\\t1995.0\\t15.0\\tRetired\\t1959-03-16\\tFlint, MI\\tMale\\tUS Air Force Academy; Old Dominion University\\tEngineering Mechanics\\tEngineering Management\\tColonel\\tUS Air Force (Retired)\\t3\\t779\\t0\\t0.0\\tSTS-86 (Atlantis), STS-97 (Endeavor), STS-110 (Atlantis)\\t\\t\\n29\\tGuion S. Bluford Jr. \\t1978.0\\t8.0\\tRetired\\t1942-11-22\\tPhiladelphia, PA\\tMale\\tPennsylvania State University; Air Force Institute of Technology; University of Houston-Clear Lake\\tAerospace Engineering\\tAerospace Engineering; Business Administration\\tColonel\\tUS Air Force (Retired)\\t4\\t689\\t0\\t0.0\\tSTS-8 (Challenger), STS 61-A (Challenger), STS-39 (Discovery), STS-53 (Discovery)\\t\\t\\n30\\tKarol J. Bobko\\t1969.0\\t7.0\\tRetired\\t1937-12-23\\tNew York, NY\\tMale\\tUS Air Force Academy; University of Southern California\\t\\tAerospace Engineering\\tColonel\\tUS Air Force (Retired)\\t3\\t386\\t0\\t0.0\\tSTS-6 (Challenger), STS 51-D (Discovery), STS-51-J (Atlantis)\\t\\t\\n31\\tEric A. Boe\\t2000.0\\t18.0\\tActive\\t1964-10-01\\tMiami, FL\\tMale\\tUS Air Force Academy; Georgia Institute of Technology\\tAeronautical Engineering\\tElectrical Engineering\\tColonel\\tUS Air Force\\t2\\t687\\t0\\t0.0\\tSTS-126 (Endeavor), STS-133 (Discovery)\\t\\t\\n32\\tCharles F. Bolden Jr. \\t1980.0\\t9.0\\tManagement\\t1946-08-19\\tColumbia, SC\\tMale\\tUS Naval Academy; University of Southern California\\tElectrical Science\\tSystems Management\\tMajor General\\tUS Marine Corps (Retired)\\t4\\t680\\t0\\t0.0\\tSTS-61C (Columbia), STS-31 (Discovery), STS-45 (Atlantis), STS-60 (Discovery)\\t\\t\\n33\\tFrank Borman\\t1962.0\\t2.0\\tRetired\\t1928-03-14\\tGary, IN\\tMale\\tUS Military Academy; California Institute of Technology\\t\\tAeronautical Engineering\\tColonel\\tUS Air Force (Retired)\\t2\\t477\\t0\\t0.0\\tGemini 7, Apollo 8\\t\\t\\n34\\tStephen G. Bowen\\t2000.0\\t18.0\\tActive\\t1964-02-13\\tCohasset, MA\\tMale\\tUS Naval Academy; MIT\\tElectrical Engineering\\tOcean Engineering\\tCaptain\\tUS Navy\\t3\\t970\\t7\\t47.0\\tSTS-126 (Endeavor), STS-132 (Atlantis), STS-133 (Discovery)\\t\\t\\n35\\tKenneth D. Bowersox\\t1987.0\\t12.0\\tRetired\\t1956-11-14\\tPortsmouth, VA\\tMale\\tUS Naval Academy; Columbia University\\tAerospace Engineering\\tMechanical Engineering\\tCaptain\\tUS Navy (Retired)\\t5\\t5078\\t2\\t13.0\\tSTS-50 (Columbia), STS-61 (Endeavor), STS-73 (Columbia), STS-82 (Discovery), STS-113 (Endeavor/Soyuz)\\t\\t\\n36\\tCharles E. Brady Jr. \\t1992.0\\t14.0\\tDeceased\\t1951-08-12\\tPinehurst, NC\\tMale\\tUniversity of North Carolina at Chapel Hill; Duke University\\t\\tMedicine\\tCaptain\\tUS Navy\\t1\\t405\\t0\\t0.0\\tSTS-78 (Columbia)\\t2006-07-23\\t\\n37\\tVance D. Brand\\t1966.0\\t5.0\\tRetired\\t1931-05-09\\tLongmont, CA\\tMale\\tUniversity of Colorado; University of California Los Angeles\\tBusiness Management; Aeronautical Engineering\\tBusiness Administration\\t\\tUS Marine Corps Reserves\\t4\\t752\\t0\\t0.0\\tApollo-Soyuz Test Project, STS-5 (Columbia), STS 41-B (Challenger), STS-35 (Columbia)\\t\\t\\n38\\tDaniel C. Brandenstein\\t1978.0\\t8.0\\tRetired\\t1943-01-17\\tWatertown, WI\\tMale\\tUniversity of Wisconsin\\tMathematics & Physics\\t\\tCaptain\\tUS Navy (Retired)\\t4\\t789\\t0\\t0.0\\tSTS-8 (Challenger), STS 51-G (Discovery), STS-32 (Columbia), STS-49 (Endeavor)\\t\\t\\n39\\tRandolph J. Bresnik\\t2004.0\\t19.0\\tActive\\t1967-09-11\\tFort Knox, KY\\tMale\\tThe Citadel; University of Tennessee-Knoxville\\tMathematics\\tAviation Systems\\tColonel\\tUS Marine Corps\\t1\\t259\\t2\\t12.0\\tSTS-129 (Atlantis)\\t\\t\\n40\\tRoy D. Bridges Jr. \\t1980.0\\t9.0\\tRetired\\t1943-07-19\\tAtlanta, GA\\tMale\\tUS Air Force Academy; Purdue University\\tEngineering Science\\tAstronautics\\tMajor General\\tUS Air Force (Retired)\\t1\\t190\\t0\\t0.0\\tSTS 51-F (Challenger)\\t\\t\\n41\\tCurtis L. Brown Jr. \\t1987.0\\t12.0\\tRetired\\t1956-03-11\\tElizabethtown, NC\\tMale\\tUS Air Force Academy\\tElectrical Engineering\\t\\tColonel\\tUS Air Force (Retired)\\t6\\t1383\\t0\\t0.0\\tSTS-47 (Endeavor), STS-66 (Atlantis), STS-77 (Endeavor), STS-85 (Discovery), STS-95 (Discovery), STS-103 (Discovery)\\t\\t\\n42\\tDavid M. Brown\\t1996.0\\t16.0\\tDeceased\\t1956-04-16\\tArlington, VA\\tMale\\tCollege of William & Mary; Eastern Virginia Medical School\\tBiology\\tMedicine\\tCaptain\\tUS Navy\\t1\\t382\\t0\\t0.0\\tSTS-107 (Columbia)\\t2003-02-01\\tSTS-107 (Columbia)\\n43\\tMark N. Brown\\t1984.0\\t10.0\\tRetired\\t1951-11-18\\tValparaiso, IN\\tMale\\tPurdue University; Air Force Institute of Technology\\tAeronautical & Astronautical Engineering\\tAstronautical Engineering\\tColonel\\tUS Air Force (Retired)\\t2\\t249\\t0\\t0.0\\tSTS 28 (Columbia), STS-48 (Discovery)\\t\\t\\n44\\tJames F. Buchli\\t1978.0\\t8.0\\tRetired\\t1945-06-20\\tNew Rockford, ND\\tMale\\tUS Naval Academy; University of West Florida\\tAeronautical Engineering\\tAeronautical Engineering Systems\\tColonel\\tUS Marine Corps (Retired)\\t4\\t490\\t0\\t0.0\\tSTS 51-C (Discovery), STS 61-A (Challenger), STS-29 (Discovery), STS-48 (Discovery\\t\\t\\n45\\tJay Clark Buckey\\t\\t\\tRetired\\t1956-06-06\\tNew York, NY\\tMale\\tCornell University\\tElectrical Engineering\\tMedicine\\t\\t\\t1\\t381\\t0\\t0.0\\tSTS-90 (Columbia)\\t\\t\\n46\\tJohn S. Bull\\t1966.0\\t5.0\\tDeceased\\t1934-09-25\\tMemphis, TN\\tMale\\tRice University; Stanford University\\tMechanical Engineering\\tAeronautical Engineering\\t\\t\\t0\\t0\\t0\\t0.0\\t\\t2008-08-11\\t\\n47\\tDaniel C. Burbank\\t1996.0\\t16.0\\tActive\\t1961-07-27\\tMachester, CT\\tMale\\tUS Coast Guard Academy; Embry-Riddle Aeronautical University\\tElectrical Engineering\\tAeronautical Science\\tCaptain\\tUS Coast Guard (Retired)\\t3\\t4512\\t1\\t7.0\\tSTS-106 (Atlantis), STS-115 (Atlantis), ISS-29/30 (Soyuz)\\t\\t\\n48\\tDaniel W. Bursch\\t1990.0\\t13.0\\tRetired\\t1957-07-25\\tBristol, PA\\tMale\\tUS Naval Academy; US Naval Postgraduate School\\tPhysics\\tEngineering Science\\tCaptain\\tUS Navy (Retired)\\t4\\t5446\\t2\\t12.0\\tSTS-51 (Discovery), STS-68 (Endeavor), STS-77 (Endeavor), STS-108/111 (Endeavor)\\t\\t\\n49\\tRobert D. Cabana\\t1985.0\\t11.0\\tManagement\\t1949-01-23\\tMinneapolis, MN\\tMale\\tUS Naval Academy\\tMathematics\\t\\tColonel\\tUS Marine Corps (Retired)\\t4\\t910\\t0\\t0.0\\tSTS-41 (Discovery), STS-53 (Discovery), STS-65 (Columbia), STS-88 (Endeavor)\\t\\t\\n50\\tYvonne D. Cagle\\t1996.0\\t16.0\\tManagement\\t1959-04-24\\tWest Point, NY\\tFemale\\tSan Francisco State University\\tBiochemistry\\t\\tColonel\\tUS Air Force\\t0\\t0\\t0\\t0.0\\t\\t\\t\\n51\\tFernando Caldeiro\\t1996.0\\t16.0\\tDeceased\\t1958-06-12\\tBuenos Aires, Argentina\\tMale\\tUniversity of Arizona; University of Central Florida\\tMechanical Engineering\\tEngineering Management\\t\\t\\t0\\t0\\t0\\t0.0\\t\\t2009-10-03\\t\\n52\\tTracy E. Caldwell (Dyson)\\t1998.0\\t17.0\\tActive\\t1969-08-14\\tArcadia, CA\\tFemale\\tCalifornia State University-Fullerton; University of California-Davis\\tChemistry\\tPhysical Chemistry\\t\\t\\t2\\t4531\\t3\\t23.0\\tSTS-118 (Endeavor), ISS-23/24 (Soyuz)\\t\\t\\n53\\tCharles J. Camarda\\t1996.0\\t16.0\\tManagement\\t1952-05-08\\tQueens, NY\\tMale\\tPolytechnic Institute of Brooklyn; George Washington University; Virginia Polytechnic Institute\\tAerospace Engineering\\tEngineering Science; Aerospace Engineering\\t\\t\\t1\\t333\\t0\\t0.0\\tSTS-114 (Discovery)\\t\\t\\n54\\tKenneth D. Cameron\\t1984.0\\t10.0\\tRetired\\t1949-11-29\\tCleveland, OH\\tMale\\tMIT; Michigan State University\\tAeronautics & Astronautics\\tAeronautics & Astronautics; Business Administration\\tColonel\\tUS Marine Corps (Retired)\\t3\\t562\\t0\\t0.0\\tSTS-37 (Atlantis), STS-56 (Discovery), STS-74 (Atlantis)\\t\\t\\n55\\tDuane G. Carey\\t1996.0\\t16.0\\tRetired\\t1957-04-30\\tSt. Paul, MN\\tMale\\tUniversity of Minnesota-Minneapolis\\tAerospace Engineering & Mechanics\\tAerospace Engineering\\tLieutenant Colonel\\tUS Air Force (Retired)\\t1\\t262\\t0\\t0.0\\tSTS-109 (Columbia)\\t\\t\\n56\\tM. Scott Carpenter\\t1959.0\\t1.0\\tRetired\\t1925-05-01\\tBoulder, CO\\tMale\\tUniversity of Colorado\\tAeronautical Engineering\\t\\tCommander\\tUS Navy (Retired)\\t1\\t4\\t0\\t0.0\\tMercury 7\\t\\t\\n57\\tGerald P. Carr\\t1966.0\\t5.0\\tRetired\\t1932-08-22\\tDenver, CO\\tMale\\tUniversity of Southern California; US Naval Postgraduate School; Princeton University\\tMechanical Engineering\\tAeronautical Engineering\\tColonel\\tUS Marine Corps (Retired)\\t1\\t2017\\t3\\t16.0\\tSkylab 4\\t\\t\\n58\\tManley Lanier Carter Jr. \\t1984.0\\t10.0\\tDeceased\\t1947-08-15\\tMacon, GA\\tMale\\tEmory University\\tChemistry\\tMedicine\\tCaptain\\tUS Navy\\t1\\t120\\t0\\t0.0\\tSTS-33 (Discovery)\\t1991-04-05\\t\\n59\\tJohn H. Casper\\t1984.0\\t10.0\\tManagement\\t1943-07-09\\tGreenville, SC\\tMale\\tUS Air Force Academy; Purdue University\\tEngineering Science\\tAstronautics\\tColonel\\tUS Air Force (Retired)\\t4\\t825\\t0\\t0.0\\tSTS-36 (Atlantis), STS-54 (Endeavor), STS-62 (Columbia), STS-77 (Endeavor)\\t\\t\\n60\\tChristopher J. Cassidy\\t2004.0\\t19.0\\tActive\\t1970-01-04\\tSalem, MA\\tMale\\tUS Naval Academy; MIT\\tMathematics\\tOcean Engineering\\tCommander\\tUS Navy\\t1\\t4376\\t6\\t31.0\\tSTS-127 (Endeavor); ISS-35/36 (Soyuz)\\t\\t\\n61\\tRobert Cenker\\t\\t\\tRetired\\t1948-11-05\\tUniontown, PA\\tMale\\tPennsylvania State University; Rutgers University\\tAerospace Engineering\\tAerospace Engineering; Electrical Engineering\\t\\t\\t1\\t146\\t0\\t0.0\\tSTS 61-C (Columbia)\\t\\t\\n62\\tEugene A. Cernan\\t1963.0\\t3.0\\tRetired\\t1934-03-14\\tChicago, IL\\tMale\\tPurdue University; US Naval Postgraduate School\\tElectrical Engineering\\tAeronautical Engineering\\tCaptain\\tUS Navy (Retired)\\t3\\t566\\t4\\t24.0\\tGemini 9, Apollo 10, Apollo 17\\t\\t\\n63\\tRoger B. Chaffee\\t1963.0\\t3.0\\tDeceased\\t1935-02-15\\tGrand Rapids, MI\\tMale\\tPurdue University\\tAeronautical Engineering\\t\\tLieutenant Commander\\tUS Navy\\t1\\t0\\t0\\t0.0\\tApollo 1\\t1967-01-27\\tApollo 1\\n64\\tGregory E. Chamitoff\\t1998.0\\t17.0\\tActive\\t1962-08-06\\tMontreal, Canada\\tMale\\tCalifornia Polytechnic State University; California Institute of Technology; MIT\\tElectrical Engineering\\tAeronautical Engineering; Aeronautics & Astronautics\\t\\t\\t2\\t4770\\t2\\t13.0\\tSTS-124/126 (Discovery/Endeavor), STS-134 (Endeavor)\\t\\t\\n65\\tFranklin R. Chang-Diaz\\t1980.0\\t9.0\\tRetired\\t1950-04-05\\tSan Jose, Costa Rica\\tMale\\tUniversity of Connecticut; MIT\\tMechanical Engineering\\tApplied Plasma Physics\\t\\t\\t7\\t1602\\t3\\t19.0\\tSTS 61-C (Columbia), STS-34 (Atlantis), STS-46 (Atlantis), STS-60 (Discovery), STS-75 (Columbia), STS-91 (Discovery), STS-111 (Endeavor)\\t\\t\\n66\\tPhilip K. Chapman\\t1967.0\\t6.0\\tRetired\\t1935-03-05\\tMelbourne, Australia\\tMale\\tUniversity of Sydney; MIT\\tPhysics & Mathematics\\tAeronautics & Astronautics; Instrumentation\\t\\t\\t0\\t0\\t0\\t0.0\\t\\t\\t\\n67\\tKalpana Chawla\\t1995.0\\t15.0\\tDeceased\\t1961-06-01\\tKarnal, India\\tFemale\\tPunjab Engineering College; University of Texas-Arlington; University of Colorado\\tAeronautical Engineering\\tAerospace Engineering\\t\\t\\t2\\t734\\t0\\t0.0\\tSTS-87 (Columbia), STS-107 (Columbia)\\t2003-02-01\\tSTS-107 (Columbia)\\n68\\tLeroy Chiao\\t1990.0\\t13.0\\tRetired\\t1960-08-28\\tMilwaukee, WI\\tMale\\tUniversity of California-Berkeley; University of California-Santa Barbara\\tChemical Engineering\\tChemical Engineering\\t\\t\\t4\\t5503\\t6\\t36.0\\tSTS-65 (Columbia), STS-72 (Endeavor), STS-92 (Discovery), ISS-10 (Soyuz)\\t\\t\\n69\\tKevin P. Chilton\\t1987.0\\t12.0\\tRetired\\t1954-03-11\\tLos Angeles, CA\\tMale\\tUS Air Force Academy; Columbia University\\tEngineering Science\\tMechanical Engineering\\tBrigadier General\\tUS Air Force (Retired)\\t3\\t700\\t0\\t0.0\\tSTS-49 (Endeavor), STS-59 (Endeavor), STS-76 (Atlantis)\\t\\t\\n70\\tLaurel B. Clark\\t1996.0\\t16.0\\tDeceased\\t1961-03-10\\tAmes, IA\\tFemale\\tUniversity of Wisconsin-Madison\\tZoology\\tMedicine\\tCaptain\\tUS Navy\\t1\\t382\\t0\\t0.0\\tSTS-107 (Columbia)\\t2003-02-01\\tSTS-107 (Columbia)\\n71\\tMary L. Cleave\\t1980.0\\t9.0\\tRetired\\t1947-02-05\\tSouthampton, NY\\tFemale\\tColorado State University; Utah State University\\tBiological Science\\tMicrobial Ecology; Environmental Engineering\\t\\t\\t2\\t262\\t0\\t0.0\\tSTS 61-B (Atlantis), STS-30 (Atlantis)\\t\\t\\n72\\tMichael R. Clifford\\t1990.0\\t13.0\\tRetired\\t1952-10-13\\tSan Bernardino, CA\\tMale\\tUS Military Academy; Georgia Institute of Technology\\t\\tAerospace Engineering\\tLieutenant Colonel\\tUS Army (Retired)\\t3\\t666\\t1\\t6.0\\tSTS-53 (Discovery), STS-59 (Endeavor), STS-76 (Atlantis)\\t\\t\\n73\\tMichael L. Coats\\t1978.0\\t8.0\\tRetired\\t1946-01-16\\tSacramento, CA\\tMale\\tUS Naval Academy; George Washington University; US Naval Postgraduate School\\t\\tScience & Technology Administration; Aeronautical Engineering\\tCaptain\\tUS Navy (Retired)\\t3\\t463\\t0\\t0.0\\tSTS 41-D (Discovery), STS-29 (Discovery), STS-39 (Discovery)\\t\\t\\n74\\tKenneth D. Cockrell\\t1990.0\\t13.0\\tManagement\\t1950-04-09\\tAustin, TX\\tMale\\tUniversity of Texas; University of West Florida\\tMechanical Engineering\\tAeronautical Systems\\t\\tUS Naval Reserves\\t5\\t1548\\t0\\t0.0\\tSTS-56 (Discovery), STS-69 (Endeavor), STS-80 (Columbia), STS-98 (Atlantis), STS-111 (Endeavor)\\t\\t\\n75\\tCatherine G. Coleman\\t1992.0\\t14.0\\tActive\\t1960-12-14\\tCharleston, SC\\tFemale\\tMIT; University of Massachusetts\\tChemistry\\tPolymer Science & Engineering\\tColonel\\tUS Air Force (Retired)\\t3\\t4324\\t0\\t0.0\\tSTS-73 (Columbia), STS-93 (Columbia), ISS-26/27 (Soyuz)\\t\\t\\n76\\tEileen M. Collins\\t1990.0\\t13.0\\tRetired\\t1959-11-19\\tElmira, NY\\tFemale\\tSyracuse University; Stanford University; Webster University\\tMathematics & Economics\\tOperations Research; Space Systems Management\\tColonel\\tUS Air Force (Retired)\\t4\\t890\\t0\\t0.0\\tSTS-63 (Discovery), STS-84 (Atlantis), STS-114 (Columbia), STS-93 (Discovery)\\t\\t\\n77\\tMichael Collins\\t1963.0\\t3.0\\tRetired\\t1930-10-31\\tRome, Italy\\tMale\\tUS Military Academy\\t\\t\\t\\tUS Air Force Reserves\\t2\\t266\\t1\\t1.0\\tGemini 10, Apollo 11\\t\\t\\n78\\tCharles Conrad Jr. \\t1962.0\\t2.0\\tDeceased\\t1930-05-02\\tPhiladelphia, PA\\tMale\\tPrinceton University\\tAeronautical Engineering\\t\\tCaptain\\tUS Navy (Retired)\\t4\\t1179\\t4\\t12.0\\tGemini 5, Gemini 11, Apollo 12, Skylab 2\\t1999-07-08\\t\\n79\\tL. Gordon Cooper Jr. \\t1959.0\\t1.0\\tDeceased\\t1927-03-06\\tShawnee, OK\\tMale\\tAir Force Institute of Technology\\tAeronautical Engineering\\t\\tColonel\\tUS Air Force (Retired)\\t2\\t225\\t0\\t0.0\\tMercury 9, Gemini 5\\t2004-10-04\\t\\n80\\tRichard O. Covey\\t1978.0\\t8.0\\tRetired\\t1946-08-01\\tFayetteville, AR\\tMale\\tUS Air Force Academy; Purdue University\\tEngineering Science\\tAeronautics & Astronautics\\tColonel\\tUS Air Force (Retired)\\t4\\t645\\t0\\t0.0\\tSTS 51-l (Discovery), STS-26 (Discovery), STS-38 (Atlantis), STS-61 (Endeavor)\\t\\t\\n81\\tTimothy J. Creamer\\t1998.0\\t17.0\\tManagement\\t1959-11-15\\tFt. Huachuca, AZ\\tMale\\tLoyola College; MIT\\tChemistry\\tPhysics\\tColonel\\tUS Army (Retired)\\t1\\t3917\\t0\\t0.0\\tISS-22/23 (Soyuz)\\t\\t\\n82\\tJohn O. Creighton\\t1978.0\\t8.0\\tRetired\\t1943-04-28\\tOrange, TX\\tMale\\tUS Naval Academy; George Washington University\\t\\tScience & Technology Administration\\tCaptain\\tUS Navy (Retired)\\t3\\t404\\t0\\t0.0\\tSTS 51-G (Discovery), STS-36 (Atlantis), STS-48 (Discovery)\\t\\t\\n83\\tRobert L. Crippen\\t1969.0\\t7.0\\tRetired\\t1937-09-11\\tBeaumont, TX\\tMale\\tUniversity of Texas\\tAerospace Engineering\\t\\tCaptain\\tUS Navy (Retired)\\t4\\t565\\t0\\t0.0\\tSTS-1 (Columbia), STS-7 (Challenger), STS 41-C (Challenger), STS 41-G (Challenger)\\t\\t\\n84\\tRoger K. Crouch\\t\\t\\tRetired\\t1940-09-12\\tJamestown, TN\\tMale\\tTennessee Polytechnic Institute; Virginia Polytechnic Institute\\tPhysics\\tPhysics\\t\\t\\t1\\t471\\t0\\t0.0\\tSTS-83 (Columbia), STS-94 (Columbia)\\t\\t\\n85\\tFrank L. Culbertson Jr. \\t1984.0\\t10.0\\tRetired\\t1949-05-15\\tCharleston, SC\\tMale\\tUS Naval Academy\\tAerospace Engineering\\t\\tCaptain\\tUS Navy (Retired)\\t3\\t3446\\t1\\t5.0\\tSTS-38 (Atlantis), STS-51 (Discovery), STS-105/108 (Discovery/Endeavor)\\t\\t\\n86\\tWalter Cunningham\\t1963.0\\t3.0\\tRetired\\t1932-03-16\\tCreston, IA\\tMale\\tUniversity of California-Los Angeles\\tPhysics\\tPhysics\\tColonel\\tUS Marine Corps Reserves\\t1\\t260\\t0\\t0.0\\tApollo 7\\t\\t\\n87\\tRobert L. Curbeam Jr. \\t1995.0\\t15.0\\tRetired\\t1962-03-05\\tBaltimore, MD\\tMale\\tUS Naval Academy; US Naval Postgraduate School\\tAerospace Engineering\\tAerospace Engineering; Aeronautical & Astronautical Engineering\\tCaptain\\tUS Navy (Retired)\\t3\\t902\\t7\\t45.0\\tSTS-85 (Discovery), STS-98 (Atlantis), STS-116 (Discovery)\\t\\t\\n88\\tNancy J. Currie\\t1990.0\\t13.0\\tManagement\\t1958-12-29\\tWilmington, DE\\tFemale\\tOhio State University; University of Southern California; University of Houston\\tBiological Science\\tSafety Engineering; Industrial Engineering\\tColonel\\tUS Army (Retired)\\t4\\t999\\t0\\t0.0\\tSTS-57 (Endeavor), STS-70 (Discovery), STS-88 (Endeavor), STS-109 (Columbia)\\t\\t\\n89\\tN. Jan Davis\\t1987.0\\t12.0\\tRetired\\t1953-11-01\\tCocoa Beach, FL\\tFemale\\tGeorgia Institute of Technology; Auburn University; University of Alabama-Huntsville\\tApplied Biology; Mechanical Engineering\\tMechanical Engineering\\t\\t\\t3\\t673\\t0\\t0.0\\tSTS-47 (Endeavor), STS-60 (Discovery), STS-85 (Discovery)\\t\\t\\n90\\tLawrence J. Delucas\\t\\t\\tRetired\\t1950-07-11\\tSyracuse, NY\\tMale\\tUniversity of Alabama at Birmingham\\tChemistry; Physiological Optics\\tChemistry; Biochemistry; Optometry\\t\\t\\t1\\t331\\t0\\t0.0\\tSTS-50 (Columbia)\\t\\t\\n91\\tAlvin B. Drew Jr. \\t2000.0\\t18.0\\tActive\\t1962-11-05\\tWashington, DC\\tMale\\tUS Air Force Academy; Embry-Riddle Aeronautical University\\tPhysics & Astronautical Engineering\\tAerospace Science; Political Science\\tColonel\\tUS Air Force\\t2\\t613\\t2\\t13.0\\tSTS-118 (Endeavor), STS-133 (Discovery)\\t\\t\\n92\\tBrian Duffy\\t1985.0\\t11.0\\tRetired\\t1953-06-20\\tBoston, MA\\tMale\\tUS Air Force Academy; University of Southern California\\tMathematics\\tSystems Management\\tColonel\\tUS Air Force (Retired)\\t4\\t977\\t0\\t0.0\\tSTS-45 (Atlantis), STS-57 (Endeavor), STS-72 (Endeavor), STS-92 (Discovery)\\t\\t\\n93\\tCharles M. Duke Jr. \\t1966.0\\t5.0\\tRetired\\t1935-10-03\\tCharlotte, NC\\tMale\\tUS Naval Academy; MIT\\tNaval Sciences\\tAeronautics\\tBrigadier General\\tUS Air Force (Retired)\\t1\\t265\\t3\\t20.0\\tApollo 16\\t\\t\\n94\\tBonnie J. Dunbar\\t1980.0\\t9.0\\tRetired\\t1949-03-03\\tSunnyside, WA\\tFemale\\tUniversity of Washington; University of Houston\\tCeramic Engineering\\tCeramic Engineering; Biomedical Engineering\\t\\t\\t5\\t1207\\t0\\t0.0\\tSTS 61-A (Challenger), STS-32 (Columbia), STS-50 (Columbia), STS-71 (Atlantis), STS-89 (Endeavor)\\t\\t\\n95\\tSamuel T. Durrance\\t\\t\\tRetired\\t1943-09-17\\tTallahassee, FL\\tMale\\tCalifornia State University; University of Colorado\\tPhysics\\tPhysics; Astrogeophysics\\t\\t\\t2\\t614\\t0\\t0.0\\tSTS-35 (Columbia), STS-67 (Endeavor)\\t\\t\\n96\\tJames P. Dutton Jr. \\t2004.0\\t19.0\\tManagement\\t1968-11-20\\tEugene, OR\\tMale\\tUS Air Force Academy; University of Washington\\tAstronautical Engineering\\tAeronautics & Astronautics\\tColonel\\tUS Air Force\\t1\\t362\\t0\\t0.0\\tSTS-131 (Discovery)\\t\\t\\n97\\tJoe F. Edwards Jr. \\t1995.0\\t15.0\\tRetired\\t1958-02-03\\tRichmond, VA\\tMale\\tUS Naval Academy; University of Tennessee-Knoxville\\tAerospace Engineering\\tAviation Systems\\tCommander\\tUS Navy (Retired)\\t1\\t211\\t0\\t0.0\\tSTS-89 (Endeavor)\\t\\t\\n98\\tDonn F. Eisele\\t1963.0\\t3.0\\tDeceased\\t1930-05-23\\tColumbus, OH\\tMale\\tUS Naval Academy; US Air Force Institute of Technology\\tAstronautics\\tAstronautics\\tColonel\\tUS Air Force (Retired)\\t1\\t260\\t0\\t0.0\\tApollo 7\\t1987-12-02\\t\\n99\\tAnthony W. England\\t1967.0\\t6.0\\tRetired\\t1942-05-15\\tIndianapolis, IN\\tMale\\tMIT\\tGeology\\tGeology; Geophysics\\t\\t\\t1\\t190\\t0\\t0.0\\tSTS 51-F (Challenger)\\t\\t\\n100\\tJoe H. Engle\\t1966.0\\t5.0\\tRetired\\t1932-08-26\\tDickinson, KS\\tMale\\tUniversity of Kansas\\tAeronautical Engineering\\t\\tMajor General\\tUS Air Force (Retired)\\t2\\t224\\t0\\t0.0\\tSTS-2 (Columbia), STS 51-I (Discovery)\\t\\t\\n101\\tJeanette J. Epps\\t2009.0\\t20.0\\tActive\\t1970-11-03\\tSyracuse, NY\\tFemale\\tLeMoyne College; University of Maryland\\tPhysics\\tAerospace Engineering\\t\\t\\t0\\t0\\t0\\t0.0\\t\\t\\t\\n102\\tRonald E. Evans Jr. \\t1966.0\\t5.0\\tDeceased\\t1933-11-10\\tSt. Francis, KS\\tMale\\tUniversity of Kansas; US Naval Postgraduate School\\tElectrical Engineering\\tAeronautical Engineering\\tCaptain\\tUS Navy (Retired)\\t1\\t301\\t1\\t1.0\\tApollo 17\\t1990-04-06\\t\\n103\\tJohn M. Fabian\\t1978.0\\t8.0\\tRetired\\t1939-01-28\\tGoosecreek, TX\\tMale\\tWashington State University; US Air Force Institute of Technology; University of Washington\\tMechanical Engineering\\tAerospace Engineering; Aeronautics & Astronautics\\tColonel\\tUS Air Force (Retired)\\t2\\t316\\t0\\t0.0\\tSTS-7 (Challenger), STS 51-G (Discovery)\\t\\t\\n104\\tChristopher J. Ferguson\\t1998.0\\t17.0\\tRetired\\t1961-09-01\\tPhiladelphia, PA\\tMale\\tDrexel University; US Naval Postgraduate School\\tMechanical Engineering\\tAeronautical Engineering\\tCaptain\\tUS Navy (Retired)\\t3\\t970\\t0\\t0.0\\tSTS-115 (Atlantis), STS-126 (Endeavor), STS-135 (Atlantis)\\t\\t\\n105\\tMartin J. Fettman\\t\\t\\tRetired\\t1956-12-31\\tBrooklyn, NY\\tMale\\tCornell University; Colorado State University\\tAnimal Nutrition\\tPhysiology\\t\\t\\t1\\t336\\t0\\t0.0\\tSTS-58 (Columbia)\\t\\t\\n106\\tAndrew J. Feustel\\t2000.0\\t18.0\\tActive\\t1965-08-25\\tLancaster, PA\\tMale\\tPurdue University; Queenâ€™s University-Canada\\tSolid Earth Sciences\\tGeophysics; Seismology\\t\\t\\t2\\t687\\t6\\t42.0\\tSTS-125 (Atlantis), STS-134 (Endeavor)\\t\\t\\n107\\tE. Michael Fincke\\t1996.0\\t16.0\\tActive\\t1967-03-14\\tPittsburgh, PA\\tMale\\tMIT; Stanford University; University of Houston-Clear Lake\\tAeronautics & Astronautics; Earth, Atmospheric & Planetary Sciences\\tAeronautics & Astronautics; Physical Sciences\\tColonel\\tUS Air Force\\t3\\t9159\\t9\\t48.0\\tISS-09 (Soyuz), ISS-18 (Soyuz), STS-134 (Endeavor)\\t\\t\\n108\\tJack D. Fischer\\t2009.0\\t20.0\\tActive\\t1974-01-23\\tLouisville, CO\\tMale\\tUS Air Force Academy; MIT\\tAstronautical Engineering\\tAeronautics & Astronautics\\t\\t\\t0\\t0\\t0\\t0.0\\t\\t\\t\\n109\\tAnna L. Fisher\\t1978.0\\t8.0\\tManagement\\t1949-08-24\\tNew York, NY\\tFemale\\tUniversity of California-Los Angeles\\tChemistry\\tChemistry; Medicine\\t\\t\\t1\\t191\\t0\\t0.0\\tSTS 51-A (Discovery)\\t\\t\\n110\\tWilliam F. Fisher\\t1980.0\\t9.0\\tRetired\\t1946-04-01\\tDallas, TX\\tMale\\tStanford University; University of Houston; University of Florida\\t\\tEngineering; Medicine\\t\\t\\t1\\t170\\t2\\t12.0\\tSTS 51-I (Discovery)\\t\\t\\n111\\tC. Michael Foale\\t1987.0\\t12.0\\tActive\\t1957-01-06\\tLouth, England\\tMale\\tCambridge University\\tPhysics\\tLaboratory Astrophysics\\t\\t\\t6\\t8970\\t4\\t22.0\\tSTS-45 (Atlantis), STS-56 (Discovery), STS-63 (Discovery), STS-84/86 (Atlantis), STS-103 (Discovery), ISS-08 (Soyuz)\\t\\t\\n112\\tKevin A. Ford\\t2000.0\\t18.0\\tActive\\t1960-07-07\\tPortland, IN\\tMale\\tUniversity of Notre Dame; Troy State University; University of Florida; Air Force Institute of Technology\\tAerospace Engineering\\tInternational Relations; Aerospace Engineering; Astronautical Engineering\\tColonel\\tUS Air Force (Retired)\\t2\\t3781\\t0\\t0.0\\tSTS-128 (Discovery), ISS-33/34 (Soyuz)\\t\\t\\n113\\tMichael J. Foreman\\t1998.0\\t17.0\\tManagement\\t1957-03-29\\tColumbus, OH\\tMale\\tUS Naval Academy; US Naval Postgraduate School\\tAerospace Engineering\\tAeronautical Engineering\\tCaptain\\tUS Navy (Retired)\\t2\\t637\\t5\\t32.0\\tSTS-123 (Endeavor), STS-129 (Atlantis)\\t\\t\\n114\\tPatrick G. Forrester\\t1996.0\\t16.0\\tManagement\\t1957-03-31\\tEl Paso, TX\\tMale\\tUS Military Academy; University of Virginia\\tApplied Science & Engineering\\tMechanical & Aerospace Engineering\\tColonel\\tUS Army (Retired)\\t3\\t950\\t4\\t25.0\\tSTS-105 (Discovery), STS-117 (Atlantis), STS-128 (Discovery)\\t\\t\\n115\\tMichael E. Fossum\\t1998.0\\t17.0\\tActive\\t1957-12-19\\tSioux Falls, SD\\tMale\\tTexas A&M University; Air Force Institute of Technology; University of Houston-Clear Lake\\tMechanical Engineering\\tSystems Engineering; Physical Science (Space Science)\\t\\tUS Air Force Reserves (Retired)\\t3\\t4651\\t7\\t48.0\\tSTS-121 (Discovery), STS-124 (Discovery), ISS-28/29 (Soyuz)\\t\\t\\n116\\tTheodore C. Freeman\\t1963.0\\t3.0\\tDeceased\\t1930-02-18\\tHaversford, PA\\tMale\\tUS Naval Academy; University of Michigan\\t\\tAeronautical Engineering\\tCaptain\\tUS Air Force\\t0\\t0\\t0\\t0.0\\t\\t1964-10-31\\t\\n117\\tStephen N. Frick\\t1996.0\\t16.0\\tManagement\\t1961-09-30\\tPittsburgh, PA\\tMale\\tUS Naval Academy; US Naval Postgraduate School\\tAerospace Engineering\\tAeronautical Engineering\\tCaptain\\tUS Navy (Retired)\\t2\\t566\\t0\\t0.0\\tSTS-110 (Atlantis), STS-122 (Atlantis)\\t\\t\\n118\\tC. Gordon Fullerton\\t1969.0\\t7.0\\tRetired\\t1936-10-11\\tRochester, NY\\tMale\\tCalifornia Institute of Technology\\tMechanical Engineering\\tMechanical Engineering\\tColonel\\tUS Air Force (Retired)\\t2\\t382\\t0\\t0.0\\tSTS-3 (Columbia), STS 51-F (Challenger)\\t\\t\\n119\\tF. Andrew Gaffney\\t\\t\\tRetired\\t1946-06-09\\tCarlsbad, NM\\tMale\\tUniversity of California-Berkeley; University of New Mexico\\tPsychology\\tMedicine\\t\\t\\t1\\t218\\t0\\t0.0\\tSTS-40 (Columbia)\\t\\t\\n120\\tRonald J. Garan Jr. \\t2000.0\\t18.0\\tManagement\\t1961-10-20\\tYonkers, NY\\tMale\\tState University of New York; Embry-Riddle Aeronautical University; University of Florida\\tBusiness Economics\\tAeronautics; Aerospace Engineering\\tColonel\\tUS Air Force (Retired)\\t2\\t4271\\t4\\t27.0\\tSTS-124 (Discovery), ISS-27/28 (Soyuz)\\t\\t\\n121\\tDale A. Gardner\\t1978.0\\t8.0\\tRetired\\t1948-11-08\\tFairmont, MN\\tMale\\tUniversity of Illinois\\tEngineering Physics\\t\\tCaptain\\tUS Navy (Retired)\\t2\\t336\\t2\\t12.0\\tSTS-8 (Challenger), STS 51-A (Discovery)\\t\\t\\n122\\tGuy S. Gardner\\t1980.0\\t9.0\\tRetired\\t1948-01-06\\tAlta Vista, VA\\tMale\\tUS Air Force Academy; Purdue University\\tEngineering Sciences; Astronautics & Mathematics\\tAstronautics\\tColonel\\tUS Air Force (Retired)\\t2\\t320\\t0\\t0.0\\tSTS-27 (Atlantis), STS-35 (Columbia)\\t\\t\\n123\\tJake Garn\\t\\t\\tRetired\\t1932-10-12\\tRichfield. UT\\tMale\\tUniversity of Utah\\tBusiness Finance\\t\\t\\t\\t1\\t167\\t0\\t0.0\\tSTS 51-D (Discovery)\\t\\t\\n124\\tOwen K. Garriott\\t1965.0\\t4.0\\tRetired\\t1930-11-22\\tEnid, OK\\tMale\\tUniversity of Oklahoma; Stanford University\\tElectrical Engineering\\tElectrical Engineering\\t\\t\\t2\\t1674\\t3\\t14.0\\tSkylab 3, STS-9 (Columbia)\\t\\t\\n125\\tCharles D. Gemar\\t1985.0\\t11.0\\tRetired\\t1955-08-04\\tYanktown, SD\\tMale\\tUS Military Academy\\tEngineering\\t\\tLieutenant Colonel\\tUS Army\\t3\\t581\\t0\\t0.0\\tSTS-38 (Atlantis), STS-48 (Discovery), STS-62 (Columbia)\\t\\t\\n126\\tMichael L. Gernhardt\\t1992.0\\t14.0\\tManagement\\t1956-05-04\\tMansfield, OH\\tMale\\tVanderbilt University; University of Pennsylvania\\tPhysics\\tBioengineering\\t\\t\\t4\\t1039\\t4\\t23.0\\tSTS-69 (Endeavor), STS-83 (Columbia), STS-94 (Columbia), STS-104 (Atlantis)\\t\\t\\n127\\tEdward G. Gibson\\t1965.0\\t4.0\\tRetired\\t1936-11-08\\tBuffalo, NY\\tMale\\tUniversity of Rochester; California Institute of Technology\\tEngineering\\tEngineering\\t\\t\\t1\\t2017\\t3\\t15.0\\tSkylab 4\\t\\t\\n128\\tRobert L. Gibson\\t1978.0\\t8.0\\tRetired\\t1946-10-30\\tCooperstown, NY\\tMale\\tCalifornia Polytechnic Institute\\tAeronautical Engineering\\t\\tCaptain\\tUS Navy (Retired)\\t5\\t868\\t0\\t0.0\\tSTS 41-B (Challenger), STS 61-C (Columbia), STS-27 (Atlantis), STS-47 (Endeavor), STS-71 (Atlantis)\\t\\t\\n129\\tEdward G. Givens Jr. \\t1966.0\\t5.0\\tDeceased\\t1930-01-05\\tQuanah, TX\\tMale\\tUS Naval Academy\\tNaval Sciences\\t\\tMajor\\tUS Air Force\\t0\\t0\\t0\\t0.0\\t\\t1967-06-06\\t\\n130\\tJohn H. Glenn Jr. \\t1959.0\\t1.0\\tRetired\\t1921-07-18\\tCambridge, OH\\tMale\\tMuskingum College\\tEngineering\\t\\tColonel\\tUS Marine Corps (Retired)\\t2\\t218\\t0\\t0.0\\tMercury 6, STS-95 (Discovery)\\t\\t\\n131\\tLinda M. Godwin\\t1985.0\\t11.0\\tRetired\\t1952-07-02\\tCape Girardeau, MO\\tFemale\\tSoutheast Missouri State; University of Missouri\\tMathematics & Physics\\tPhysics\\t\\t\\t4\\t918\\t2\\t10.0\\tSTS-37 (Atlantis), STS-59 (Endeavor), STS-76 (Atlantis), STS-108 (Endeavor)\\t\\t\\n132\\tMichael T. Good\\t2000.0\\t18.0\\tManagement\\t1962-10-13\\tParma, OH\\tMale\\tUniversity of Notre Dame\\tAerospace Engineering\\tAerospace Engineering\\tColonel\\tUS Air Force (Retired)\\t2\\t592\\t4\\t30.0\\tSTS-125 (Atlantis), STS-132 (Atlantis)\\t\\t\\n133\\tRichard F. Gordon Jr. \\t1963.0\\t3.0\\tRetired\\t1929-10-05\\tSeattle, WA\\tMale\\tUniversity of Washington\\tChemistry\\t\\tCaptain\\tUS Navy (Retired)\\t2\\t315\\t1\\t0.5\\tGemini 11, Apollo 12\\t\\t\\n134\\tDominic L. Gorie\\t1995.0\\t15.0\\tRetired\\t1957-05-02\\tLake Charles, LA\\tMale\\tUS Naval Academy; University of Tennessee\\tOcean Engineering\\tAviation Systems\\tCaptain\\tUS Navy (Retired)\\t4\\t1167\\t0\\t0.0\\tSTS-91 (Discovery), STS-99 (Endeavor), STS-123 (Endeavor), STS-108 (Endeavor)\\t\\t\\n135\\tRonald J. Grabe\\t1980.0\\t9.0\\tRetired\\t1945-06-13\\tNew York, NY\\tMale\\tUS Air Force Academy\\tEngineering Science\\t\\tColonel\\tUS Air Force (Retired)\\t4\\t627\\t0\\t0.0\\tSTS 51-J (Atlantis), STS-30 (Atlantis), STS-42 (Discovery), STS-57 (Endeavor)\\t\\t\\n136\\tDuane E. Graveline\\t1965.0\\t4.0\\tRetired\\t1931-03-02\\tNewport, VT\\tMale\\tUniversity of Vermont; Johns Hopkins University\\t\\tPublic Health; Medicine\\t\\t\\t0\\t0\\t0\\t0.0\\t\\t\\t\\n137\\tFrederick D. Gregory\\t1978.0\\t8.0\\tRetired\\t1941-01-07\\tWashington, DC\\tMale\\tUS Air Force Academy; George Washington University\\t\\tInformation Systems\\tColonel\\tUS Air Force (Retired)\\t3\\t455\\t0\\t0.0\\tSTS 51-B (Challenger), STS-33 (Discovery), STS-44 (Atlantis)\\t\\t\\n138\\tWilliam G. Gregory\\t1990.0\\t13.0\\tRetired\\t1957-05-14\\tLockport, NY\\tMale\\tUS Air Force Academy; Columbia University; Troy State University\\tEngineering Science\\tEngineering Mechanics; Business Management\\tLieutenant Colonel\\tUS Air Force\\t1\\t399\\t0\\t0.0\\tSTS-67 (Endeavor)\\t\\t\\n139\\tS. David Griggs\\t1978.0\\t8.0\\tDeceased\\t1939-09-07\\tPortland, OR\\tMale\\tUS Naval Academy; George Washington University\\t\\tBusiness Administration\\t\\t\\t1\\t167\\t1\\t3.0\\tSTS 51-D (Discovery)\\t1989-06-17\\t\\n140\\tVirgil I. Grissom\\t1959.0\\t1.0\\tDeceased\\t1926-04-03\\tMitchell, IN\\tMale\\tPurdue University\\tMechanical Engineering\\t\\tLieutenant Colonel\\tUS Air Force\\t2\\t5\\t0\\t0.0\\tMercury 4, Gemini 3, Apollo 1\\t1967-01-27\\tApollo 1\\n141\\tJohn M. Grunsfeld\\t1992.0\\t14.0\\tManagement\\t1958-10-10\\tChicago, IL\\tMale\\tMIT; University of Chicago\\tPhysics\\tPhysics\\t\\t\\t5\\t1407\\t8\\t58.0\\tSTS-67 (Endeavor), STS-81 (Atlantis), STS-103 (Discovery), STS-125 (Atlantis), STS-109 (Columbia)\\t\\t\\n142\\tSidney M. Gutierrez\\t1984.0\\t10.0\\tRetired\\t1951-06-27\\tAlbuquerque, NM\\tMale\\tUS Air Force Academy; Webster College\\tAeronautical Engineering\\tBusiness Management\\tColonel\\tUS Air Force (Retired)\\t2\\t488\\t0\\t0.0\\tSTS-40 (Columbia), STS-59 (Endeavor)\\t\\t\\n143\\tFred W. Haise Jr. \\t1966.0\\t5.0\\tRetired\\t1933-11-14\\tBiloxi, MS\\tMale\\tUniversity of Oklahoma\\tAeronautical Engineering\\t\\t\\t\\t1\\t142\\t0\\t0.0\\tApollo 13 \\t\\t\\n144\\tJames D. Halsell Jr. \\t1990.0\\t13.0\\tRetired\\t1956-09-29\\tMonroe, LA\\tMale\\tUS Air Force Academy; Troy State University; US Air Force Institute of Technology\\tEngineering\\tBusiness Management; Space Operations\\tColonel\\tUS Air Force (Retired)\\t5\\t1258\\t0\\t0.0\\tSTS-65 (Columbia), STS-74 (Atlantis), STS-83 (Columbia), STS-94 (Columbia), STS-101 (Atlantis)\\t\\t\\n145\\tKenneth T. Ham\\t1998.0\\t17.0\\tRetired\\t1964-12-12\\tPlainfield, NJ\\tMale\\tUS Naval Academy; US Naval Postgraduate School\\tAerospace Engineering\\tAeronautical Engineering\\tCaptain\\tUS Navy\\t2\\t612\\t0\\t0.0\\tSTS-124 (Discovery), STS-132 (Atlantis)\\t\\t\\n146\\tL. Blaine Hammond Jr. \\t1984.0\\t10.0\\tRetired\\t1952-01-16\\tSavannah, GA\\tMale\\tUS Air Force Academy; Georgia Institute of Technology\\tEngineering Science\\tEngineering Science\\tColonel\\tUS Air Force (Retired)\\t2\\t462\\t0\\t0.0\\tSTS-39 (Discovery), STS-64 (Discovery)\\t\\t\\n147\\tGregory J. Harbaugh\\t1987.0\\t12.0\\tRetired\\t1956-04-15\\tCleveland, OH\\tMale\\tPurdue University; University of Houston-Clear Lake\\tAeronautical & Astronautical Engineering\\tPhysical Science\\t\\t\\t4\\t817\\t3\\t18.0\\tSTS-39 (Discovery), STS-54 (Endeavor), STS-71 (Atlantis), STS-82 (Discovery)\\t\\t\\n148\\tBernard A. Harris Jr. \\t1990.0\\t13.0\\tRetired\\t1956-06-26\\tTemple, TX\\tMale\\tUniversity of Houston; Texas Tech University\\tBiology\\tMedicine\\t\\t\\t2\\t438\\t1\\t5.0\\tSTS-55 (Columbia), STS-63 (Discovery)\\t\\t\\n149\\tTerry J. Hart\\t1978.0\\t8.0\\tRetired\\t1946-10-27\\tPittsburgh, PA\\tMale\\tLehigh University; MIT; Rutgers University\\tMechanical Engineering\\tMechanical Engineering; Electrical Engineering\\t\\t\\t1\\t167\\t0\\t0.0\\tSTS 41-C (Challenger)\\t\\t\\n150\\tHenry W. Hartsfield Jr. \\t1969.0\\t7.0\\tRetired\\t1933-11-21\\tBirmingham, AL\\tMale\\tAuburn University; University of Tennessee\\tPhysics\\tEngineering Science\\tColonel\\tUS Air Force (Retired)\\t3\\t482\\t0\\t0.0\\tSTS-4 (Columbia), STS 41-D (Discovery), STS 61-A (Challenger)\\t\\t\\n151\\tFrederick H. Hauck\\t1978.0\\t8.0\\tRetired\\t1941-04-11\\tLong Beach, CA\\tMale\\tTufts University; MIT\\tPhysics\\tNuclear Engineering\\tCaptain\\tUS Navy (Retired)\\t3\\t435\\t0\\t0.0\\tSTS-7 (Challenger), STS 51-A (Discovery), STS-26 (Discovery)\\t\\t\\n152\\tSteven A. Hawley\\t1978.0\\t8.0\\tRetired\\t1951-12-12\\tOttawa, KS\\tMale\\tUniversity of Kansas; University of California\\tPhysics & Astronomy\\tAstronomy & Astrophysics\\t\\t\\t5\\t770\\t0\\t0.0\\tSTS 41-D (Discovery), STS 61-C (Columbia), STS-31 (Discovery), STS-82 (Discovery), STS-93 (Columbia)\\t\\t\\n153\\tSusan J. Helms\\t1990.0\\t13.0\\tRetired\\t1958-02-26\\tCharlotte, NC\\tFemale\\tUS Air Force Academy; Stanford University\\tAeronautical Engineering\\tAeronautics & Astronautics\\tLieutenant General\\tUS Air Force\\t5\\t5063\\t1\\t9.0\\tSTS-54 (Endeavor), STS-64 (Discovery), STS-78 (Columbia), STS-101 (Atlantis), STS-102/105 (Discovery)\\t\\t\\n154\\tKarl G. Henize\\t1967.0\\t6.0\\tDeceased\\t1926-10-17\\tCincinnati, OH\\tMale\\tUniversity of Virginia; University of Michigan\\tMathematics\\tAstronomy\\t\\t\\t1\\t190\\t0\\t0.0\\tSTS 51-F (Challenger)\\t1993-10-05\\t\\n155\\tThomas J. Hennen\\t\\t\\tRetired\\t1952-08-17\\tAlbany, GA\\tMale\\t\\t\\t\\tChief Warrant Officer\\tUS Army (Retired)\\t1\\t166\\t0\\t0.0\\tSTS-44 (Atlantis)\\t\\t\\n156\\tTerence T. Henricks\\t1985.0\\t11.0\\tRetired\\t1952-07-05\\tBryan, OH\\tMale\\tUS Air Force Academy; Golden Gate University\\tCivil Engineering\\tPublic Administration\\tColonel\\tUS Air Force (Retired)\\t4\\t1026\\t0\\t0.0\\tSTS-44 (Atlantis), STS-55 (Columbia), STS-70 (Discovery), STS-78 (Columbia)\\t\\t\\n157\\tJose M. Hernandez\\t2004.0\\t19.0\\tRetired\\t1962-08-07\\tFrench Camp, CA\\tMale\\tUniversity of the Pacific; University of California-Santa Barbara\\tElectrical Engineering\\tElectrical & Computer Engineering\\t\\t\\t1\\t332\\t0\\t0.0\\tSTS-128 (Discovery)\\t\\t\\n158\\tJohn B. Herrington\\t1996.0\\t16.0\\tRetired\\t1958-09-14\\tWetumka, OK\\tMale\\tUniversity of Colorado; US Naval Postgraduate School\\tApplied Mathematics\\tAeronautical Engineering\\tCommander\\tUS Navy (Retired)\\t1\\t330\\t3\\t20.0\\tSTS-113 (Endeavor)\\t\\t\\n159\\tRichard J. Hieb\\t1985.0\\t11.0\\tRetired\\t1955-09-21\\tJamestown, ND\\tMale\\tNorthwest Nazarene College; University of Colorado\\tMathematics & Physics\\tAerospace Engineering\\t\\t\\t3\\t766\\t3\\t18.0\\tSTS-39 (Discovery), STS-49 (Endeavor), STS-65 (Columbia)\\t\\t\\n160\\tJoan E. Higginbotham\\t1996.0\\t16.0\\tRetired\\t1964-08-03\\tChicago, IL\\tFemale\\tSouthern Illinois University-Carbondale; Florida Institute of Technology\\tElectrical Engineering\\tBusiness Management; Space Systems\\t\\t\\t1\\t308\\t0\\t0.0\\tSTS-116 (Discovery)\\t\\t\\n161\\tDavid C. Hilmers\\t1980.0\\t9.0\\tRetired\\t1950-01-28\\tClinton, IA\\tMale\\tCornell University; US Naval Postgraduate School\\tMathematics\\tElectrical Engineering\\tColonel\\tUS Marine Corps (Retired)\\t4\\t494\\t0\\t0.0\\tST 51-J (Atlantis), STS-26 (Discovery), STS-36 (Atlantis), STS-42 (Discovery)\\t\\t\\n162\\tKathryn P. Hire\\t1995.0\\t15.0\\tManagement\\t1959-08-26\\tMobile, AL\\tFemale\\tUS Naval Academy; Florida State Institute of Technology\\tEngineering Management\\tSpace Technology\\tCaptain\\tUS Naval Reserves\\t2\\t711\\t0\\t0.0\\tSTS-90 (Columbia), STS-130 (Endeavor)\\t\\t\\n163\\tCharles O. Hobaugh\\t1996.0\\t16.0\\tRetired\\t1961-11-05\\tBar Harbor, ME\\tMale\\tUS Naval Academy\\tAerospace Engineering\\t\\tColonel\\tUS Marine Corps (Retired)\\t3\\t873\\t0\\t0.0\\tSTS-104 (Atlantis), STS-118 (Endeavor), ST-129 (Atlantis)\\t\\t\\n164\\tJeffrey A. Hoffman\\t1978.0\\t8.0\\tRetired\\t1944-11-02\\tBrooklyn, NY\\tMale\\tAmherst College; Rice University; Harvard University\\tAstronomy\\tMaterials Science; Astrophysics\\t\\t\\t5\\t1211\\t4\\t25.0\\tSTS 51-D (Discovery), STS-35 (Columbia), STS-46 (Atlantis), STS-61 (Endeavor), STS-75 (Columbia)\\t\\t\\n165\\tDonald L. Holmquest\\t1967.0\\t6.0\\tRetired\\t1939-04-07\\tDallas, TX\\tMale\\tSouthern Methodist University; Baylor University; University of Houston\\tElectrical Engineering\\tPhysiology; Medicine; Law\\t\\t\\t0\\t0\\t0\\t0.0\\t\\t\\t\\n166\\tMichael S. Hopkins\\t2009.0\\t20.0\\tActive\\t1968-12-28\\tLebanon, MO\\tMale\\tUniversity of Illinois; Stanford University\\tAerospace Engineering\\tAerospace Engineering\\tColonel\\tUS Air Force\\t1\\t3990\\t2\\t13.0\\tISS-37/38 (Soyuz)\\t\\t\\n167\\tScott J. Horowitz\\t1992.0\\t14.0\\tRetired\\t1957-03-24\\tPhiladelphia, PA\\tMale\\tCalifornia State University-Northridge; Georgia Institute of Technology\\tEngineering\\tAerospace Engineering\\tColonel\\tUS Air Force (Retired)\\t4\\t1137\\t0\\t0.0\\tSTS-75 (Columbia), STS-82 (Discovery), STS-101 (Atlantis), STS-105 (Discovery)\\t\\t\\n168\\tMillie Hughes-Fulford\\t\\t\\tRetired\\t1945-12-21\\tMineral Wells, TX\\tFemale\\tTarleton State University; Texas Womanâ€™s University\\tChemistry & Biology\\t\\t\\t\\t1\\t218\\t0\\t0.0\\tSTS-40 (Columbia)\\t\\t\\n169\\tDouglas G. Hurley\\t2000.0\\t18.0\\tActive\\t1966-10-21\\tEndicott, NY\\tMale\\tTulane University\\tCivil Engineering\\t\\tColonel\\tUS Marine Corps\\t2\\t683\\t0\\t0.0\\tSTS-127 (Endeavor), STS-135 (Atlantis)\\t\\t\\n170\\tRick D. Husband\\t1995.0\\t15.0\\tDeceased\\t1957-07-12\\tAmarillo, TX\\tMale\\tTexas Tech University; California State University\\tMechanical Engineering\\tMechanical Engineering\\tColonel\\tUS Air Force\\t2\\t617\\t0\\t0.0\\tSTS-96 (Discovery), STS-107 (Columbia)\\t2003-02-01\\tSTS-107 (Columbia)\\n171\\tJames B. Irwin\\t1966.0\\t5.0\\tDeceased\\t1930-03-17\\tPittsburgh, PA\\tMale\\tUS Naval Academy; University of Michigan\\tNaval Sciences\\tAeronautical Engineering\\tColonel\\tUS Air Force (Retired)\\t1\\t295\\t3\\t20.0\\tApollo 15\\t1991-08-08\\t\\n172\\tMarsha S. Ivins\\t1984.0\\t10.0\\tRetired\\t1951-04-15\\tBaltimore, MD\\tFemale\\tUniversity of Colorado\\tAerospace Engineering\\t\\t\\t\\t5\\t1341\\t0\\t0.0\\tSTS-32 (Columbia), STS-46 (Atlantis), STS-62 (Columbia), STS-81 (Atlantis), STS-98 (Atlantis)\\t\\t\\n173\\tGregory B. Jarvis\\t\\t\\tDeceased\\t1944-08-24\\tDetroit, MI\\tMale\\tState University of New York at Buffalo; Northeastern University\\tElectrical Engineering\\tElectrical Engineering\\t\\t\\t1\\t0\\t0\\t0.0\\tSTS 51-L (Challenger)\\t1986-01-28\\tSTS 51-L (Challenger)\\n174\\tMae C. Jemison\\t1987.0\\t12.0\\tRetired\\t1956-10-17\\tDecatur, AL\\tFemale\\tStanford University; Cornell University\\tChemical Engineering\\tMedicine\\t\\t\\t1\\t190\\t0\\t0.0\\tSTS-47 (Endeavor)\\t\\t\\n175\\tTamara E. Jernigan\\t1985.0\\t11.0\\tRetired\\t1959-05-07\\tChattanooga, TN\\tFemale\\tStanford University; University of California-Berkeley; Rice University\\tPhysics\\tEngineering Science; Astronomy\\t\\t\\t5\\t1489\\t1\\t8.0\\tSTS-40 (Columbia), STS-52 (Columbia), STS-67 (Endeavor), STS-80 (Columbia), STS-98 (Discovery)\\t\\t\\n176\\tBrent W. Jett\\t1992.0\\t14.0\\tRetired\\t1958-10-05\\tPontiac, MI\\tMale\\tUS Naval Academy; US Naval Postgraduate School\\tAerospace Engineering\\tAeronautical Engineering\\tCaptain\\tUS Navy (Retired)\\t4\\t1002\\t0\\t0.0\\tSTS-72 (Endeavor), STS-81 (Atlantis), STS-97 (Endeavor), STS-115 (Atlantis)\\t\\t\\n177\\tGregory C. Johnson\\t1998.0\\t17.0\\tManagement\\t1954-07-30\\tSeattle, WA\\tMale\\tUniversity of Washington\\tAerospace Engineering\\t\\tCaptain\\tUS Navy (Retired)\\t1\\t309\\t0\\t0.0\\tSTS-125 (Atlantis)\\t\\t\\n178\\tGregory H. Johnson\\t1998.0\\t17.0\\tActive\\t1962-05-12\\tLondon, England\\tMale\\tUS Air Force Academy; Columbia University; University of Texas\\tAeronautical Engineering\\tFlight Structures Engineering; Business Administration\\tColonel\\tUS Air Force (Retired)\\t2\\t755\\t0\\t0.0\\tSTS-123 (Endeavor), STS-134 (Endeavor)\\t\\t\\n179\\tThomas D. Jones\\t1990.0\\t13.0\\tRetired\\t1955-01-22\\tBaltimore, MD\\tMale\\tUS Air Force Academy; University of Arizona\\t\\tPlanetary Science\\t\\t\\t4\\t1272\\t3\\t20.0\\tSTS-59 (Endeavor), STS-68 (Endeavor), STS-80 (Columbia), STS-98 (Atlantis)\\t\\t\\n180\\tJanet L. Kavandi\\t1995.0\\t15.0\\tManagement\\t1959-07-17\\tSpringfield, MO\\tFemale\\tMissouri Southern State College; University of Missouri; University of Washington\\tChemistry\\tChemistry\\t\\t\\t3\\t812\\t0\\t0.0\\tSTS-91 (Discovery), STS-99 (Endeavor), STS-104 (Atlantis)\\t\\t\\n181\\tJames M. Kelly\\t1996.0\\t16.0\\tManagement\\t1964-05-14\\tBurlington, IA\\tMale\\tUS Air Force Academy; University of Alabama\\tAstronautical Engineering\\tAerospace Engineering\\tColonel\\tUS Air Force (Retired)\\t2\\t641\\t0\\t0.0\\tSTS-102 (Discovery), STS-114 (Discovery)\\t\\t\\n182\\tMark E. Kelly\\t1996.0\\t16.0\\tRetired\\t1964-02-21\\tOrange, NJ\\tMale\\tUS Merchant Marine Academy; US Naval Postgraduate School\\tMarine Engineering & Nautical Science\\tAeronautical Engineering\\tCaptain\\tUS Navy (Retired)\\t4\\t1298\\t0\\t0.0\\tSTS-108 (Endeavor), STS-121 (Discovery), STS-124 (Discovery), STS-134 (Endeavor)\\t\\t\\n183\\tScott J. Kelly\\t1996.0\\t16.0\\tActive\\t1964-02-21\\tOrange, NJ\\tMale\\tState University of New York Maritime College; University of Tennessee-Knoxville\\tElectrical Engineering\\tAviation Systems\\tCaptain\\tUS Navy (Retired)\\t4\\t12490\\t3\\t18.0\\tSTS-103 (Discovery), STS-118 (Endeavor), ISS-25/26 (Soyuz), ISS-43/44/45/46 (Soyuz)\\t\\t\\n184\\tJoseph P. Kerwin\\t1965.0\\t4.0\\tRetired\\t1932-02-19\\tOak Park, IL\\tMale\\tCollege of the Holy Cross; Northwestern University\\tPhilosophy\\tMedicine\\tCaptain\\tUS Navy (Retired)\\t1\\t672\\t1\\t3.0\\tSkylab 2\\t\\t\\n185\\tSusan L. Kilrain (Still)\\t1995.0\\t15.0\\tRetired\\t1961-10-24\\tAugusta, GA\\tFemale\\tEmbry-Riddle University; Georgia Institute of Technology\\tAstronautical Engineering\\tAerospace Engineering\\tCommander\\tUS Navy (Retired)\\t2\\t472\\t0\\t0.0\\tSTS-83 (Columbia), STS-94 (Columbia)\\t\\t\\n186\\tRobert Shane Kimbrough\\t2004.0\\t19.0\\tActive\\t1967-06-04\\tKilleen, TX\\tMale\\tUS Military Academy; Georgia Institute of Technology\\tAerospace Engineering\\tOperations Research\\tColonel\\tUS Army\\t3\\t3720\\t4\\t25.0\\tSTS-126 (Endeavor), ISS-49/50 (Soyuz)\\t\\t\\n187\\tTimothy L. Kopra\\t2000.0\\t18.0\\tActive\\t1963-04-09\\tAustin, TX\\tMale\\tUS Military Academy; Georgia Institute of Technology; US Army War College\\tComputer Science\\tAerospace Engineering; Strategic Studies\\tColonel\\tUS Army (Retired)\\t2\\t5857\\t3\\t13.0\\tSTS-127/128 (Endeavor/Discovery), ISS-46/47 (Soyuz)\\t\\t\\n188\\tKevin R. Kregel\\t1992.0\\t14.0\\tRetired\\t1956-09-16\\tNew York, NY\\tMale\\tUS Air Force Academy; Troy State University\\tAstronautical Engineering\\tPublic Administration\\t\\t\\t4\\t1265\\t0\\t0.0\\tSTS-70 (Discovery), STS-78 (Columbia), STS-87 (Columbia), STS-99 (Endeavor)\\t\\t\\n189\\tWendy B. Lawrence\\t1992.0\\t14.0\\tRetired\\t1959-07-02\\tJacksonville, FL\\tFemale\\tUS Naval Academy; MIT\\tOcean Engineering\\tOcean Engineering\\tCaptain\\tUS Navy (Retired)\\t4\\t1223\\t0\\t0.0\\tSTS-67 (Endeavor), STS-86 (Atlantis), STS-91 (Discovery), STS-114 (Discovery)\\t\\t\\n190\\tMark C. Lee\\t1984.0\\t10.0\\tRetired\\t1952-08-14\\tViroqua, WI\\tMale\\tUS Air Force Academy; MIT\\tCivil Engineering\\tMechanical Engineering\\tColonel\\tUS Air Force (Retired)\\t4\\t789\\t4\\t26.0\\tSTS-30 (Atlantis), STS-47 (Endeavor), STS-64 (Discovery), STS-82 (Discovery)\\t\\t\\n191\\tDavid C. Leestma\\t1980.0\\t9.0\\tManagement\\t1949-05-06\\tMuskegon, MI\\tMale\\tUS Naval Academy; US Naval Postgraduate School\\tAeronautical Engineering\\tAeronautical Engineering\\tCaptain\\tUS Navy (Retired)\\t3\\t532\\t1\\t3.0\\tSTS 41-G (Challenger), STS-28 (Columbia), STS-45 (Atlantis)\\t\\t\\n192\\tWilliam B. Lenoir\\t1967.0\\t6.0\\tDeceased\\t1939-03-14\\tMiami, FL\\tMale\\tMIT\\tElectrical Engineering\\tElectrical Engineering\\t\\t\\t1\\t122\\t0\\t0.0\\tSTS-5 (Columbia)\\t2012-08-26\\t\\n193\\tFred W. Leslie\\t\\t\\tRetired\\t1951-12-19\\tAncon, Panama\\tMale\\tUniversity of Texas; University of Oklahoma\\tEngineering Science\\tMeteorology\\t\\t\\t1\\t381\\t0\\t0.0\\tSTS-73 (Columbia)\\t\\t\\n194\\tByron K. Lichtenberg\\t\\t\\tRetired\\t1948-02-19\\tStroudsburg, PA\\tMale\\tBrown University; MIT\\tAerospace Engineering\\tMechanical Engineering; Biomedical Engineering\\t\\t\\t2\\t461\\t0\\t0.0\\tSTS-9 (Columbia), STS-45 (Atlantis)\\t\\t\\n195\\tDon L. Lind\\t1966.0\\t5.0\\tRetired\\t1930-05-18\\tMidvale, UT\\tMale\\tUniversity of Utah; University of California-Berkley\\tPhysics\\tNuclear Physics\\t\\t\\t1\\t168\\t0\\t0.0\\tSTS 51-B (Challenger)\\t\\t\\n196\\tKjell N. Lindgren\\t2009.0\\t20.0\\tActive\\t1973-01-23\\tTaipei, Taiwan\\tMale\\tUS Air Force Academy; University of Colorado; Colorado State University; University of Minnesota; University of Texas Medical Branch-Galveston\\tBiology\\tMedicine; Cardiovascular Physiology; Health Informatics; Public Health\\t\\t\\t1\\t3400\\t2\\t15.0\\tISS-44/45 (Soyuz)\\t\\t\\n197\\tSteven W. Lindsey\\t1995.0\\t15.0\\tRetired\\t1960-08-24\\tArcadia, CA\\tMale\\tUS Air Force Academy; US Air Force Institute of Technology\\tEngineering Science\\tAeronautical Engineering\\tColonel\\tUS Air Force (Retired)\\t5\\t1510\\t0\\t0.0\\tSTS-87 (Columbia), STS-95 (Discovery), STS-104 (Atlantis), STS-121 (Discovery), STS-133 (Discovery)\\t\\t\\n198\\tJerry M. Linenger\\t1992.0\\t14.0\\tRetired\\t1955-01-16\\tMount Clemens, MI\\tMale\\tUS Naval Academy; University of Southern California; University of North Carolina; Wayne State University\\tBioscience\\tSystems Management; Public Health; Medicine; Epidemiology\\tCaptain\\tUS Navy (Retired)\\t2\\t3435\\t1\\t5.0\\tSTS-64 (Discovery), STS-81/84 (Atlantis)\\t\\t\\n199\\tRichard M. Linnehan\\t1992.0\\t14.0\\tManagement\\t1957-09-19\\tLowell, MA\\tMale\\tUniversity of New Hampshire; Ohio State University; Harvard University\\tAnimal Science\\tVeterinary Medicine; Public Administration\\t\\t\\t4\\t1427\\t6\\t43.0\\tSTS-78 (Columbia), STS-90 (Columbia), STS-109 (Columbia), STS-123 (Endeavor)\\t\\t\\n200\\tGregory T. Linteris\\t\\t\\tRetired\\t1957-10-04\\tDemarest, NJ\\tMale\\tPrinceton University; Stanford University\\tChemical Engineering\\tMechanical Engineering; Mechanical & Aerospace Engineering\\t\\t\\t2\\t471\\t0\\t0.0\\tSTS-83 (Columbia), STS-94 (Columbia)\\t\\t\\n201\\tJohn A. Llewellyn\\t1967.0\\t6.0\\tRetired\\t1933-04-22\\tCardiff, Wales\\tMale\\tUniversity College at Cardiff\\tChemistry\\tChemistry\\t\\t\\t0\\t0\\t0\\t0.0\\t\\t\\t\\n202\\tPaul S. Lockhart\\t1996.0\\t16.0\\tRetired\\t1956-04-28\\tAmarillo, TX\\tMale\\tTexas Tech University; University of Texas\\tMathematics\\tAerospace Engineering\\tColonel\\tUS Air Force (Retired)\\t2\\t663\\t0\\t0.0\\tSTS-111 (Endeavor), STS-113 (Endeavor)\\t\\t\\n203\\tMichael E. Lopez-Alegria\\t1992.0\\t14.0\\tRetired\\t1958-05-30\\tMadrid, Spain\\tMale\\tUS Naval Academy; US Naval Postgraduate School\\tSystems Engineering\\tAeronautical Engineering\\tCaptain\\tUS Navy (Retired)\\t3\\t6190\\t10\\t67.0\\tSTS-73 (Columbia), STS-92 (Discovery), STS-113 (Endeavor), ISS-14 (Soyuz)\\t\\t\\n204\\tChristopher J. Loria\\t1996.0\\t16.0\\tRetired\\t1960-07-09\\tBelmont, MA\\tMale\\tUS Naval Academy; Harvard University\\tEngineering\\tPublic Administration\\tColonel\\tUS Marine Corps (Retired)\\t0\\t0\\t0\\t0.0\\t\\t\\t\\n205\\tJ. Mike Lounge\\t1980.0\\t9.0\\tDeceased\\t1946-06-28\\tDenver, CO\\tMale\\tUS Naval Academy; University of Colorado\\tMathematics & Physics\\tAstrogeophysics\\t\\t\\t3\\t483\\t0\\t0.0\\tSTS 51-I (Discovery), STS-26 (Discovery), STS-35 (Columbia)\\t2011-03-01\\t\\n206\\tJack R. Lousma\\t1966.0\\t5.0\\tRetired\\t1936-02-29\\tGrand Rapids, MI\\tMale\\tUniversity of Michigan; US Naval Postgraduate School\\tAeronautical Engineering\\tAeronautical Engineering\\tColonel\\tUS Marine Corps (Retired)\\t2\\t1619\\t2\\t11.0\\tSkylab 3, STS-3 (Columbia)\\t\\t\\n207\\tStanley G. Love\\t1998.0\\t17.0\\tManagement\\t1965-06-08\\tSan Diego, CA\\tMale\\tHarvey Mudd College; University of Washington\\tPhysics\\tAstronomy\\t\\t\\t1\\t306\\t2\\t15.0\\tSTS-122 (Atlantis)\\t\\t\\n208\\tJames A. Lovell Jr. \\t1962.0\\t2.0\\tRetired\\t1928-03-25\\tCleveland, OH\\tMale\\tUS Naval Academy\\t\\t\\tCaptain\\tUS Navy (Retired)\\t4\\t715\\t0\\t0.0\\tGemini 7, Gemini 12, Apollo 8, Apollo 13\\t\\t\\n209\\tG. David Low\\t1984.0\\t10.0\\tDeceased\\t1956-02-19\\tCleveland, OH\\tMale\\tWashington & Lee University; Cornell University; Stanford University\\tPhysics & Engineering\\tMechanical Engineering; Aeronautics & Astronautics\\t\\t\\t3\\t714\\t1\\t6.0\\tSTS-32 (Columbia), STS-43 (Atlantis), STS-57 (Endeavor)\\t2008-03-15\\t\\n210\\tEdward T. Lu\\t1995.0\\t15.0\\tRetired\\t1963-07-01\\tSpringfield, MA\\tMale\\tCornell University; Stanford University\\tElectrical Engineering\\tApplied Physics\\t\\t\\t3\\t4962\\t1\\t6.0\\tSTS-84 (Atlantis), STS-106 (Atlantis), ISS-07 (Soyuz)\\t\\t\\n211\\tShannon W. Lucid\\t1978.0\\t8.0\\tRetired\\t1943-01-14\\tShanghai, China\\tFemale\\tUniversity of Oklahoma\\tChemistry\\tBiochemistry\\t\\t\\t5\\t5354\\t0\\t0.0\\tSTS 51-G (Discovery), STS-34 (Atlantis), STS-43 (Atlantis), STS-58 (Columbia), STS-76/79 (Atlantis)\\t\\t\\n212\\tSandra H. Magnus\\t1996.0\\t16.0\\tRetired\\t1964-10-30\\tBelleville, IL\\tFemale\\tUniversity of Missouri-Rolla; Georgia Institute of Technology\\tPhysics\\tElectrical Engineering; Materials Science & Engineering\\t\\t\\t3\\t3776\\t0\\t0.0\\tSTS-112 (Atlantis), STS-126/119 (Endeavor/Discovery), STS-135 (Atlantis)\\t\\t\\n213\\tThomas H. Marshburn\\t2004.0\\t19.0\\tActive\\t1960-08-29\\tStatesville, NC\\tMale\\tDavidson College; University of Virginia; Wake Forest University; University of Texas Medical Branch-Galveston\\tPhysics\\tEngineering Physics; Medicine; Medical Science\\t\\t\\t2\\t3871\\t4\\t24.0\\tSTS-127 (Endeavor), ISS-34/35 (Soyuz)\\t\\t\\n214\\tMichael J. Massimino\\t1996.0\\t16.0\\tManagement\\t1962-08-19\\tOceanside, NY\\tMale\\tColumbia University; MIT\\tIndustrial Engineering\\tTechnology & Policy; Mechanical Engineering\\t\\t\\t2\\t571\\t4\\t30.0\\tSTS-109 (Columbia), STS-125 (Atlantis)\\t\\t\\n215\\tRichard A. Mastracchio\\t1996.0\\t16.0\\tActive\\t1960-02-11\\tWaterbury, CT\\tMale\\tUniversity of Connecticut; Rensselaer Polytechnic Institute; University of Houston-Clear Lake\\tElectrical Engineering; Computer Science\\tElectrical Engineering; Physical Sciences\\t\\t\\t4\\t5461\\t9\\t53.0\\tSTS-106 (Atlantis), STS-118 (Endeavor), STS-131 (Discovery), ISS-38/39 (Soyuz)\\t\\t\\n216\\tThomas K. Mattingly II \\t1966.0\\t5.0\\tRetired\\t1936-03-17\\tChicago, IL\\tMale\\tAuburn University\\tAeronautical Engineering\\t\\tRear Admiral\\tUS Navy (Retired)\\t3\\t508\\t1\\t1.0\\tApollo 16, STS-4 (Columbia), STS 51-C (Discovery)\\t\\t\\n217\\tK. Megan McArthur\\t2000.0\\t18.0\\tActive\\t1971-08-30\\tHonolulu, HI\\tFemale\\tUniversity of California-Los Angeles; University of California-San Diego\\tAerospace Engineering\\tOceanography\\t\\t\\t1\\t309\\t0\\t0.0\\tSTS-125 (Atlantis)\\t\\t\\n218\\tWilliam S. McArthur Jr. \\t1990.0\\t3.0\\tManagement\\t1951-07-26\\tLaurinburg, NC\\tMale\\tUS Military Academy; Georgia Institute of Technology\\tApplied Science & Engineering\\tAerospace Engineering\\tColonel\\tUS Army (Retired)\\t4\\t5398\\t4\\t24.0\\tSTS-58 (Columbia), STS-74 (Atlantis), STS-92 (Discovery), ISS-12 (Soyuz)\\t\\t\\n219\\tS. Christa McAuliffe\\t\\t\\tDeceased\\t1948-09-02\\tBoston, MA\\tFemale\\tFramingham State College; Bowie State College\\tEducation\\tEducation\\t\\t\\t1\\t0\\t0\\t0.0\\tSTS 51-L (Challenger)\\t1986-01-28\\tSTS 51-L (Challenger)\\n220\\tJon A. McBride\\t1978.0\\t8.0\\tRetired\\t1943-08-14\\tCharleston, WV\\tMale\\tUS Naval Postgraduate School\\tAeronautical Engineering\\t\\tCaptain\\tUS Navy (Retired)\\t1\\t197\\t0\\t0.0\\tSTS 41-G (Challenger)\\t\\t\\n221\\tBruce McCandless II \\t1966.0\\t5.0\\tRetired\\t1937-06-08\\tBoston, MA\\tMale\\tUS Naval Academy; Stanford University; University of Houston-Clear Lake\\t\\tElectrical Engineering; Business Administration\\tCaptain\\tUS Navy (Retired)\\t2\\t312\\t2\\t12.0\\tSTS 41-B (Challenger), STS-31 (Discovery)\\t\\t\\n222\\tWilliam C. McCool\\t1996.0\\t16.0\\tDeceased\\t1961-09-23\\tSan Diego, CA\\tMale\\tUS Naval Academy; University of Maryland; US Naval Postgraduate School\\tNaval Sciences\\tComputer Science; Aeronautical Engineering\\tCommander\\tUS Navy\\t1\\t382\\t0\\t0.0\\tSTS-107 (Columbia)\\t2003-02-01\\tSTS-107 (Columbia)\\n223\\tMichael J. McCulley\\t1984.0\\t10.0\\tRetired\\t1943-08-04\\tSan Diego, CA\\tMale\\tPurdue University\\tMetallurgical Engineering\\tMetallurgical Engineering\\tCaptain\\tUS Navy (Retired)\\t1\\t119\\t0\\t0.0\\tSTS-34 (Atlantis)\\t\\t\\n224\\tJames A. McDivitt\\t1984.0\\t2.0\\tRetired\\t1929-06-10\\tChicago, IL\\tMale\\tUniversity of Michigan\\tAstronautical Engineering\\t\\tBrigadier General\\tUS Air Force (Retired)\\t2\\t338\\t0\\t0.0\\tGemini 4, Apollo 9\\t\\t\\n225\\tDonald R. McMonagle\\t1987.0\\t12.0\\tRetired\\t1952-05-14\\tFlint, MI\\tMale\\tUS Air Force Academy; California State University-Fresno\\tAstronautical Engineering\\tMechanical  Engineering\\tColonel\\tUS Air Force (Retired)\\t3\\t605\\t0\\t0.0\\tSTS-39 (Discovery), STS-54 (Endeavor), STS-66 (Atlantis)\\t\\t\\n226\\tRonald E. McNair\\t1978.0\\t8.0\\tDeceased\\t1950-10-21\\tLake City, SC\\tMale\\tNorth Carolina A&T State College; MIT\\tPhysics\\tPhysics\\t\\t\\t2\\t191\\t0\\t0.0\\tSTS 41-B (Challenger), STS 51-L (Challenger)\\t1986-01-28\\tSTS 51-L (Challenger)\\n227\\tCarl J. Meade\\t1985.0\\t11.0\\tRetired\\t1950-11-16\\tChanute Air Force Base, IL\\tMale\\tUniversity of Texas; California Institute of Technology\\tElectronics Engineering\\tElectronics Engineering\\tColonel\\tUS Air Force (Retired)\\t3\\t712\\t1\\t6.0\\tSTS-38 (Atlantis), STS-50 (Columbia), STS-64 (Discovery)\\t\\t\\n228\\tBruce E. Melnick\\t1987.0\\t12.0\\tRetired\\t1949-12-05\\tNew York, NY\\tMale\\tUS Coast Guard Academy; West Florida University\\tEngineering\\tAeronautical Systems\\tCommander\\tUS Coast Guard (Retired)\\t2\\t311\\t0\\t0.0\\tSTS-41 (Discovery), STS-49 (Endeavor)\\t\\t\\n229\\tPamela A. Melroy\\t1995.0\\t15.0\\tRetired\\t1961-09-17\\tPalo Alto, CA\\tFemale\\tWellesley College; MIT\\tPhysics & Astronomy\\tEarth & Planetary Sciences\\tColonel\\tUS Air Force (Retired)\\t3\\t914\\t0\\t0.0\\tSTS-92 (Discovery), STS-112 (Atlantis), STS-120 (Discovery)\\t\\t\\n230\\tLeland D. Melvin\\t1998.0\\t17.0\\tManagement\\t1964-02-15\\tLynchburg, VA\\tMale\\tUniversity of Richmond; University of Virginia\\tChemistry\\tMaterials Science Engineering\\t\\t\\t2\\t565\\t0\\t0.0\\tSTS-122 (Atlantis), STS-129 (Atlantis)\\t\\t\\n231\\tDorothy M. Metcalf-Lindenberger\\t2004.0\\t19.0\\tActive\\t1975-05-02\\tColorado Springs, CO\\tFemale\\tWhitman College\\tGeology\\t\\t\\t\\t1\\t362\\t0\\t0.0\\tSTS-131 (Discovery)\\t\\t\\n232\\tF. Curtis Michel\\t1965.0\\t4.0\\tRetired\\t1934-06-05\\tLaCrosse, WI\\tMale\\tCalifornia Institute of Technology\\tPhysics\\tPhysics\\t\\t\\t0\\t0\\t0\\t0.0\\t\\t\\t\\n233\\tEdgar D. Mitchell\\t1966.0\\t5.0\\tRetired\\t1930-09-17\\tHereford, TX\\tMale\\tCarnegie-Mellon University; US Naval Postgraduate School; MIT\\tIndustrial Management\\tAeronautical Engineering; Aeronautics & Astronautics\\tCaptain\\tUS Navy (Retired)\\t1\\t216\\t2\\t9.0\\tApollo 14\\t\\t\\n234\\tBarbara R. Morgan\\t1998.0\\t17.0\\tRetired\\t1951-11-28\\tFresno, CA\\tFemale\\tStanford University\\tHuman Biology\\t\\t\\t\\t1\\t305\\t0\\t0.0\\tSTS-118 (Endeavor)\\t\\t\\n235\\tLee M. Morin\\t1996.0\\t16.0\\tManagement\\t1952-09-09\\tManchester, NH\\tMale\\tUniversity of New Hampshire; University of Alabama-Birmingham; New York University\\tMathematical & Electrical Science\\tPublic Health; Biochemistry; Medicine; Microbiology\\tCaptain\\tUS Navy\\t1\\t259\\t2\\t14.0\\tSTS-110 (Atlantis)\\t\\t\\n236\\tRichard M. Mullane\\t1978.0\\t8.0\\tRetired\\t1945-09-10\\tWichita Falls, TX\\tMale\\tUS Military Academy; US Air Force Institute of Technology\\tMilitary Engineering\\tAeronautical Engineering\\tColonel\\tUS Air Force (Retired)\\t3\\t356\\t0\\t0.0\\tSTS 41-D (Discovery), STS-27 (Atlantis), STS-36 (Atlantis)\\t\\t\\n237\\tStory Musgrave\\t1967.0\\t6.0\\tRetired\\t1935-08-19\\tBoston, MA\\tMale\\tSyracuse University; Marietta College; University of California-Los Angeles; University of Kentucky; University of Houston; Columbia University\\tMathematics & Statistics; Chemistry\\tBusiness Administration; Physiology; Literature; Medicine\\t\\t\\t6\\t1281\\t4\\t26.0\\tSTS-6 (Challenger), STS 51-F (Challenger), STS-33 (Discovery), STS-44 (Atlantis), STS-61 (Endeavor), STS-80 (Columbia)\\t\\t\\n238\\tSteven R. Nagel\\t1978.0\\t8.0\\tRetired\\t1946-10-27\\tCanton, IL\\tMale\\tUniversity of Illinois; California State University-Fresno\\tAerospace Engineering\\tMechanical  Engineering\\tColonel\\tUS Air Force (Retired)\\t4\\t721\\t0\\t0.0\\tSTS 51-G (Discovery), STS 61-A (Challenger), STS-37 (Atlantis), STS-55 (Columbia)\\t\\t\\n239\\tBill Nelson\\t\\t\\tRetired\\t1942-09-29\\tMiami, FL\\tMale\\tYale University; University of Virginia\\t\\tLaw\\tCaptain\\tUS Army (Retired)\\t1\\t146\\t0\\t0.0\\tSTS 61-C (Columbia)\\t\\t\\n240\\tGeorge D. Nelson\\t1978.0\\t8.0\\tRetired\\t1950-07-13\\tCharles City, IA\\tMale\\tHarvey Mudd College; University of Washington\\tPhysics\\tAstronomy\\t\\t\\t3\\t411\\t2\\t10.0\\tSTS 41-C (Challenger), STS 61-C (Columbia), STS-26 (Discovery)\\t\\t\\n241\\tJames H. Newman\\t1990.0\\t13.0\\tRetired\\t1956-10-16\\tSan Diego, CA\\tMale\\tDartmouth College; Rice University\\tPhysics\\tPhysics\\t\\t\\t4\\t1042\\t6\\t43.0\\tSTS-51 (Discovery), STS-69 (Endeavor), STS-88 (Endeavor), STS- 109 (Columbia)\\t\\t\\n242\\tCarlos I. Noriega\\t1995.0\\t15.0\\tRetired\\t1959-10-08\\tLima, Peru\\tMale\\tUniversity of Southern California; US Naval Postgraduate School\\tComputer Science\\tComputer Science; Space Systems Operations\\tLieutenant Colonel\\tUS Marine Corps (Retired)\\t2\\t481\\t3\\t19.0\\tSTS-84 (Atlantis), STS-97 (Endeavor)\\t\\t\\n243\\tLisa M. Nowak\\t1996.0\\t16.0\\tRetired\\t1963-05-10\\tWashington, DC\\tFemale\\tUS Naval Academy; US Naval Postgraduate School\\tAerospace Engineering\\tAeronautical Engineering\\tCaptain\\tUS Navy (Retired)\\t1\\t306\\t0\\t0.0\\tSTS-121 (Discovery)\\t\\t\\n244\\tKaren L. Nyberg\\t2000.0\\t18.0\\tActive\\t1969-10-07\\tParkerâ€™s Prairie, MN\\tFemale\\tUniversity of North Dakota; University of Texas\\tMechanical Engineering\\tMechanical Engineering\\t\\t\\t2\\t4320\\t0\\t0.0\\tSTS-124 (Discovery), ISS-36/37 (Soyuz)\\t\\t\\n245\\tBryan D. O'Connor\\t1980.0\\t9.0\\tRetired\\t1946-09-06\\tOrange, CA\\tMale\\tUS Naval Academy; West Florida University\\tEngineering\\tAeronautical Systems\\tColonel\\tUS Marine Corps (Retired)\\t2\\t383\\t0\\t0.0\\tSTS 61-B (Atlantis), STS-40 (Columbia)\\t\\t\\n246\\tBrian T. O'Leary\\t1967.0\\t6.0\\tDeceased\\t1940-01-27\\tBoston, MA\\tMale\\tWilliams College; Georgetown University; University of California-Berkeley\\tPhysics\\tAstronomy\\t\\t\\t0\\t0\\t0\\t0.0\\t\\t2011-07-28\\t\\n247\\tEllen Ochoa\\t1990.0\\t13.0\\tManagement\\t1958-05-10\\tLos Angeles, CA\\tFemale\\tSan Diego State University; Stanford University\\tPhysics\\tElectrical Engineering\\t\\t\\t4\\t979\\t0\\t0.0\\tSTS-56 (Discovery), STS-66 (Atlantis), STS-96 (Discovery), STS-110 (Atlantis)\\t\\t\\n248\\tWilliam A. Oefelein\\t1998.0\\t17.0\\tRetired\\t1965-03-29\\tFt. Belvoir, VA\\tMale\\tOregon State University; University of Tennessee\\tElectrical Engineering\\tAviation Systems\\tCommander\\tUS Navy (Retired)\\t1\\t308\\t0\\t0.0\\tSTS-116 (Discovery)\\t\\t\\n249\\tJohn D. Olivas\\t1998.0\\t17.0\\tRetired\\t1966-05-25\\tNorth Hollywood, CA\\tMale\\tUniversity of Texas-El Paso; University of Houston; Rice University\\tMechanical Engineering\\tMechanical  Engineering; Mechanical  Engineering & Materials Science\\t\\t\\t2\\t665\\t5\\t34.0\\tSTS-117 (Atlantis), STS-128 (Discovery)\\t\\t\\n250\\tEllison S. Onizuka\\t1978.0\\t8.0\\tDeceased\\t1946-06-24\\tKealakekua, HI\\tMale\\tUniversity of Colorado\\tAerospace Engineering\\tAerospace Engineering\\tLieutenant Colonel\\tUS Air Force\\t2\\t73\\t0\\t0.0\\tSTS 51-C (Discovery), STS 51-L (Challenger)\\t1986-01-28\\tSTS 51-L (Challenger)\\n251\\tStephen S. Oswald\\t1985.0\\t11.0\\tRetired\\t1951-06-30\\tSeattle, WA\\tMale\\tUS Naval Academy\\tAerospace Engineering\\t\\t\\t\\t3\\t814\\t0\\t0.0\\tSTS-42 (Discovery), STS-56 (Discovery), STS-67 (Endeavor)\\t\\t\\n252\\tRobert F. Overmyer\\t1969.0\\t7.0\\tDeceased\\t1936-07-14\\tLorain, OH\\tMale\\tBaldwin Wallace College; US Naval Postgraduate School\\tPhysics\\tAeronautics\\tColonel\\tUS Marine Corps (Retired)\\t2\\t290\\t0\\t0.0\\tSTS-5 (Columbia), STS 51-B (Challenger)\\t1996-03-22\\t\\n253\\tWilliam A. Pailes\\t\\t\\tRetired\\t1952-06-26\\tHackensack, NJ\\tMale\\tUS Air Force Academy; Texas A&M University\\tComputer Science\\tComputer Science\\tColonel\\tUS Air Force (Retired)\\t1\\t97\\t0\\t0.0\\tSTS 51-J (Atlantis)\\t\\t\\n254\\tScott E. Parazynski\\t1992.0\\t14.0\\tRetired\\t1961-07-28\\tLittle Rock, AR\\tMale\\tStanford University\\tBiology\\tMedicine\\t\\t\\t5\\t1404\\t7\\t47.0\\tSTS-66 (Atlantis), STS-86 (Atlantis), STS-95 (Discovery), STS-100 (Endeavor), STS-120 (Discovery)\\t\\t\\n255\\tRonald A. Parise\\t\\t\\tDeceased\\t1951-05-24\\tWarren, OH\\tMale\\tYoungstown State University; University of Florida\\tPhysics\\tAstronomy\\t\\t\\t2\\t614\\t0\\t0.0\\tSTS-35 (Columbia), STS-67 (Endeavor)\\t2008-05-09\\t\\n256\\tRobert A. Parker\\t1967.0\\t6.0\\tRetired\\t1936-12-14\\tNew York, NY\\tMale\\tAmherst College; California Institute of Technology\\tPhysics & Astronomy\\tAstronomy\\t\\t\\t2\\t462\\t0\\t0.0\\tSTS-9 (Columbia), STS-35 (Columbia)\\t\\t\\n257\\tNiclolas J. M. Patrick\\t1998.0\\t17.0\\tRetired\\t1964-03-22\\tNorth Yorkshire, England\\tMale\\tUniversity of Cambridge; MIT\\tEngineering\\tEngineering; Mechanical Engineering\\t\\t\\t2\\t638\\t3\\t18.0\\tSTS-116 (Discovery), STS-130 (Endeavor)\\t\\t\\n258\\tJames A. Pawelczyk\\t\\t\\tRetired\\t1960-09-20\\tBuffalo, NY\\tMale\\tUniversity of Rochester; Pennsylvania State University; University of North Texas\\tBiology & Psychology\\tPhysiology; Biology\\t\\t\\t1\\t381\\t0\\t0.0\\tSTS-90 (Columbia)\\t\\t\\n259\\tGary E. Payton\\t\\t\\tRetired\\t1948-06-20\\tRock Island, IL\\tMale\\tUS Air Force Academy; Purdue University\\tAstronautical Engineering\\tAstronautical & Aeronautical Engineering\\tMajor\\tUS Air Force\\t1\\t73\\t0\\t0.0\\tSTS 51-C (Discovery)\\t\\t\\n260\\tDonald H. Peterson\\t1969.0\\t7.0\\tRetired\\t1933-10-22\\tWinona, MS\\tMale\\tUS Military Academy; US Air Force Institute of Technology\\t\\tNuclear Engineering\\tColonel\\tUS Air Force (Retired)\\t1\\t120\\t1\\t4.0\\tSTS-6 (Challenger)\\t\\t\\n261\\tDonald R. Pettit\\t1996.0\\t16.0\\tActive\\t1955-04-20\\tSilverton, OR\\tMale\\tOregon State University; University of Arizona\\tChemical Engineering\\tChemical Engineering\\t\\t\\t3\\t8872\\t2\\t13.0\\tISS-6 (Soyuz), STS-126 (Endeavor), ISS-30/31 (Soyuz)\\t\\t\\n262\\tJohn L. Phillips\\t1996.0\\t16.0\\tRetired\\t1951-04-15\\tFt. Belvoir, VA\\tMale\\tUS Naval Academy; University of West Florida; University of California-Los Angeles\\tMathematics; Russian\\tAeronautical Systems; Geophysics & Space Physics\\tCaptain\\tUS Naval Reserves (Retired)\\t3\\t4880\\t1\\t5.0\\tSTS-100 (Endeavor), ISS-11 (Soyuz), STS-119 (Discovery)\\t\\t\\n263\\tWilliam R. Pogue\\t1966.0\\t5.0\\tRetired\\t1930-01-23\\tOkemah, OK\\tMale\\tOklahoma Baptist University; Oklahoma State University\\tEducation\\tMathematics\\tColonel\\tUS Air Force (Retired)\\t1\\t2017\\t2\\t13.0\\tSkylab 4\\t\\t\\n264\\tAlan G. Poindexter\\t1998.0\\t17.0\\tDeceased\\t1961-11-05\\tPasadena, CA\\tMale\\tGeorgia Institute of Technology; US Naval Postgraduate School\\tAerospace Engineering\\tAeronautical Engineering\\tCaptain\\tUS Navy\\t2\\t669\\t0\\t0.0\\tSTS-122 (Atlantis), STS-131 (Discovery)\\t2012-07-01\\t\\n265\\tMark L. Polansky\\t1996.0\\t16.0\\tRetired\\t1956-06-02\\tPaterson, NJ\\tMale\\tPurdue University\\tAeronautical & Astronautical Engineering\\tAeronautical & Astronautical Engineering\\t\\t\\t3\\t995\\t0\\t0.0\\tSTS-98 (Atlantis), ST-116 (Discovery), STS-127 (Endeavor)\\t\\t\\n266\\tCharles J. Precourt\\t1990.0\\t13.0\\tRetired\\t1955-06-29\\tWaltham, MA\\tMale\\tUS Air Force Academy; Golden Gate University; US Naval War College\\tAeronautical Engineering\\tEngineering Management; Strategic Studies\\tColonel\\tUS Air Force (Retired)\\t4\\t950\\t0\\t0.0\\tSTS-55 (Columbia), STS-71 (Atlantis), STS-84 (Atlantis), STS-91 (Discovery)\\t\\t\\n267\\tWilliam F. Readdy\\t1987.0\\t12.0\\tRetired\\t1952-01-24\\tQuonset Point, RI\\tMale\\tUS Naval Academy\\tAerospace Engineering\\t\\tCaptain\\tUS Navy (Retired)\\t3\\t672\\t0\\t0.0\\tSTS-42 (Discovery), STS-51 (Discovery), STS-79 (Atlantis)\\t\\t\\n268\\tKenneth S. Reightler Jr. \\t1987.0\\t12.0\\tRetired\\t1951-03-24\\tPatuxent River, MD\\tMale\\tUS Naval Academy; US Naval Postgraduate School; University of Southern California\\tAerospace Engineering\\tAeronautical Engineering; Systems Management\\tCaptain\\tUS Navy (Retired)\\t2\\t327\\t0\\t0.0\\tSTS-48 (Discovery), STS-60 (Discovery)\\t\\t\\n269\\tJames F. Reilly II \\t1995.0\\t15.0\\tRetired\\t1954-03-18\\tMountain Home Air Force Base, ID\\tMale\\tUniversity of Texas-Dallas\\tGeosciences\\tGeosciences\\t\\t\\t3\\t854\\t5\\t31.0\\tSTS-89 (Endeavor), STS-104 (Atlantis), STS-117 (Atlantis)\\t\\t\\n270\\tGarrett E. Reisman\\t1998.0\\t17.0\\tRetired\\t1968-02-10\\tMorristown, NJ\\tMale\\tUniversity of Pennsylvania; California Institute of Technology\\tEconomics\\tMechanical  Engineering\\t\\t\\t2\\t2571\\t3\\t21.0\\tSTS-123/124 (Endeavor/Discovery), STS-132 (Atlantis)\\t\\t\\n271\\tJudith A. Resnik\\t1978.0\\t8.0\\tDeceased\\t1949-04-05\\tAkron, OH\\tFemale\\tCarnegie-Mellon University; University of Maryland\\tElectrical Engineering\\tElectrical Engineering\\t\\t\\t2\\t144\\t0\\t0.0\\tSTS 41-D (Discovery), STS 51-L (Challenger)\\t1986-01-28\\tSTS 51-L (Challenger)\\n272\\tPaul W. Richards\\t1996.0\\t16.0\\tManagement\\t1964-05-20\\tScranton, PA\\tMale\\tDrexel University; University of Maryland\\tMechanical Engineering\\tMechanical Engineering\\t\\t\\t1\\t307\\t1\\t6.0\\tSTS-102 (Discovery)\\t\\t\\n273\\tRichard N. Richards\\t1980.0\\t9.0\\tRetired\\t1946-08-24\\tKey West, FL\\tMale\\tUniversity of Missouri; University of West Florida\\tChemical Engineering\\tAeronautical Systems\\tCaptain\\tUS Navy (Retired)\\t4\\t813\\t0\\t0.0\\tSTS-28 (Columbia), STS-41 (Discovery), STS-50 (Columbia), STS-64 (Discovery)\\t\\t\\n274\\tSally K. Ride\\t1978.0\\t8.0\\tDeceased\\t1951-05-26\\tLos Angeles, CA\\tFemale\\tStanford University\\tPhysics; English\\tPhysics\\t\\t\\t2\\t343\\t0\\t0.0\\tSTS-7 (Challenger), STS 41-G (Challenger)\\t2012-07-23\\t\\n275\\tPatricia Hilliard Robertson\\t1998.0\\t17.0\\tDeceased\\t1963-03-12\\tIndiana, PA\\tFemale\\tIndiana University of Pennsylvania; Medical College of Pennsylvania\\tBiology\\tMedicine\\t\\t\\t0\\t0\\t0\\t0.0\\t\\t2001-05-24\\t\\n276\\tStephen K. Robinson\\t1995.0\\t15.0\\tRetired\\t1955-10-26\\tSacramento, CA\\tMale\\tUniversity of California-Davis; Stanford University\\tMechanical & Aeronautical Engineering\\tMechanical  Engineering\\t\\t\\t4\\t1162\\t3\\t20.0\\tSTS-85 (Discovery), STS-95 (Discovery), STS-114 (Discovery), STS-130 (Endeavor)\\t\\t\\n277\\tKent V. Rominger\\t1992.0\\t14.0\\tRetired\\t1956-08-07\\tDel Norte, CO\\tMale\\tColorado State University; US Naval Postgraduate School\\tCivil Engineering\\tAeronautical Engineering\\tCaptain\\tUS Navy (Retired)\\t5\\t1611\\t0\\t0.0\\tSTS-73 (Columbia), STS-80 (Columbia), STS-85 (Discovery), STS-96 (Discovery), STS-100 (Endeavor)\\t\\t\\n278\\tStuart A. Roosa\\t1966.0\\t5.0\\tDeceased\\t1933-08-16\\tDurango, CO\\tMale\\tUniversity of Colorado\\tAeronautical Engineering\\t\\tColonel\\tUS Air Force (Retired)\\t1\\t216\\t0\\t0.0\\tApollo 14\\t1994-12-12\\t\\n279\\tJerry L. Ross\\t1980.0\\t9.0\\tRetired\\t1948-01-20\\tCrown Point, IN\\tMale\\tPurdue University\\tMechanical Engineering\\tMechanical Engineering\\tColonel\\tUS Air Force (Retired)\\t7\\t1393\\t9\\t58.0\\tST 61-B (Atlantis), ST-27 (Atlantis), ST-37 (Atlantis), STS-55 (Columbia), STS-74 (Atlantis), STS-88 (Endeavor), STS-110 (Atlantis)\\t\\t\\n280\\tKathleen Rubins\\t2009.0\\t20.0\\tActive\\t1978-10-14\\tFarmington, CT\\tFemale\\tUniversity of California-San Diego; Stanford University\\tMolecular Biology\\tCancer Biology\\t\\t\\t1\\t2762\\t2\\t13.0\\tISS-48/49 (Soyuz)\\t\\t\\n281\\tMario Runco Jr. \\t1987.0\\t12.0\\tManagement\\t1952-01-26\\tBronx, NY\\tMale\\tCity College of New York; Rutgers University\\tEarth & Planetary Science\\tAtmospheric Physics\\tLieutenant Commander\\tUS Navy (Retired)\\t3\\t551\\t0\\t0.0\\tSTS-44 (Atlantis), STS-54 (Endeavor), STS-77 (Endeavor)\\t2001-04-23\\t\\n282\\tAlbert Sacco Jr.\\t\\t\\tRetired\\t1949-05-03\\tBoston, MA\\tMale\\tNortheastern University; MIT\\tChemical Engineering\\tChemical Engineering\\t\\t\\t1\\t381\\t0\\t0.0\\tSTS-73 (Columbia)\\t\\t\\n283\\tRobert L. Satcher Jr. \\t2004.0\\t19.0\\tRetired\\t1965-09-22\\tHampton, VA\\tMale\\tMIT; Harvard University\\tChemical Engineering\\tChemical Engineering; Medicine\\t\\t\\t1\\t259\\t2\\t12.0\\tSTS-129 (Atlantis)\\t\\t\\n284\\tWalter M. Schirra Jr. \\t1959.0\\t1.0\\tDeceased\\t1923-03-12\\tHackensack, NJ\\tMale\\tUS Naval Academy\\tNaval Sciences\\t\\tCaptain\\tUS Navy (Retired)\\t3\\t295\\t0\\t0.0\\tMercury 8, Gemini 6, Apollo 7\\t2007-05-02\\t\\n285\\tHarrison H. Schmitt\\t1965.0\\t4.0\\tRetired\\t1935-07-03\\tSanta Rita, NM\\tMale\\tCalifornia Institute of Technology; Harvard University\\tGeology\\tGeology\\t\\t\\t1\\t301\\t3\\t22.0\\tApollo 17\\t\\t\\n286\\tRussell L. Schweickart\\t1963.0\\t3.0\\tRetired\\t1935-10-25\\tNeptune, NJ\\tMale\\tMIT\\tAeronautics & Astronautics\\tAeronautics & Astronautics\\t\\t\\t1\\t241\\t1\\t1.0\\tApollo 9\\t\\t\\n287\\tFrancis R. Scobee\\t1978.0\\t8.0\\tDeceased\\t1939-05-19\\tCle Elum, WA\\tMale\\tUniversity of Arizona\\tAerospace Engineering\\t\\tMajor\\tUS Air Force (Retired)\\t2\\t167\\t0\\t0.0\\tSTS 41-C (Challenger), STS 51-L (Challenger)\\t1986-01-28\\tSTS 51-L (Challenger)\\n288\\tDavid R. Scott\\t1963.0\\t3.0\\tRetired\\t1932-06-06\\tSan Antonio, TX\\tMale\\tUS Military Academy; MIT\\t\\tAeronautics & Astronautics\\tColonel\\tUS Air Force (Retired)\\t3\\t546\\t4\\t19.0\\tGemini 8, Apollo 9, Apollo 15\\t\\t\\n289\\tWinston E. Scott\\t1992.0\\t14.0\\tRetired\\t1950-08-06\\tMiami, FL\\tMale\\tFlorida State University; US Naval Postgraduate School\\tMusic\\tAeronautical Engineering\\tCaptain\\tUS Navy (Retired)\\t2\\t590\\t3\\t19.0\\tSTS-72 (Endeavor), STS-87 (Columbia)\\t\\t\\n290\\tPaul D. Scully-Power\\t\\t\\tRetired\\t1944-05-28\\tSydney, Australia\\tMale\\tUniversity of Sydney\\tApplied Mathematics\\t\\t\\t\\t1\\t197\\t0\\t0.0\\tSTS 41-G (Challenger)\\t\\t\\n291\\tRichard A. Searfoss\\t1990.0\\t13.0\\tRetired\\t1956-06-05\\tMount Clemens, MI\\tMale\\tUS Air Force Academy; California Institute of Technology\\tAeronautical Engineering\\tAeronautics\\tColonel\\tUS Air Force (Retired)\\t3\\t939\\t0\\t0.0\\tSTS-58 (Columbia), STS-76 (Atlantis), STS-90 (Columbia)\\t\\t\\n292\\tMargaret Rhea Seddon\\t1978.0\\t8.0\\tRetired\\t1947-11-08\\tMurfreesboro, TN\\tFemale\\tUniversity of California-Berkeley; University of Tennessee\\tPhysiology\\tMedicine\\t\\t\\t3\\t722\\t0\\t0.0\\tSTS 51-D (Discovery), STS-40 (Columbia), STS-58 (Columbia)\\t\\t\\n293\\tElliot M. See Jr. \\t1962.0\\t2.0\\tDeceased\\t1927-07-23\\tDallas, TX\\tMale\\tUS Merchant Marine Academy; University of California-Los Angeles\\t\\tEngineering\\t\\t\\t0\\t0\\t0\\t0.0\\t\\t1966-02-28\\t\\n294\\tRonald M. Sega\\t1990.0\\t13.0\\tRetired\\t1952-12-04\\tCleveland, OH\\tMale\\tUS Air Force Academy; Ohio State University; University of Colorado\\tPhysics & Mathematics\\tPhysics; Electrical Engineering\\tColonel\\tUS Air Force Reserves (Retired)\\t2\\t420\\t0\\t0.0\\tSTS-60 (Discovery), STS-76 (Atlantis)\\t\\t\\n295\\tPiers J. Sellers\\t1996.0\\t16.0\\tManagement\\t1955-04-11\\tCrowborough, England\\tMale\\tUniversity of Edinburgh; Leeds University\\tEcological Science\\tBiometeorology\\t\\t\\t3\\t839\\t6\\t41.0\\tSTS-112 (Atlantis), STS-121 (Discovery), STS-132 (Atlantis)\\t\\t\\n296\\tBrewster H. Shaw Jr. \\t1978.0\\t8.0\\tRetired\\t1945-05-16\\tCass City, MI\\tMale\\tUniversity of Wisconsin\\tEngineering Mechanics\\tEngineering Mechanics\\tColonel\\tUS Air Force (Retired)\\t3\\t533\\t0\\t0.0\\tSTS-9 (Columbia), STS 61-B (Atlantis), STS-28 (Columbia)\\t\\t\\n297\\tAlan B. Shepard Jr. \\t1959.0\\t1.0\\tDeceased\\t1923-11-18\\tEast Derry, NH\\tMale\\tUS Naval Academy\\tNaval Sciences\\t\\tRear Admiral\\tUS Navy (Retired)\\t2\\t216\\t2\\t9.0\\tMercury 3, Apollo 14\\t1998-07-21\\t\\n298\\tWilliam M. Shepherd\\t1984.0\\t10.0\\tRetired\\t1949-07-26\\tOak Ridge, TN\\tMale\\tUS Naval Academy; MIT\\tAerospace Engineering\\tMechanical  Engineering\\tCaptain\\tUS Navy (Retired)\\t4\\t3823\\t0\\t0.0\\tSTS-37 (Atlantis), STS-41 (Discovery), STS-52 (Columbia), ISS-01/STS-102 (Soyuz/Discovery)\\t\\t\\n299\\tLoren J. Shriver\\t1978.0\\t8.0\\tRetired\\t1944-09-23\\tJefferson, IA\\tMale\\tUS Air Force Academy; Purdue University\\tAeronautical Engineering\\tAstronautical Engineering\\tColonel\\tUS Air Force (Retired)\\t3\\t386\\t0\\t0.0\\tSTS 51-C (Discovery), STS-31 (Discovery), STS-46 (Atlantis)\\t\\t\\n300\\tDonald K. Slayton\\t1959.0\\t1.0\\tDeceased\\t1924-03-01\\tSparta, WI\\tMale\\tUniversity of Minnesota\\tAeronautical Engineering\\t\\tMajor\\tUS Air Force Reserves\\t1\\t217\\t0\\t0.0\\tApollo-Soyuz Test Project\\t1993-06-13\\t\\n301\\tMichael J. Smith\\t1980.0\\t9.0\\tDeceased\\t1945-04-30\\tBeaufort, NC\\tMale\\tUS Naval Academy; US Naval Postgraduate School\\tNaval Sciences\\tAeronautical Engineering\\tCaptain\\tUS Navy\\t1\\t0\\t0\\t0.0\\tSTS 51-L (Challenger)\\t1986-01-28\\tSTS 51-L (Challenger)\\n302\\tSteven L. Smith\\t1992.0\\t14.0\\tManagement\\t1958-12-30\\tPhoenix, AZ\\tMale\\tStanford University\\tElectrical Engineering\\tElectrical Engineering\\t\\t\\t4\\t960\\t7\\t49.0\\tSTS-68 (Endeavor), STS-82 (Discovery), STS-103 (Discovery), STS-110 (Atlantis)\\t\\t\\n303\\tSherwood C. Spring\\t1980.0\\t9.0\\tRetired\\t1944-09-23\\tHartford, CT\\tMale\\tUS Military Academy; University of Arizona\\tEngineering\\tAerospace Engineering\\tColonel\\tUS Army (Retired)\\t1\\t165\\t2\\t12.0\\tSTS 61-B (Atlantis)\\t\\t\\n304\\tRobert C. Springer\\t1980.0\\t9.0\\tRetired\\t1942-05-21\\tSt. Louis, MO\\tMale\\tUS Naval Academy; US Naval Postgraduate School\\tNaval Sciences\\tOperations Research\\tColonel\\tUS Marine Corps (Retired)\\t2\\t237\\t0\\t0.0\\tSTS-29 (Discovery), STS-38 (Atlantis)\\t\\t\\n305\\tThomas P. Stafford\\t1962.0\\t2.0\\tRetired\\t1930-09-17\\tWeatherford, OK\\tMale\\tUS Naval Academy\\t\\t\\tLieutenant General\\tUS Air Force (Retired)\\t4\\t507\\t0\\t0.0\\tGemini 6, Gemini 9, Apollo 10, Apollo-Soyuz Test Project\\t\\t\\n306\\tHeidemarie M. Stefanyshyn-Piper\\t1996.0\\t16.0\\tRetired\\t1963-02-07\\tSt. Paul, MN\\tFemale\\tMIT\\tMechanical Engineering\\t\\tCaptain\\tUS Navy\\t2\\t663\\t2\\t33.0\\tSTS-115 (Atlantis), STS-126 (Endeavor)\\t\\t\\n307\\tRobert L. Stewart\\t1978.0\\t8.0\\tRetired\\t1942-08-13\\tWashington, DC\\tMale\\tUniversity of Southern Mississippi; University of Texas-Arlington\\tMathematics\\tAerospace Engineering\\tBrigadier General\\tUS Army (Retired)\\t2\\t289\\t2\\t12.0\\tSTS 41-B (Challenger), STS 51-J (Atlantis)\\t\\t\\n308\\tNicole P. Stott\\t2000.0\\t18.0\\tActive\\t1962-11-19\\tAlbany, NY\\tFemale\\tEmbry-Riddle Aeronautical University; University of Central Florida\\tAeronautical Engineering\\tEngineering Management\\t\\t\\t2\\t2477\\t1\\t6.0\\tSTS-128/129 (Discovery/Atlantis), STS-133 (Discovery)\\t\\t\\n309\\tFrederick W. Sturckow\\t1995.0\\t15.0\\tRetired\\t1961-08-11\\tLa Mesa, CA\\tMale\\tCalifornia Polytechnic State University\\tMechanical Engineering\\t\\tColonel\\tUS Marine Corps (Retired)\\t4\\t1233\\t0\\t0.0\\tSTS-88 (Endeavor), STS-105 (Discovery), STS-117 (Atlantis), STS-128 (Discovery)\\t\\t\\n310\\tKathryn D. Sullivan\\t1978.0\\t8.0\\tRetired\\t1951-10-03\\tPatterson, NJ\\tFemale\\tUniversity of California-Santa Cruz; Dalhousie University\\tEarth Sciences\\tEarth Sciences; Geology\\t\\t\\t3\\t532\\t1\\t3.0\\tSTS 41-G (Challenger), STS-31 (Discovery), STS-45 (Atlantis)\\t\\t\\n311\\tSteven R. Swanson\\t1998.0\\t17.0\\tActive\\t1960-12-03\\tSyracuse, NY\\tMale\\tUniversity of Colorado; Florida Atlantic University; Texas A&M University\\tEngineering Physics\\tComputer Systems; Computer Science\\t\\t\\t3\\t4700\\t5\\t28.0\\tSTS-117 (Atlantis), STS-119 (Discovery), ISS-39/40 (Soyuz)\\t\\t\\n312\\tJohn L. Swigert Jr. \\t1966.0\\t5.0\\tDeceased\\t1931-08-30\\tDenver, CO\\tMale\\tUniversity of Colorado; Rensselaer Polytechnic Institute; University of Hartford\\tMechanical Engineering\\tAerospace Science; Business Administration\\t\\t\\t1\\t142\\t0\\t0.0\\tApollo 13\\t1982-12-27\\t\\n313\\tDaniel M. Tani\\t1996.0\\t16.0\\tRetired\\t1961-02-01\\tRidley Park, PA\\tMale\\tMIT\\tMechanical Engineering\\tMechanical Engineering\\t\\t\\t2\\t3162\\t6\\t39.0\\tSTS-108 (Endeavor), STS-120/122 (Discovery/Atlantis)\\t\\t\\n314\\tJoseph R. Tanner\\t1992.0\\t14.0\\tRetired\\t1950-01-21\\tDanville, IL\\tMale\\tUniversity of Illinois\\tMechanical Engineering\\t\\t\\t\\t4\\t1045\\t7\\t46.0\\tSTS-66 (Atlantis), STS-82 (Discovery), STS-97 (Endeavor), STS-115 (Discovery)\\t\\t\\n315\\tNorman E. Thagard\\t1978.0\\t8.0\\tRetired\\t1943-07-03\\tMarianna, FL\\tMale\\tFlorida State University; University of Texas\\tEngineering Science\\tEngineering Science; Medicine\\t\\t\\t5\\t3373\\t0\\t0.0\\tSTS-7 (Challenger), STS 51-B (Challenger), STS-30 (Atlantis), STS-42 (Discovery), STS-71 (Soyuz/Atlantis)\\t\\t\\n316\\tAndrew S. W. Thomas\\t1992.0\\t14.0\\tManagement\\t1951-12-18\\tAdelaide, Australia\\tMale\\tUniversity of Adelaide\\tMechanical Engineering\\tMechanical Engineering\\t\\t\\t4\\t4257\\t1\\t6.0\\tSTS-77 (Endeavor), STS-89/91 (Endeavor/Discovery), STS-102 (Discovery), STS-114 (Discovery)\\t\\t\\n317\\tDonald A. Thomas\\t1990.0\\t13.0\\tRetired\\t1955-05-06\\tCleveland, OH\\tMale\\tCase Western Reserve University; Cornell University\\tPhysics\\tMaterials Science\\t\\t\\t4\\t1040\\t0\\t0.0\\tSTS-65 (Columbia), STS-70 (Discovery), STS-83 (Columbia), STS-94 (Columbia)\\t\\t\\n318\\tStephen D. Thorne\\t1985.0\\t11.0\\tDeceased\\t1953-02-11\\tFrankfurt, West Germany\\tMale\\tUS Naval Academy\\tEngineering\\t\\tLieutenant Commander\\tUS Navy\\t0\\t0\\t0\\t0.0\\t\\t1986-05-24\\t\\n319\\tKathryn C. Thornton\\t1984.0\\t10.0\\tRetired\\t1952-08-17\\tMontgomery, AL\\tFemale\\tAuburn University; University of Virginia\\tPhysics\\tPhysics\\t\\t\\t4\\t975\\t3\\t21.0\\tSTS-33 (Discovery), STS-49 (Endeavor), STS-61 (Endeavor), STS-73 (Columbia)\\t\\t\\n320\\tWilliam E. Thornton\\t1967.0\\t6.0\\tRetired\\t1929-04-14\\tFaison, NC\\tMale\\tUniversity of North Carolina\\tPhysics\\tMedicine\\t\\t\\t2\\t315\\t0\\t0.0\\tSTS-8 (Challenger), STS 51-B (Challenger)\\t\\t\\n321\\tPierre J. Thuot\\t1985.0\\t11.0\\tRetired\\t1955-05-19\\tGroton, CT\\tMale\\tUS Naval Academy; University of Southern California\\tPhysics\\tSystems Management\\tCommander\\tUS Navy\\t3\\t654\\t3\\t17.0\\tSTS-36 (Atlantis), STS-49 (Endeavor), STS-62 (Columbia)\\t\\t\\n322\\tScott D. Tingle\\t2009.0\\t20.0\\tActive\\t1965-07-19\\tAttleboro, MA\\tMale\\tSoutheastern Massachusetts University; Purdue University\\tMechanical Engineering\\tMechanical Engineering\\tCommander\\tUS Navy\\t0\\t0\\t0\\t0.0\\t\\t\\t\\n323\\tRichard H. Truly\\t1969.0\\t7.0\\tRetired\\t1937-11-12\\tFayette, MS\\tMale\\tGeorgia Institute of Technology\\tAeronautical Engineering\\t\\tVice Admiral\\tUS Navy (Retired)\\t2\\t199\\t0\\t0.0\\tSTS-2 (Columbia), STS-8 (Challenger)\\t\\t\\n324\\tLodewijk van den Berg\\t\\t\\tRetired\\t1932-03-24\\tSluiskil, Netherlands\\tMale\\tDelft University of Technology; University of Delaware\\tChemical Engineering\\tApplied Science\\t\\t\\t1\\t168\\t0\\t0.0\\tSTS 51-B (Challenger)\\t\\t\\n325\\tJames D. van Hoften\\t1978.0\\t8.0\\tRetired\\t1944-06-11\\tFresno, CA\\tMale\\tUniversity of California-Berkeley; Colorado State University\\tCivil Engineering\\tHydraulic Engineering; Fluid Mechanics\\t\\t\\t2\\t338\\t4\\t22.0\\tSTS 41-C (Challenger), STS 51-I (Discovery)\\t\\t\\n326\\tMark T. Vande Hei\\t2009.0\\t20.0\\tActive\\t1966-11-10\\tFalls Church, VA\\tMale\\tSaint Johnâ€™s University; Stanford University\\tPhysics\\tApplied Physics\\tColonel\\tUS Army\\t0\\t0\\t0\\t0.0\\t\\t\\t\\n327\\tCharles Lacy Veach\\t1984.0\\t10.0\\tDeceased\\t1944-09-18\\tChicago, IL\\tMale\\tUS Air Force Academy\\tEngineering Management\\t\\t\\t\\t2\\t436\\t0\\t0.0\\tSTS-39 (Discovery), STS-52 (Columbia)\\t1995-10-03\\t\\n328\\tTerry W. Virts Jr. \\t2000.0\\t18.0\\tActive\\t1967-12-01\\tBaltimore, MD\\tMale\\tUS Air Force Academy; Embry-Riddle Aeronautical University\\tMathematics\\tAeronautics\\tColonel\\tUS Air Force\\t2\\t5122\\t3\\t18.0\\tSTS-130 (Endeavor), ISS-42/43 (Soyuz)\\t\\t\\n329\\tJames S. Voss\\t1987.0\\t12.0\\tRetired\\t1949-03-03\\tCordova, AL\\tMale\\tAuburn University; University of Colorado\\tAerospace Engineering\\tAerospace Engineering Sciences\\tColonel\\tUS Army (Retired)\\t5\\t4853\\t4\\t22.0\\tSTS-44 (Atlantis), STS-53 (Discovery), STS-69 (Endeavor), STS-101 (Atlantis), STS-102/105 (Discovery)\\t\\t\\n330\\tJanice E. Voss\\t1990.0\\t13.0\\tDeceased\\t1956-10-08\\tSouth Bend, IN\\tFemale\\tPurdue University; MIT\\tEngineering Science\\tElectrical Engineering; Aeronautics & Astronautics\\t\\t\\t5\\t1179\\t0\\t0.0\\tSTS-57 (Endeavor), STS-63 (Discovery), STS-83 (Columbia), STS-94 (Columbia), STS-99 (Endeavor)\\t2012-02-06\\t\\n331\\tRex J. Walheim\\t1996.0\\t16.0\\tActive\\t1962-10-10\\tRedwood, CA\\tMale\\tUniversity of California-Berkeley; University of Houston\\tMechanical Engineering\\tIndustrial Engineering\\tColonel\\tUS Air Force (Retired)\\t3\\t872\\t5\\t36.0\\tSTS-110 (Atlantis), STS-122 (Atlantis), STS-135 (Atlantis)\\t\\t\\n332\\tCharles D. Walker\\t\\t\\tRetired\\t1948-08-29\\tBedford, IN\\tMale\\tPurdue University\\tAeronautical & Astronautical Engineering\\t\\t\\t\\t3\\t477\\t0\\t0.0\\tSTS 41-D (Discovery), STS 51-D (Discovery), STS 61-B (Atlantis)\\t\\t\\n333\\tDavid M. Walker\\t1978.0\\t8.0\\tDeceased\\t1944-05-20\\tColumbus, GA\\tMale\\tUS Naval Academy\\tNaval Sciences\\t\\tCaptain\\tUS Navy (Retired)\\t4\\t724\\t0\\t0.0\\tSTS 51-A (Discovery), STS-30 (Atlantis), STS-53 (Discovery), STS-69 (Endeavor)\\t2001-04-23\\t\\n334\\tShannon Walker\\t2004.0\\t19.0\\tActive\\t1965-06-04\\tHouston, TX\\tFemale\\tRice University\\tSpace Physics\\tSpace Physics\\t\\t\\t1\\t3919\\t0\\t0.0\\tISS-24/25 (Soyuz)\\t\\t\\n335\\tCarl E. Walz\\t1990.0\\t13.0\\tRetired\\t1955-09-06\\tCleveland, OH\\tMale\\tKent State University; John Carroll University\\tPhysics\\tSolid State Physics\\tColonel\\tUS Air Force\\t4\\t5533\\t3\\t19.0\\tSTS-51 (Discovery), STS-65 (Columbia), STS-79 (Atlantis), STS-108/111 (Endeavor)\\t\\t\\n336\\tTaylor G. Wang\\t\\t\\tRetired\\t1940-06-16\\tJiangxi, China\\tMale\\tUniversity of California at Los Angeles\\tPhysics\\tPhysics\\t\\t\\t1\\t168\\t0\\t0.0\\tSTS 51-B (Challenger)\\t\\t\\n337\\tMary E. Weber\\t1992.0\\t14.0\\tRetired\\t1962-08-24\\tCleveland, OH\\tFemale\\tPurdue University; University of California-Berkeley\\tChemical Engineering\\tPhysical Chemistry\\t\\t\\t2\\t450\\t0\\t0.0\\tSTS-70 (Discovery), STS-101 (Atlantis)\\t\\t\\n338\\tPaul J. Weitz\\t1966.0\\t5.0\\tRetired\\t1932-06-25\\tErie, PA\\tMale\\tPennsylvania State University; US Naval Postgraduate School\\tAeronautical Engineering\\tAeronautical Engineering\\tCaptain\\tUS Navy (Retired)\\t2\\t793\\t1\\t2.0\\tSkylab 2, STS-6 (Challenger)\\t\\t\\n339\\tJames D. Wetherbee\\t1984.0\\t10.0\\tRetired\\t1952-11-27\\tFlushing, NY\\tMale\\tUniversity of Notre Dame\\tAerospace Engineering\\t\\tCaptain\\tUS Navy (Retired)\\t6\\t1594\\t0\\t0.0\\tSTS-32 (Columbia), STS-52 (Columbia), STS-63 (Discovery), STS-86 (Atlantis), STS-102 (Discovery), STS-113 (Endeavor)\\t\\t\\n340\\tDouglas H. Wheelock\\t1998.0\\t17.0\\tActive\\t1960-05-05\\tBinghamton, NY\\tMale\\tUS Military Academy; Georgia Institute of Technology\\tApplied Science & Engineering\\tAerospace Engineering\\tColonel\\tUS Army\\t2\\t4281\\t6\\t43.0\\tSTS-120 (Discovery), ISS-24/25 (Soyuz)\\t\\t\\n341\\tEdward H. White II \\t1962.0\\t2.0\\tDeceased\\t1930-11-14\\tSan Antonio, TX\\tMale\\tUS Military Academy; University of Michigan\\t\\tAeronautical Engineering\\tLieutenant Colonel\\tUS Air Force\\t2\\t97\\t1\\t0.5\\tGemini 4, Apollo 1\\t1967-01-27\\tApollo 1\\n342\\tPeggy A. Whitson\\t1996.0\\t16.0\\tActive\\t1960-02-09\\tMt. Ayr, IA\\tFemale\\tIowa Wesleyan College; Rice University\\tChemistry & Biology\\tBiochemistry\\t\\t\\t3\\t11698\\t7\\t46.0\\tSTS-111/113 (Endeavor), ISS-16 (Soyuz), ISS-50/51 (Soyuz)\\t\\t\\n343\\tTerrence W. Wilcutt\\t1990.0\\t13.0\\tManagement\\t1949-10-31\\tRussellville, KY\\tMale\\tWestern Kentucky University\\tMathematics\\t\\t\\t\\t4\\t1008\\t0\\t0.0\\tSTS-68 (Endeavor), STS-79 (Atlantis), STS-89 (Endeavor), STS-106 (Atlantis)\\t\\t\\n344\\tClifton C. Williams Jr. \\t1963.0\\t3.0\\tDeceased\\t1932-09-26\\tMobile, AL\\tMale\\tAuburn University\\tMechanical Engineering\\t\\tMajor\\tUS Marine Corps\\t0\\t0\\t0\\t0.0\\t\\t1967-10-05\\t\\n345\\tDonald E. Williams\\t1978.0\\t8.0\\tRetired\\t1958-02-13\\tLafayette, IN\\tMale\\tPurdue University\\tMechanical Engineering\\t\\tCaptain\\tUS Navy (Retired)\\t2\\t287\\t0\\t0.0\\tSTS 51-D (Discovery), STS-34 (Atlantis)\\t\\t\\n346\\tJeffrey N. Williams\\t1996.0\\t16.0\\tActive\\t1958-01-18\\tSuperior, WI\\tMale\\tUS Military Academy; US Naval Postgraduate School; US Naval War College\\tApplied Science & Engineering\\tAeronautical Engineering; National Security & Strategic Studies\\tColonel\\tUS Army (Retired)\\t4\\t12818\\t5\\t32.0\\tSTS-101 (Atlantis), ISS-13 (Soyuz), ISS-21/22 (Soyuz), ISS-47/48 (Soyuz)\\t\\t\\n347\\tSunita L. Williams\\t1998.0\\t17.0\\tActive\\t1965-09-19\\tEuclid, OH\\tFemale\\tUS Naval Academy; Florida Institute of Technology\\tPhysical Science\\tEngineering Management\\tCaptain\\tUS Navy\\t2\\t7721\\t7\\t50.0\\tSTS-116/117 (Discovery/Atlantis), ISS-32/33 (Soyuz)\\t\\t\\n348\\tBarry E. Wilmore\\t2000.0\\t18.0\\tActive\\t1962-12-29\\tMurfreesboro, TN\\tMale\\tTennessee Technological University; University of Tennessee\\tElectrical Engineering\\tElectrical Engineering; Aviation Systems\\tCaptain\\tUS Navy\\t2\\t4272\\t4\\t25.0\\tSTS-129 (Atlantis), ISS-41/42 (Soyuz)\\t\\t\\n349\\tStephanie D. Wilson\\t1996.0\\t16.0\\tActive\\t1966-09-27\\tBoston, MA\\tFemale\\tHarvard University; University of Texas\\tEngineering Science\\tAerospace Engineering\\t\\t\\t3\\t1031\\t0\\t0.0\\tSTS-121 (Discovery), STS-120 (Discovery), STS-131 (Discovery)\\t\\t\\n350\\tG. Reid Wiseman\\t2009.0\\t20.0\\tActive\\t1975-11-11\\tBaltimore, MD\\tMale\\tRensselaer Polytechnic Institute; Johns Hopkins University\\tComputer & Systems Engineering\\tSystems Engineering\\tCommander\\tUS Navy\\t1\\t3968\\t2\\t13.0\\tISS-40/41 (Soyuz)\\t\\t\\n351\\tPeter J. K. Wisoff\\t1990.0\\t13.0\\tRetired\\t1958-08-16\\tNorfolk, VA\\tMale\\tUniversity of Virginia; Stanford University\\tPhysics\\tApplied Physics\\t\\t\\t4\\t1064\\t3\\t20.0\\tSTS-57 (Endeavor), STS-68 (Endeavor), STS-81 (Atlantis), STS-92 (Discovery)\\t\\t\\n352\\tDavid A. Wolf\\t1990.0\\t13.0\\tRetired\\t1956-08-23\\tIndianapolis, IN\\tMale\\tPurdue University; Indiana University\\tElectrical Engineering\\tMedicine\\t\\t\\t3\\t4044\\t7\\t41.0\\tSTS-58 (Columbia). STS-86/89 (Atlantis/Endeavor), STS-112 (Atlantis), STS-127 (Endeavor)\\t\\t\\n353\\tNeil W. Woodward III \\t1998.0\\t17.0\\tRetired\\t1962-07-26\\tChicago, IL\\tMale\\tMIT; University of Texas-Austin; George Washington University\\tPhysics\\tPhysics; Business Management\\tCommander\\tUS Navy\\t0\\t0\\t0\\t0.0\\t\\t\\t\\n354\\tAlfred M. Worden\\t1966.0\\t5.0\\tRetired\\t1932-02-07\\tJackson, MI\\tMale\\tUS Military Academy; University of Michigan\\tMilitary Science\\tAeronautical & Astronautical Engineering\\tColonel\\tUS Air Force (Retired)\\t1\\t295\\t1\\t0.5\\tApollo 15\\t\\t\\n355\\tJohn W. Young\\t1962.0\\t2.0\\tRetired\\t1930-09-24\\tSan Francisco, CA\\tMale\\tGeorgia Institute of Technology\\tAeronautical Engineering\\t\\tCaptain\\tUS Navy (Retired)\\t6\\t835\\t3\\t20.0\\tGemini 3, Gemini 10, Apollo 10, Apollo 16, STS-1 (Columbia), STS-9 (Columbia)\\t\\t\\n356\\tGeorge D. Zamka\\t1998.0\\t17.0\\tRetired\\t1962-06-29\\tJersey City, NJ\\tMale\\tUS Naval Academy; Florida Institute of Technology\\tMathematics\\tEngineering Management\\tColonel\\tUS Marine Corps (Retired)\\t2\\t692\\t0\\t0.0\\tSTS-120 (Discovery), STS-130 (Endeavor)\\t\\t\\n\""
      ]
     },
     "execution_count": 53,
     "metadata": {},
     "output_type": "execute_result"
    }
   ],
   "source": [
    "astronaut.to_csv(index='false', sep='\\t')\n"
   ]
  },
  {
   "cell_type": "markdown",
   "metadata": {},
   "source": [
    "# Bonus Challenge - Fertility Dataset\n",
    "\n",
    "Visit the following [URL](https://archive.ics.uci.edu/ml/datasets/Fertility) and retrieve the dataset as well as the column headers. Determine the correct separator and read the file into a variable called `fertility`. Examine the dataframe using the `head()` function."
   ]
  },
  {
   "cell_type": "code",
   "execution_count": 15,
   "metadata": {
    "collapsed": true
   },
   "outputs": [],
   "source": [
    "#This URL has too many folders in the data base. Should we work with everything?\n",
    "\n"
   ]
  },
  {
   "cell_type": "code",
   "execution_count": null,
   "metadata": {
    "collapsed": true
   },
   "outputs": [],
   "source": []
  }
 ],
 "metadata": {
  "kernelspec": {
   "display_name": "Python 3",
   "language": "python",
   "name": "python3"
  },
  "language_info": {
   "codemirror_mode": {
    "name": "ipython",
    "version": 3
   },
   "file_extension": ".py",
   "mimetype": "text/x-python",
   "name": "python",
   "nbconvert_exporter": "python",
   "pygments_lexer": "ipython3",
   "version": "3.8.3"
  }
 },
 "nbformat": 4,
 "nbformat_minor": 2
}
